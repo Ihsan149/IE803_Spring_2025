{
  "cells": [
    {
      "cell_type": "markdown",
      "metadata": {
        "id": "ZbIvihxRm80P"
      },
      "source": [
        "# Advanced MLP\n",
        "- Advanced techniques for training neural networks\n",
        "    - Weight Initialization\n",
        "    - Nonlinearity (Activation function)\n",
        "    - Optimizers\n",
        "    - Batch Normalization\n",
        "    - Dropout (Regularization)\n",
        "    - Model Ensemble"
      ]
    },
    {
      "cell_type": "code",
      "execution_count": 1,
      "metadata": {
        "id": "W12bh526m80Q"
      },
      "outputs": [],
      "source": [
        "import matplotlib.pyplot as plt\n",
        "\n",
        "from sklearn.model_selection import train_test_split\n",
        "from tensorflow.keras.datasets import mnist\n",
        "from tensorflow.keras.models import Sequential\n",
        "from tensorflow.keras.utils import to_categorical"
      ]
    },
    {
      "cell_type": "markdown",
      "metadata": {
        "id": "1m-pC5sOm80U"
      },
      "source": [
        "## Load Dataset\n",
        "- MNIST dataset\n",
        "- source: http://yann.lecun.com/exdb/mnist/"
      ]
    },
    {
      "cell_type": "code",
      "execution_count": 2,
      "metadata": {
        "id": "fH78vu3rm80V",
        "outputId": "fe57446c-f171-4fc8-c8bb-3018e5ac8c7c",
        "colab": {
          "base_uri": "https://localhost:8080/"
        }
      },
      "outputs": [
        {
          "output_type": "stream",
          "name": "stdout",
          "text": [
            "Downloading data from https://storage.googleapis.com/tensorflow/tf-keras-datasets/mnist.npz\n",
            "\u001b[1m11490434/11490434\u001b[0m \u001b[32m━━━━━━━━━━━━━━━━━━━━\u001b[0m\u001b[37m\u001b[0m \u001b[1m0s\u001b[0m 0us/step\n"
          ]
        }
      ],
      "source": [
        "(X_train, y_train), (X_test, y_test) = mnist.load_data()"
      ]
    },
    {
      "cell_type": "code",
      "execution_count": 3,
      "metadata": {
        "colab": {
          "base_uri": "https://localhost:8080/",
          "height": 447
        },
        "id": "RroxZgNjm80Y",
        "outputId": "0fb448de-2995-4577-a329-d87b0511baff"
      },
      "outputs": [
        {
          "output_type": "display_data",
          "data": {
            "text/plain": [
              "<Figure size 640x480 with 1 Axes>"
            ],
            "image/png": "[encoded data removed]"
          },
          "metadata": {}
        },
        {
          "output_type": "stream",
          "name": "stdout",
          "text": [
            "Label:  5\n"
          ]
        }
      ],
      "source": [
        "plt.imshow(X_train[0])    # show first number in the dataset\n",
        "plt.show()\n",
        "print('Label: ', y_train[0])"
      ]
    },
    {
      "cell_type": "code",
      "execution_count": 4,
      "metadata": {
        "colab": {
          "base_uri": "https://localhost:8080/",
          "height": 447
        },
        "id": "bGgToRjIm80c",
        "outputId": "56e096e2-40a1-438a-f26a-bec1030d5ae6"
      },
      "outputs": [
        {
          "output_type": "display_data",
          "data": {
            "text/plain": [
              "<Figure size 640x480 with 1 Axes>"
            ],
            "image/png": "[encoded data removed]"
          },
          "metadata": {}
        },
        {
          "output_type": "stream",
          "name": "stdout",
          "text": [
            "Label:  7\n"
          ]
        }
      ],
      "source": [
        "plt.imshow(X_test[0])    # show first number in the dataset\n",
        "plt.show()\n",
        "print('Label: ', y_test[0])"
      ]
    },
    {
      "cell_type": "code",
      "execution_count": 5,
      "metadata": {
        "id": "cKDggu2Gm80f"
      },
      "outputs": [],
      "source": [
        "# reshaping X data: (n, 28, 28) => (n, 784)\n",
        "X_train = X_train.reshape((X_train.shape[0], -1))\n",
        "X_test = X_test.reshape((X_test.shape[0], -1))"
      ]
    },
    {
      "cell_type": "code",
      "execution_count": 6,
      "metadata": {
        "id": "MUFEC2K_m80k"
      },
      "outputs": [],
      "source": [
        "# converting y data into categorical (one-hot encoding)\n",
        "y_train = to_categorical(y_train)\n",
        "y_test = to_categorical(y_test)"
      ]
    },
    {
      "cell_type": "code",
      "execution_count": 7,
      "metadata": {
        "colab": {
          "base_uri": "https://localhost:8080/"
        },
        "id": "Y1D9nxJ_m80m",
        "outputId": "8d03ceea-f7ff-4f84-9b2e-6f3a7f694942"
      },
      "outputs": [
        {
          "output_type": "stream",
          "name": "stdout",
          "text": [
            "(60000, 784) (10000, 784) (60000, 10) (10000, 10)\n"
          ]
        }
      ],
      "source": [
        "print(X_train.shape, X_test.shape, y_train.shape, y_test.shape)"
      ]
    },
    {
      "cell_type": "markdown",
      "metadata": {
        "id": "X7X7pN-Sm80p"
      },
      "source": [
        "## Basic MLP model\n",
        "- Naive MLP model without any alterations"
      ]
    },
    {
      "cell_type": "code",
      "execution_count": 8,
      "metadata": {
        "id": "OPUXkSYmm80p"
      },
      "outputs": [],
      "source": [
        "from tensorflow.keras.models import Sequential\n",
        "from tensorflow.keras.layers import Activation, Dense\n",
        "from tensorflow.keras import optimizers\n",
        "from tensorflow.keras import"
      ]
    },
    {
      "cell_type": "code",
      "execution_count": 9,
      "metadata": {
        "id": "b32x9pvIm80r"
      },
      "outputs": [],
      "source": [
        "model = Sequential()"
      ]
    },
    {
      "cell_type": "code",
      "execution_count": 12,
      "metadata": {
        "id": "XPnz8u9ym80u",
        "outputId": "6ad979cc-ec67-4672-8c7b-0bf6dcac3c1b",
        "colab": {
          "base_uri": "https://localhost:8080/"
        }
      },
      "outputs": [
        {
          "output_type": "stream",
          "name": "stderr",
          "text": [
            "/usr/local/lib/python3.11/dist-packages/keras/src/layers/core/dense.py:87: UserWarning: Do not pass an `input_shape`/`input_dim` argument to a layer. When using Sequential models, prefer using an `Input(shape)` object as the first layer in the model instead.\n",
            "  super().__init__(activity_regularizer=activity_regularizer, **kwargs)\n"
          ]
        }
      ],
      "source": [
        "model.add(Dense(50, input_shape = (784, )))\n",
        "model.add(Activation('sigmoid'))\n",
        "model.add(Dense(50))\n",
        "model.add(Activation('sigmoid'))\n",
        "model.add(Dense(50))\n",
        "model.add(Activation('sigmoid'))\n",
        "model.add(Dense(50))\n",
        "model.add(Activation('sigmoid'))\n",
        "model.add(Dense(10))\n",
        "model.add(Activation('softmax'))"
      ]
    },
    {
      "cell_type": "code",
      "execution_count": 13,
      "metadata": {
        "id": "ua5rjdGYm80y"
      },
      "outputs": [],
      "source": [
        "sgd = optimizers.SGD(learning_rate = 0.001)\n",
        "model.compile(optimizer = sgd, loss = 'categorical_crossentropy', metrics = ['accuracy'])"
      ]
    },
    {
      "cell_type": "code",
      "execution_count": 14,
      "metadata": {
        "colab": {
          "base_uri": "https://localhost:8080/"
        },
        "id": "Lj23wJ2lm800",
        "outputId": "d0f9bf42-be70-45e2-b17d-5cacd6f75643"
      },
      "outputs": [
        {
          "output_type": "stream",
          "name": "stdout",
          "text": [
            "Epoch 1/100\n",
            "\u001b[1m165/165\u001b[0m \u001b[32m━━━━━━━━━━━━━━━━━━━━\u001b[0m\u001b[37m\u001b[0m \u001b[1m3s\u001b[0m 9ms/step - accuracy: 0.1015 - loss: 2.4783 - val_accuracy: 0.1075 - val_loss: 2.4270\n",
            "Epoch 2/100\n",
            "\u001b[1m165/165\u001b[0m \u001b[32m━━━━━━━━━━━━━━━━━━━━\u001b[0m\u001b[37m\u001b[0m \u001b[1m2s\u001b[0m 7ms/step - accuracy: 0.1025 - loss: 2.4130 - val_accuracy: 0.1075 - val_loss: 2.3868\n",
            "Epoch 3/100\n",
            "\u001b[1m165/165\u001b[0m \u001b[32m━━━━━━━━━━━━━━━━━━━━\u001b[0m\u001b[37m\u001b[0m \u001b[1m1s\u001b[0m 6ms/step - accuracy: 0.1060 - loss: 2.3767 - val_accuracy: 0.1075 - val_loss: 2.3597\n",
            "Epoch 4/100\n",
            "\u001b[1m165/165\u001b[0m \u001b[32m━━━━━━━━━━━━━━━━━━━━\u001b[0m\u001b[37m\u001b[0m \u001b[1m2s\u001b[0m 10ms/step - accuracy: 0.1016 - loss: 2.3539 - val_accuracy: 0.1075 - val_loss: 2.3412\n",
            "Epoch 5/100\n",
            "\u001b[1m165/165\u001b[0m \u001b[32m━━━━━━━━━━━━━━━━━━━━\u001b[0m\u001b[37m\u001b[0m \u001b[1m2s\u001b[0m 9ms/step - accuracy: 0.1029 - loss: 2.3362 - val_accuracy: 0.1075 - val_loss: 2.3285\n",
            "Epoch 6/100\n",
            "\u001b[1m165/165\u001b[0m \u001b[32m━━━━━━━━━━━━━━━━━━━━\u001b[0m\u001b[37m\u001b[0m \u001b[1m2s\u001b[0m 6ms/step - accuracy: 0.1043 - loss: 2.3232 - val_accuracy: 0.1075 - val_loss: 2.3199\n",
            "Epoch 7/100\n",
            "\u001b[1m165/165\u001b[0m \u001b[32m━━━━━━━━━━━━━━━━━━━━\u001b[0m\u001b[37m\u001b[0m \u001b[1m1s\u001b[0m 7ms/step - accuracy: 0.1035 - loss: 2.3167 - val_accuracy: 0.1075 - val_loss: 2.3140\n",
            "Epoch 8/100\n",
            "\u001b[1m165/165\u001b[0m \u001b[32m━━━━━━━━━━━━━━━━━━━━\u001b[0m\u001b[37m\u001b[0m \u001b[1m1s\u001b[0m 6ms/step - accuracy: 0.1019 - loss: 2.3121 - val_accuracy: 0.1075 - val_loss: 2.3100\n",
            "Epoch 9/100\n",
            "\u001b[1m165/165\u001b[0m \u001b[32m━━━━━━━━━━━━━━━━━━━━\u001b[0m\u001b[37m\u001b[0m \u001b[1m1s\u001b[0m 6ms/step - accuracy: 0.1027 - loss: 2.3076 - val_accuracy: 0.1075 - val_loss: 2.3073\n",
            "Epoch 10/100\n",
            "\u001b[1m165/165\u001b[0m \u001b[32m━━━━━━━━━━━━━━━━━━━━\u001b[0m\u001b[37m\u001b[0m \u001b[1m1s\u001b[0m 6ms/step - accuracy: 0.1044 - loss: 2.3048 - val_accuracy: 0.1075 - val_loss: 2.3055\n",
            "Epoch 11/100\n",
            "\u001b[1m165/165\u001b[0m \u001b[32m━━━━━━━━━━━━━━━━━━━━\u001b[0m\u001b[37m\u001b[0m \u001b[1m1s\u001b[0m 7ms/step - accuracy: 0.1171 - loss: 2.3034 - val_accuracy: 0.1079 - val_loss: 2.3043\n",
            "Epoch 12/100\n",
            "\u001b[1m165/165\u001b[0m \u001b[32m━━━━━━━━━━━━━━━━━━━━\u001b[0m\u001b[37m\u001b[0m \u001b[1m1s\u001b[0m 6ms/step - accuracy: 0.1149 - loss: 2.3026 - val_accuracy: 0.1079 - val_loss: 2.3034\n",
            "Epoch 13/100\n",
            "\u001b[1m165/165\u001b[0m \u001b[32m━━━━━━━━━━━━━━━━━━━━\u001b[0m\u001b[37m\u001b[0m \u001b[1m1s\u001b[0m 8ms/step - accuracy: 0.1129 - loss: 2.3023 - val_accuracy: 0.1079 - val_loss: 2.3030\n",
            "Epoch 14/100\n",
            "\u001b[1m165/165\u001b[0m \u001b[32m━━━━━━━━━━━━━━━━━━━━\u001b[0m\u001b[37m\u001b[0m \u001b[1m2s\u001b[0m 12ms/step - accuracy: 0.1147 - loss: 2.3017 - val_accuracy: 0.1079 - val_loss: 2.3026\n",
            "Epoch 15/100\n",
            "\u001b[1m165/165\u001b[0m \u001b[32m━━━━━━━━━━━━━━━━━━━━\u001b[0m\u001b[37m\u001b[0m \u001b[1m1s\u001b[0m 6ms/step - accuracy: 0.1161 - loss: 2.3013 - val_accuracy: 0.1079 - val_loss: 2.3024\n",
            "Epoch 16/100\n",
            "\u001b[1m165/165\u001b[0m \u001b[32m━━━━━━━━━━━━━━━━━━━━\u001b[0m\u001b[37m\u001b[0m \u001b[1m1s\u001b[0m 7ms/step - accuracy: 0.1127 - loss: 2.3014 - val_accuracy: 0.1079 - val_loss: 2.3022\n",
            "Epoch 17/100\n",
            "\u001b[1m165/165\u001b[0m \u001b[32m━━━━━━━━━━━━━━━━━━━━\u001b[0m\u001b[37m\u001b[0m \u001b[1m1s\u001b[0m 7ms/step - accuracy: 0.1136 - loss: 2.3014 - val_accuracy: 0.1079 - val_loss: 2.3021\n",
            "Epoch 18/100\n",
            "\u001b[1m165/165\u001b[0m \u001b[32m━━━━━━━━━━━━━━━━━━━━\u001b[0m\u001b[37m\u001b[0m \u001b[1m1s\u001b[0m 6ms/step - accuracy: 0.1166 - loss: 2.3007 - val_accuracy: 0.1079 - val_loss: 2.3020\n",
            "Epoch 19/100\n",
            "\u001b[1m165/165\u001b[0m \u001b[32m━━━━━━━━━━━━━━━━━━━━\u001b[0m\u001b[37m\u001b[0m \u001b[1m1s\u001b[0m 6ms/step - accuracy: 0.1157 - loss: 2.3010 - val_accuracy: 0.1079 - val_loss: 2.3020\n",
            "Epoch 20/100\n",
            "\u001b[1m165/165\u001b[0m \u001b[32m━━━━━━━━━━━━━━━━━━━━\u001b[0m\u001b[37m\u001b[0m \u001b[1m1s\u001b[0m 6ms/step - accuracy: 0.1163 - loss: 2.3006 - val_accuracy: 0.1079 - val_loss: 2.3020\n",
            "Epoch 21/100\n",
            "\u001b[1m165/165\u001b[0m \u001b[32m━━━━━━━━━━━━━━━━━━━━\u001b[0m\u001b[37m\u001b[0m \u001b[1m1s\u001b[0m 6ms/step - accuracy: 0.1155 - loss: 2.3006 - val_accuracy: 0.1079 - val_loss: 2.3020\n",
            "Epoch 22/100\n",
            "\u001b[1m165/165\u001b[0m \u001b[32m━━━━━━━━━━━━━━━━━━━━\u001b[0m\u001b[37m\u001b[0m \u001b[1m1s\u001b[0m 7ms/step - accuracy: 0.1142 - loss: 2.3009 - val_accuracy: 0.1079 - val_loss: 2.3019\n",
            "Epoch 23/100\n",
            "\u001b[1m165/165\u001b[0m \u001b[32m━━━━━━━━━━━━━━━━━━━━\u001b[0m\u001b[37m\u001b[0m \u001b[1m2s\u001b[0m 10ms/step - accuracy: 0.1145 - loss: 2.3008 - val_accuracy: 0.1079 - val_loss: 2.3019\n",
            "Epoch 24/100\n",
            "\u001b[1m165/165\u001b[0m \u001b[32m━━━━━━━━━━━━━━━━━━━━\u001b[0m\u001b[37m\u001b[0m \u001b[1m1s\u001b[0m 9ms/step - accuracy: 0.1139 - loss: 2.3008 - val_accuracy: 0.1079 - val_loss: 2.3019\n",
            "Epoch 25/100\n",
            "\u001b[1m165/165\u001b[0m \u001b[32m━━━━━━━━━━━━━━━━━━━━\u001b[0m\u001b[37m\u001b[0m \u001b[1m1s\u001b[0m 7ms/step - accuracy: 0.1165 - loss: 2.3008 - val_accuracy: 0.1079 - val_loss: 2.3019\n",
            "Epoch 26/100\n",
            "\u001b[1m165/165\u001b[0m \u001b[32m━━━━━━━━━━━━━━━━━━━━\u001b[0m\u001b[37m\u001b[0m \u001b[1m1s\u001b[0m 6ms/step - accuracy: 0.1111 - loss: 2.3013 - val_accuracy: 0.1079 - val_loss: 2.3019\n",
            "Epoch 27/100\n",
            "\u001b[1m165/165\u001b[0m \u001b[32m━━━━━━━━━━━━━━━━━━━━\u001b[0m\u001b[37m\u001b[0m \u001b[1m1s\u001b[0m 6ms/step - accuracy: 0.1128 - loss: 2.3015 - val_accuracy: 0.1079 - val_loss: 2.3019\n",
            "Epoch 28/100\n",
            "\u001b[1m165/165\u001b[0m \u001b[32m━━━━━━━━━━━━━━━━━━━━\u001b[0m\u001b[37m\u001b[0m \u001b[1m1s\u001b[0m 6ms/step - accuracy: 0.1144 - loss: 2.3010 - val_accuracy: 0.1079 - val_loss: 2.3019\n",
            "Epoch 29/100\n",
            "\u001b[1m165/165\u001b[0m \u001b[32m━━━━━━━━━━━━━━━━━━━━\u001b[0m\u001b[37m\u001b[0m \u001b[1m1s\u001b[0m 7ms/step - accuracy: 0.1150 - loss: 2.3011 - val_accuracy: 0.1079 - val_loss: 2.3019\n",
            "Epoch 30/100\n",
            "\u001b[1m165/165\u001b[0m \u001b[32m━━━━━━━━━━━━━━━━━━━━\u001b[0m\u001b[37m\u001b[0m \u001b[1m1s\u001b[0m 7ms/step - accuracy: 0.1120 - loss: 2.3015 - val_accuracy: 0.1079 - val_loss: 2.3019\n",
            "Epoch 31/100\n",
            "\u001b[1m165/165\u001b[0m \u001b[32m━━━━━━━━━━━━━━━━━━━━\u001b[0m\u001b[37m\u001b[0m \u001b[1m1s\u001b[0m 6ms/step - accuracy: 0.1139 - loss: 2.3008 - val_accuracy: 0.1079 - val_loss: 2.3019\n",
            "Epoch 32/100\n",
            "\u001b[1m165/165\u001b[0m \u001b[32m━━━━━━━━━━━━━━━━━━━━\u001b[0m\u001b[37m\u001b[0m \u001b[1m1s\u001b[0m 7ms/step - accuracy: 0.1154 - loss: 2.3008 - val_accuracy: 0.1079 - val_loss: 2.3019\n",
            "Epoch 33/100\n",
            "\u001b[1m165/165\u001b[0m \u001b[32m━━━━━━━━━━━━━━━━━━━━\u001b[0m\u001b[37m\u001b[0m \u001b[1m2s\u001b[0m 9ms/step - accuracy: 0.1138 - loss: 2.3008 - val_accuracy: 0.1079 - val_loss: 2.3018\n",
            "Epoch 34/100\n",
            "\u001b[1m165/165\u001b[0m \u001b[32m━━━━━━━━━━━━━━━━━━━━\u001b[0m\u001b[37m\u001b[0m \u001b[1m2s\u001b[0m 7ms/step - accuracy: 0.1133 - loss: 2.3007 - val_accuracy: 0.1079 - val_loss: 2.3019\n",
            "Epoch 35/100\n",
            "\u001b[1m165/165\u001b[0m \u001b[32m━━━━━━━━━━━━━━━━━━━━\u001b[0m\u001b[37m\u001b[0m \u001b[1m1s\u001b[0m 6ms/step - accuracy: 0.1136 - loss: 2.3011 - val_accuracy: 0.1079 - val_loss: 2.3019\n",
            "Epoch 36/100\n",
            "\u001b[1m165/165\u001b[0m \u001b[32m━━━━━━━━━━━━━━━━━━━━\u001b[0m\u001b[37m\u001b[0m \u001b[1m1s\u001b[0m 6ms/step - accuracy: 0.1133 - loss: 2.3008 - val_accuracy: 0.1079 - val_loss: 2.3019\n",
            "Epoch 37/100\n",
            "\u001b[1m165/165\u001b[0m \u001b[32m━━━━━━━━━━━━━━━━━━━━\u001b[0m\u001b[37m\u001b[0m \u001b[1m1s\u001b[0m 7ms/step - accuracy: 0.1163 - loss: 2.3008 - val_accuracy: 0.1079 - val_loss: 2.3019\n",
            "Epoch 38/100\n",
            "\u001b[1m165/165\u001b[0m \u001b[32m━━━━━━━━━━━━━━━━━━━━\u001b[0m\u001b[37m\u001b[0m \u001b[1m1s\u001b[0m 6ms/step - accuracy: 0.1183 - loss: 2.3003 - val_accuracy: 0.1079 - val_loss: 2.3019\n",
            "Epoch 39/100\n",
            "\u001b[1m165/165\u001b[0m \u001b[32m━━━━━━━━━━━━━━━━━━━━\u001b[0m\u001b[37m\u001b[0m \u001b[1m1s\u001b[0m 6ms/step - accuracy: 0.1135 - loss: 2.3009 - val_accuracy: 0.1079 - val_loss: 2.3019\n",
            "Epoch 40/100\n",
            "\u001b[1m165/165\u001b[0m \u001b[32m━━━━━━━━━━━━━━━━━━━━\u001b[0m\u001b[37m\u001b[0m \u001b[1m1s\u001b[0m 6ms/step - accuracy: 0.1102 - loss: 2.3015 - val_accuracy: 0.1079 - val_loss: 2.3019\n",
            "Epoch 41/100\n",
            "\u001b[1m165/165\u001b[0m \u001b[32m━━━━━━━━━━━━━━━━━━━━\u001b[0m\u001b[37m\u001b[0m \u001b[1m1s\u001b[0m 6ms/step - accuracy: 0.1144 - loss: 2.3009 - val_accuracy: 0.1079 - val_loss: 2.3019\n",
            "Epoch 42/100\n",
            "\u001b[1m165/165\u001b[0m \u001b[32m━━━━━━━━━━━━━━━━━━━━\u001b[0m\u001b[37m\u001b[0m \u001b[1m2s\u001b[0m 10ms/step - accuracy: 0.1134 - loss: 2.3009 - val_accuracy: 0.1079 - val_loss: 2.3019\n",
            "Epoch 43/100\n",
            "\u001b[1m165/165\u001b[0m \u001b[32m━━━━━━━━━━━━━━━━━━━━\u001b[0m\u001b[37m\u001b[0m \u001b[1m2s\u001b[0m 10ms/step - accuracy: 0.1147 - loss: 2.3009 - val_accuracy: 0.1079 - val_loss: 2.3019\n",
            "Epoch 44/100\n",
            "\u001b[1m165/165\u001b[0m \u001b[32m━━━━━━━━━━━━━━━━━━━━\u001b[0m\u001b[37m\u001b[0m \u001b[1m2s\u001b[0m 7ms/step - accuracy: 0.1127 - loss: 2.3014 - val_accuracy: 0.1079 - val_loss: 2.3019\n",
            "Epoch 45/100\n",
            "\u001b[1m165/165\u001b[0m \u001b[32m━━━━━━━━━━━━━━━━━━━━\u001b[0m\u001b[37m\u001b[0m \u001b[1m1s\u001b[0m 6ms/step - accuracy: 0.1152 - loss: 2.3008 - val_accuracy: 0.1079 - val_loss: 2.3019\n",
            "Epoch 46/100\n",
            "\u001b[1m165/165\u001b[0m \u001b[32m━━━━━━━━━━━━━━━━━━━━\u001b[0m\u001b[37m\u001b[0m \u001b[1m1s\u001b[0m 7ms/step - accuracy: 0.1103 - loss: 2.3012 - val_accuracy: 0.1079 - val_loss: 2.3019\n",
            "Epoch 47/100\n",
            "\u001b[1m165/165\u001b[0m \u001b[32m━━━━━━━━━━━━━━━━━━━━\u001b[0m\u001b[37m\u001b[0m \u001b[1m1s\u001b[0m 6ms/step - accuracy: 0.1136 - loss: 2.3010 - val_accuracy: 0.1079 - val_loss: 2.3019\n",
            "Epoch 48/100\n",
            "\u001b[1m165/165\u001b[0m \u001b[32m━━━━━━━━━━━━━━━━━━━━\u001b[0m\u001b[37m\u001b[0m \u001b[1m1s\u001b[0m 6ms/step - accuracy: 0.1128 - loss: 2.3012 - val_accuracy: 0.1079 - val_loss: 2.3019\n",
            "Epoch 49/100\n",
            "\u001b[1m165/165\u001b[0m \u001b[32m━━━━━━━━━━━━━━━━━━━━\u001b[0m\u001b[37m\u001b[0m \u001b[1m1s\u001b[0m 7ms/step - accuracy: 0.1116 - loss: 2.3013 - val_accuracy: 0.1079 - val_loss: 2.3019\n",
            "Epoch 50/100\n",
            "\u001b[1m165/165\u001b[0m \u001b[32m━━━━━━━━━━━━━━━━━━━━\u001b[0m\u001b[37m\u001b[0m \u001b[1m1s\u001b[0m 7ms/step - accuracy: 0.1143 - loss: 2.3012 - val_accuracy: 0.1079 - val_loss: 2.3019\n",
            "Epoch 51/100\n",
            "\u001b[1m165/165\u001b[0m \u001b[32m━━━━━━━━━━━━━━━━━━━━\u001b[0m\u001b[37m\u001b[0m \u001b[1m2s\u001b[0m 12ms/step - accuracy: 0.1121 - loss: 2.3013 - val_accuracy: 0.1079 - val_loss: 2.3019\n",
            "Epoch 52/100\n",
            "\u001b[1m165/165\u001b[0m \u001b[32m━━━━━━━━━━━━━━━━━━━━\u001b[0m\u001b[37m\u001b[0m \u001b[1m2s\u001b[0m 7ms/step - accuracy: 0.1161 - loss: 2.3007 - val_accuracy: 0.1079 - val_loss: 2.3019\n",
            "Epoch 53/100\n",
            "\u001b[1m165/165\u001b[0m \u001b[32m━━━━━━━━━━━━━━━━━━━━\u001b[0m\u001b[37m\u001b[0m \u001b[1m1s\u001b[0m 6ms/step - accuracy: 0.1114 - loss: 2.3012 - val_accuracy: 0.1079 - val_loss: 2.3019\n",
            "Epoch 54/100\n",
            "\u001b[1m165/165\u001b[0m \u001b[32m━━━━━━━━━━━━━━━━━━━━\u001b[0m\u001b[37m\u001b[0m \u001b[1m1s\u001b[0m 7ms/step - accuracy: 0.1145 - loss: 2.3011 - val_accuracy: 0.1079 - val_loss: 2.3019\n",
            "Epoch 55/100\n",
            "\u001b[1m165/165\u001b[0m \u001b[32m━━━━━━━━━━━━━━━━━━━━\u001b[0m\u001b[37m\u001b[0m \u001b[1m1s\u001b[0m 6ms/step - accuracy: 0.1150 - loss: 2.3011 - val_accuracy: 0.1079 - val_loss: 2.3019\n",
            "Epoch 56/100\n",
            "\u001b[1m165/165\u001b[0m \u001b[32m━━━━━━━━━━━━━━━━━━━━\u001b[0m\u001b[37m\u001b[0m \u001b[1m1s\u001b[0m 7ms/step - accuracy: 0.1146 - loss: 2.3008 - val_accuracy: 0.1079 - val_loss: 2.3019\n",
            "Epoch 57/100\n",
            "\u001b[1m165/165\u001b[0m \u001b[32m━━━━━━━━━━━━━━━━━━━━\u001b[0m\u001b[37m\u001b[0m \u001b[1m1s\u001b[0m 7ms/step - accuracy: 0.1141 - loss: 2.3008 - val_accuracy: 0.1079 - val_loss: 2.3019\n",
            "Epoch 58/100\n",
            "\u001b[1m165/165\u001b[0m \u001b[32m━━━━━━━━━━━━━━━━━━━━\u001b[0m\u001b[37m\u001b[0m \u001b[1m1s\u001b[0m 7ms/step - accuracy: 0.1115 - loss: 2.3014 - val_accuracy: 0.1079 - val_loss: 2.3019\n",
            "Epoch 59/100\n",
            "\u001b[1m165/165\u001b[0m \u001b[32m━━━━━━━━━━━━━━━━━━━━\u001b[0m\u001b[37m\u001b[0m \u001b[1m1s\u001b[0m 7ms/step - accuracy: 0.1154 - loss: 2.3006 - val_accuracy: 0.1079 - val_loss: 2.3019\n",
            "Epoch 60/100\n",
            "\u001b[1m165/165\u001b[0m \u001b[32m━━━━━━━━━━━━━━━━━━━━\u001b[0m\u001b[37m\u001b[0m \u001b[1m2s\u001b[0m 10ms/step - accuracy: 0.1160 - loss: 2.3005 - val_accuracy: 0.1079 - val_loss: 2.3019\n",
            "Epoch 61/100\n",
            "\u001b[1m165/165\u001b[0m \u001b[32m━━━━━━━━━━━━━━━━━━━━\u001b[0m\u001b[37m\u001b[0m \u001b[1m1s\u001b[0m 8ms/step - accuracy: 0.1170 - loss: 2.3006 - val_accuracy: 0.1079 - val_loss: 2.3019\n",
            "Epoch 62/100\n",
            "\u001b[1m165/165\u001b[0m \u001b[32m━━━━━━━━━━━━━━━━━━━━\u001b[0m\u001b[37m\u001b[0m \u001b[1m1s\u001b[0m 6ms/step - accuracy: 0.1148 - loss: 2.3010 - val_accuracy: 0.1079 - val_loss: 2.3018\n",
            "Epoch 63/100\n",
            "\u001b[1m165/165\u001b[0m \u001b[32m━━━━━━━━━━━━━━━━━━━━\u001b[0m\u001b[37m\u001b[0m \u001b[1m1s\u001b[0m 7ms/step - accuracy: 0.1146 - loss: 2.3010 - val_accuracy: 0.1079 - val_loss: 2.3018\n",
            "Epoch 64/100\n",
            "\u001b[1m165/165\u001b[0m \u001b[32m━━━━━━━━━━━━━━━━━━━━\u001b[0m\u001b[37m\u001b[0m \u001b[1m1s\u001b[0m 7ms/step - accuracy: 0.1158 - loss: 2.3006 - val_accuracy: 0.1079 - val_loss: 2.3018\n",
            "Epoch 65/100\n",
            "\u001b[1m165/165\u001b[0m \u001b[32m━━━━━━━━━━━━━━━━━━━━\u001b[0m\u001b[37m\u001b[0m \u001b[1m1s\u001b[0m 7ms/step - accuracy: 0.1124 - loss: 2.3012 - val_accuracy: 0.1079 - val_loss: 2.3019\n",
            "Epoch 66/100\n",
            "\u001b[1m165/165\u001b[0m \u001b[32m━━━━━━━━━━━━━━━━━━━━\u001b[0m\u001b[37m\u001b[0m \u001b[1m1s\u001b[0m 7ms/step - accuracy: 0.1134 - loss: 2.3009 - val_accuracy: 0.1079 - val_loss: 2.3019\n",
            "Epoch 67/100\n",
            "\u001b[1m165/165\u001b[0m \u001b[32m━━━━━━━━━━━━━━━━━━━━\u001b[0m\u001b[37m\u001b[0m \u001b[1m1s\u001b[0m 7ms/step - accuracy: 0.1163 - loss: 2.3004 - val_accuracy: 0.1079 - val_loss: 2.3019\n",
            "Epoch 68/100\n",
            "\u001b[1m165/165\u001b[0m \u001b[32m━━━━━━━━━━━━━━━━━━━━\u001b[0m\u001b[37m\u001b[0m \u001b[1m2s\u001b[0m 9ms/step - accuracy: 0.1151 - loss: 2.3011 - val_accuracy: 0.1079 - val_loss: 2.3019\n",
            "Epoch 69/100\n",
            "\u001b[1m165/165\u001b[0m \u001b[32m━━━━━━━━━━━━━━━━━━━━\u001b[0m\u001b[37m\u001b[0m \u001b[1m2s\u001b[0m 11ms/step - accuracy: 0.1153 - loss: 2.3009 - val_accuracy: 0.1079 - val_loss: 2.3018\n",
            "Epoch 70/100\n",
            "\u001b[1m165/165\u001b[0m \u001b[32m━━━━━━━━━━━━━━━━━━━━\u001b[0m\u001b[37m\u001b[0m \u001b[1m2s\u001b[0m 9ms/step - accuracy: 0.1135 - loss: 2.3011 - val_accuracy: 0.1079 - val_loss: 2.3019\n",
            "Epoch 71/100\n",
            "\u001b[1m165/165\u001b[0m \u001b[32m━━━━━━━━━━━━━━━━━━━━\u001b[0m\u001b[37m\u001b[0m \u001b[1m1s\u001b[0m 6ms/step - accuracy: 0.1138 - loss: 2.3008 - val_accuracy: 0.1079 - val_loss: 2.3019\n",
            "Epoch 72/100\n",
            "\u001b[1m165/165\u001b[0m \u001b[32m━━━━━━━━━━━━━━━━━━━━\u001b[0m\u001b[37m\u001b[0m \u001b[1m1s\u001b[0m 6ms/step - accuracy: 0.1146 - loss: 2.3006 - val_accuracy: 0.1079 - val_loss: 2.3019\n",
            "Epoch 73/100\n",
            "\u001b[1m165/165\u001b[0m \u001b[32m━━━━━━━━━━━━━━━━━━━━\u001b[0m\u001b[37m\u001b[0m \u001b[1m1s\u001b[0m 6ms/step - accuracy: 0.1133 - loss: 2.3014 - val_accuracy: 0.1079 - val_loss: 2.3019\n",
            "Epoch 74/100\n",
            "\u001b[1m165/165\u001b[0m \u001b[32m━━━━━━━━━━━━━━━━━━━━\u001b[0m\u001b[37m\u001b[0m \u001b[1m1s\u001b[0m 7ms/step - accuracy: 0.1142 - loss: 2.3008 - val_accuracy: 0.1079 - val_loss: 2.3019\n",
            "Epoch 75/100\n",
            "\u001b[1m165/165\u001b[0m \u001b[32m━━━━━━━━━━━━━━━━━━━━\u001b[0m\u001b[37m\u001b[0m \u001b[1m1s\u001b[0m 7ms/step - accuracy: 0.1144 - loss: 2.3008 - val_accuracy: 0.1079 - val_loss: 2.3019\n",
            "Epoch 76/100\n",
            "\u001b[1m165/165\u001b[0m \u001b[32m━━━━━━━━━━━━━━━━━━━━\u001b[0m\u001b[37m\u001b[0m \u001b[1m1s\u001b[0m 7ms/step - accuracy: 0.1150 - loss: 2.3007 - val_accuracy: 0.1079 - val_loss: 2.3019\n",
            "Epoch 77/100\n",
            "\u001b[1m165/165\u001b[0m \u001b[32m━━━━━━━━━━━━━━━━━━━━\u001b[0m\u001b[37m\u001b[0m \u001b[1m1s\u001b[0m 6ms/step - accuracy: 0.1137 - loss: 2.3010 - val_accuracy: 0.1079 - val_loss: 2.3019\n",
            "Epoch 78/100\n",
            "\u001b[1m165/165\u001b[0m \u001b[32m━━━━━━━━━━━━━━━━━━━━\u001b[0m\u001b[37m\u001b[0m \u001b[1m1s\u001b[0m 7ms/step - accuracy: 0.1158 - loss: 2.3005 - val_accuracy: 0.1079 - val_loss: 2.3019\n",
            "Epoch 79/100\n",
            "\u001b[1m165/165\u001b[0m \u001b[32m━━━━━━━━━━━━━━━━━━━━\u001b[0m\u001b[37m\u001b[0m \u001b[1m2s\u001b[0m 12ms/step - accuracy: 0.1142 - loss: 2.3009 - val_accuracy: 0.1079 - val_loss: 2.3019\n",
            "Epoch 80/100\n",
            "\u001b[1m165/165\u001b[0m \u001b[32m━━━━━━━━━━━━━━━━━━━━\u001b[0m\u001b[37m\u001b[0m \u001b[1m1s\u001b[0m 7ms/step - accuracy: 0.1135 - loss: 2.3010 - val_accuracy: 0.1079 - val_loss: 2.3019\n",
            "Epoch 81/100\n",
            "\u001b[1m165/165\u001b[0m \u001b[32m━━━━━━━━━━━━━━━━━━━━\u001b[0m\u001b[37m\u001b[0m \u001b[1m1s\u001b[0m 7ms/step - accuracy: 0.1136 - loss: 2.3009 - val_accuracy: 0.1079 - val_loss: 2.3019\n",
            "Epoch 82/100\n",
            "\u001b[1m165/165\u001b[0m \u001b[32m━━━━━━━━━━━━━━━━━━━━\u001b[0m\u001b[37m\u001b[0m \u001b[1m1s\u001b[0m 7ms/step - accuracy: 0.1143 - loss: 2.3008 - val_accuracy: 0.1079 - val_loss: 2.3019\n",
            "Epoch 83/100\n",
            "\u001b[1m165/165\u001b[0m \u001b[32m━━━━━━━━━━━━━━━━━━━━\u001b[0m\u001b[37m\u001b[0m \u001b[1m1s\u001b[0m 7ms/step - accuracy: 0.1099 - loss: 2.3015 - val_accuracy: 0.1079 - val_loss: 2.3019\n",
            "Epoch 84/100\n",
            "\u001b[1m165/165\u001b[0m \u001b[32m━━━━━━━━━━━━━━━━━━━━\u001b[0m\u001b[37m\u001b[0m \u001b[1m1s\u001b[0m 7ms/step - accuracy: 0.1134 - loss: 2.3010 - val_accuracy: 0.1079 - val_loss: 2.3019\n",
            "Epoch 85/100\n",
            "\u001b[1m165/165\u001b[0m \u001b[32m━━━━━━━━━━━━━━━━━━━━\u001b[0m\u001b[37m\u001b[0m \u001b[1m1s\u001b[0m 7ms/step - accuracy: 0.1133 - loss: 2.3010 - val_accuracy: 0.1079 - val_loss: 2.3019\n",
            "Epoch 86/100\n",
            "\u001b[1m165/165\u001b[0m \u001b[32m━━━━━━━━━━━━━━━━━━━━\u001b[0m\u001b[37m\u001b[0m \u001b[1m1s\u001b[0m 7ms/step - accuracy: 0.1159 - loss: 2.3008 - val_accuracy: 0.1079 - val_loss: 2.3019\n",
            "Epoch 87/100\n",
            "\u001b[1m165/165\u001b[0m \u001b[32m━━━━━━━━━━━━━━━━━━━━\u001b[0m\u001b[37m\u001b[0m \u001b[1m1s\u001b[0m 7ms/step - accuracy: 0.1160 - loss: 2.3006 - val_accuracy: 0.1079 - val_loss: 2.3019\n",
            "Epoch 88/100\n",
            "\u001b[1m165/165\u001b[0m \u001b[32m━━━━━━━━━━━━━━━━━━━━\u001b[0m\u001b[37m\u001b[0m \u001b[1m1s\u001b[0m 9ms/step - accuracy: 0.1160 - loss: 2.3006 - val_accuracy: 0.1079 - val_loss: 2.3019\n",
            "Epoch 89/100\n",
            "\u001b[1m165/165\u001b[0m \u001b[32m━━━━━━━━━━━━━━━━━━━━\u001b[0m\u001b[37m\u001b[0m \u001b[1m2s\u001b[0m 7ms/step - accuracy: 0.1134 - loss: 2.3012 - val_accuracy: 0.1079 - val_loss: 2.3019\n",
            "Epoch 90/100\n",
            "\u001b[1m165/165\u001b[0m \u001b[32m━━━━━━━━━━━━━━━━━━━━\u001b[0m\u001b[37m\u001b[0m \u001b[1m1s\u001b[0m 7ms/step - accuracy: 0.1177 - loss: 2.3006 - val_accuracy: 0.1079 - val_loss: 2.3018\n",
            "Epoch 91/100\n",
            "\u001b[1m165/165\u001b[0m \u001b[32m━━━━━━━━━━━━━━━━━━━━\u001b[0m\u001b[37m\u001b[0m \u001b[1m1s\u001b[0m 7ms/step - accuracy: 0.1164 - loss: 2.3007 - val_accuracy: 0.1079 - val_loss: 2.3018\n",
            "Epoch 92/100\n",
            "\u001b[1m165/165\u001b[0m \u001b[32m━━━━━━━━━━━━━━━━━━━━\u001b[0m\u001b[37m\u001b[0m \u001b[1m1s\u001b[0m 7ms/step - accuracy: 0.1160 - loss: 2.3007 - val_accuracy: 0.1079 - val_loss: 2.3019\n",
            "Epoch 93/100\n",
            "\u001b[1m165/165\u001b[0m \u001b[32m━━━━━━━━━━━━━━━━━━━━\u001b[0m\u001b[37m\u001b[0m \u001b[1m1s\u001b[0m 7ms/step - accuracy: 0.1150 - loss: 2.3008 - val_accuracy: 0.1079 - val_loss: 2.3019\n",
            "Epoch 94/100\n",
            "\u001b[1m165/165\u001b[0m \u001b[32m━━━━━━━━━━━━━━━━━━━━\u001b[0m\u001b[37m\u001b[0m \u001b[1m1s\u001b[0m 8ms/step - accuracy: 0.1143 - loss: 2.3010 - val_accuracy: 0.1079 - val_loss: 2.3019\n",
            "Epoch 95/100\n",
            "\u001b[1m165/165\u001b[0m \u001b[32m━━━━━━━━━━━━━━━━━━━━\u001b[0m\u001b[37m\u001b[0m \u001b[1m3s\u001b[0m 11ms/step - accuracy: 0.1146 - loss: 2.3008 - val_accuracy: 0.1079 - val_loss: 2.3019\n",
            "Epoch 96/100\n",
            "\u001b[1m165/165\u001b[0m \u001b[32m━━━━━━━━━━━━━━━━━━━━\u001b[0m\u001b[37m\u001b[0m \u001b[1m4s\u001b[0m 17ms/step - accuracy: 0.1129 - loss: 2.3012 - val_accuracy: 0.1079 - val_loss: 2.3019\n",
            "Epoch 97/100\n",
            "\u001b[1m165/165\u001b[0m \u001b[32m━━━━━━━━━━━━━━━━━━━━\u001b[0m\u001b[37m\u001b[0m \u001b[1m1s\u001b[0m 7ms/step - accuracy: 0.1152 - loss: 2.3008 - val_accuracy: 0.1079 - val_loss: 2.3019\n",
            "Epoch 98/100\n",
            "\u001b[1m165/165\u001b[0m \u001b[32m━━━━━━━━━━━━━━━━━━━━\u001b[0m\u001b[37m\u001b[0m \u001b[1m2s\u001b[0m 7ms/step - accuracy: 0.1145 - loss: 2.3010 - val_accuracy: 0.1079 - val_loss: 2.3019\n",
            "Epoch 99/100\n",
            "\u001b[1m165/165\u001b[0m \u001b[32m━━━━━━━━━━━━━━━━━━━━\u001b[0m\u001b[37m\u001b[0m \u001b[1m1s\u001b[0m 7ms/step - accuracy: 0.1141 - loss: 2.3010 - val_accuracy: 0.1079 - val_loss: 2.3019\n",
            "Epoch 100/100\n",
            "\u001b[1m165/165\u001b[0m \u001b[32m━━━━━━━━━━━━━━━━━━━━\u001b[0m\u001b[37m\u001b[0m \u001b[1m1s\u001b[0m 7ms/step - accuracy: 0.1135 - loss: 2.3011 - val_accuracy: 0.1079 - val_loss: 2.3019\n"
          ]
        }
      ],
      "source": [
        "history = model.fit(X_train, y_train, batch_size = 256, validation_split = 0.3, epochs = 100, verbose = 1)"
      ]
    },
    {
      "cell_type": "code",
      "execution_count": 15,
      "metadata": {
        "colab": {
          "base_uri": "https://localhost:8080/",
          "height": 430
        },
        "id": "w4egvBDNm803",
        "outputId": "19163934-cc9a-4079-db2a-7a5dbf2d140f"
      },
      "outputs": [
        {
          "output_type": "display_data",
          "data": {
            "text/plain": [
              "<Figure size 640x480 with 1 Axes>"
            ],
            "image/png": "[encoded data removed]"
          },
          "metadata": {}
        }
      ],
      "source": [
        "plt.plot(history.history['accuracy'])\n",
        "plt.plot(history.history['val_accuracy'])\n",
        "plt.plot(history.history['loss'])\n",
        "plt.plot(history.history['val_loss'])\n",
        "plt.legend(['train acc', 'valid acc', 'train loss', 'valid loss'], loc = 'upper left')\n",
        "plt.show()"
      ]
    },
    {
      "cell_type": "markdown",
      "metadata": {
        "id": "8g6__3Onm805"
      },
      "source": [
        "Training and validation accuracy seems to improve after around 60 epochs"
      ]
    },
    {
      "cell_type": "code",
      "execution_count": 16,
      "metadata": {
        "colab": {
          "base_uri": "https://localhost:8080/"
        },
        "id": "TwlF_-OSm805",
        "outputId": "831df959-c628-46fc-d8f8-8cb61fd736b6"
      },
      "outputs": [
        {
          "output_type": "stream",
          "name": "stdout",
          "text": [
            "\u001b[1m313/313\u001b[0m \u001b[32m━━━━━━━━━━━━━━━━━━━━\u001b[0m\u001b[37m\u001b[0m \u001b[1m1s\u001b[0m 3ms/step - accuracy: 0.1160 - loss: 2.3009\n"
          ]
        }
      ],
      "source": [
        "results = model.evaluate(X_test, y_test)"
      ]
    },
    {
      "cell_type": "code",
      "execution_count": 17,
      "metadata": {
        "colab": {
          "base_uri": "https://localhost:8080/"
        },
        "id": "DSeFp3jfm808",
        "outputId": "8c0957eb-5499-4514-895b-bd2ec6ebde5b"
      },
      "outputs": [
        {
          "output_type": "stream",
          "name": "stdout",
          "text": [
            "Test accuracy:  0.11349999904632568\n"
          ]
        }
      ],
      "source": [
        "print('Test accuracy: ', results[1])"
      ]
    },
    {
      "cell_type": "markdown",
      "metadata": {
        "id": "aQLGUyPsm80-"
      },
      "source": [
        "## 1. Weight Initialization\n",
        "- Changing weight initialization scheme can sometimes improve training of the model by preventing vanishing gradient problem up to some degree\n",
        "- He normal or Xavier normal initialization schemes are SOTA at the moment\n",
        "- Doc: https://keras.io/initializers/"
      ]
    },
    {
      "cell_type": "markdown",
      "metadata": {
        "id": "An_ISxPpQpf-"
      },
      "source": [
        "The He Normal initialization scheme is designed for neural networks that use the Rectified Linear Unit (ReLU) activation function. This initialization scheme sets the standard deviation of the Gaussian distribution used for weight initialization to be:\n",
        "$$σ = sqrt(\\frac{2} {n_{in}})$$\n",
        "\n",
        "where $n_{in}$ is the number of input neurons to a layer. This scheme is designed to ensure that the variance of the output of each layer is roughly the same as the variance of the input, similar to the Xavier Normal initialization scheme. However, the He Normal scheme takes into account the fact that the ReLU activation function effectively halves the variance of the output of each layer, compared to the input. By doubling the standard deviation of the initialization distribution, the He Normal scheme ensures that the variance of the output of each layer remains roughly constant throughout the network.\n"
      ]
    },
    {
      "cell_type": "code",
      "execution_count": 20,
      "metadata": {
        "id": "0kOFoXgtm80-"
      },
      "outputs": [],
      "source": [
        "# from now on, create a function to generate (return) models\n",
        "def mlp_model():\n",
        "    model = Sequential()\n",
        "\n",
        "    model.add(Dense(50, input_shape = (784, ), kernel_initializer='he_normal'))     # use he_normal initializer\n",
        "    model.add(Activation('sigmoid'))\n",
        "    model.add(Dense(50, kernel_initializer='he_normal'))                            # use he_normal initializer\n",
        "    model.add(Activation('sigmoid'))\n",
        "    model.add(Dense(50, kernel_initializer='he_normal'))                            # use he_normal initializer\n",
        "    model.add(Activation('sigmoid'))\n",
        "    model.add(Dense(50, kernel_initializer='he_normal'))                            # use he_normal initializer\n",
        "    model.add(Activation('sigmoid'))\n",
        "    model.add(Dense(10, kernel_initializer='he_normal'))                            # use he_normal initializer\n",
        "    model.add(Activation('softmax'))\n",
        "\n",
        "    sgd = optimizers.SGD(learning_rate = 0.001)\n",
        "    model.compile(optimizer = sgd, loss = 'categorical_crossentropy', metrics = ['accuracy'])\n",
        "\n",
        "    return model\n"
      ]
    },
    {
      "cell_type": "code",
      "execution_count": 21,
      "metadata": {
        "colab": {
          "base_uri": "https://localhost:8080/"
        },
        "id": "T_4QYzNGm81A",
        "outputId": "2db7a496-79c3-47e2-d1e3-832f69505bba",
        "scrolled": true
      },
      "outputs": [
        {
          "output_type": "stream",
          "name": "stdout",
          "text": [
            "Epoch 1/100\n",
            "\u001b[1m1313/1313\u001b[0m \u001b[32m━━━━━━━━━━━━━━━━━━━━\u001b[0m\u001b[37m\u001b[0m \u001b[1m9s\u001b[0m 6ms/step - accuracy: 0.0816 - loss: 2.3641 - val_accuracy: 0.1079 - val_loss: 2.3034\n",
            "Epoch 2/100\n",
            "\u001b[1m1313/1313\u001b[0m \u001b[32m━━━━━━━━━━━━━━━━━━━━\u001b[0m\u001b[37m\u001b[0m \u001b[1m6s\u001b[0m 3ms/step - accuracy: 0.1172 - loss: 2.3001 - val_accuracy: 0.1079 - val_loss: 2.2987\n",
            "Epoch 3/100\n",
            "\u001b[1m1313/1313\u001b[0m \u001b[32m━━━━━━━━━━━━━━━━━━━━\u001b[0m\u001b[37m\u001b[0m \u001b[1m6s\u001b[0m 4ms/step - accuracy: 0.1125 - loss: 2.2971 - val_accuracy: 0.1079 - val_loss: 2.2963\n",
            "Epoch 4/100\n",
            "\u001b[1m1313/1313\u001b[0m \u001b[32m━━━━━━━━━━━━━━━━━━━━\u001b[0m\u001b[37m\u001b[0m \u001b[1m9s\u001b[0m 3ms/step - accuracy: 0.1165 - loss: 2.2942 - val_accuracy: 0.1079 - val_loss: 2.2938\n",
            "Epoch 5/100\n",
            "\u001b[1m1313/1313\u001b[0m \u001b[32m━━━━━━━━━━━━━━━━━━━━\u001b[0m\u001b[37m\u001b[0m \u001b[1m6s\u001b[0m 4ms/step - accuracy: 0.1167 - loss: 2.2917 - val_accuracy: 0.1079 - val_loss: 2.2913\n",
            "Epoch 6/100\n",
            "\u001b[1m1313/1313\u001b[0m \u001b[32m━━━━━━━━━━━━━━━━━━━━\u001b[0m\u001b[37m\u001b[0m \u001b[1m4s\u001b[0m 3ms/step - accuracy: 0.1144 - loss: 2.2898 - val_accuracy: 0.1080 - val_loss: 2.2885\n",
            "Epoch 7/100\n",
            "\u001b[1m1313/1313\u001b[0m \u001b[32m━━━━━━━━━━━━━━━━━━━━\u001b[0m\u001b[37m\u001b[0m \u001b[1m6s\u001b[0m 4ms/step - accuracy: 0.1146 - loss: 2.2869 - val_accuracy: 0.1079 - val_loss: 2.2857\n",
            "Epoch 8/100\n",
            "\u001b[1m1313/1313\u001b[0m \u001b[32m━━━━━━━━━━━━━━━━━━━━\u001b[0m\u001b[37m\u001b[0m \u001b[1m4s\u001b[0m 3ms/step - accuracy: 0.1143 - loss: 2.2843 - val_accuracy: 0.1079 - val_loss: 2.2828\n",
            "Epoch 9/100\n",
            "\u001b[1m1313/1313\u001b[0m \u001b[32m━━━━━━━━━━━━━━━━━━━━\u001b[0m\u001b[37m\u001b[0m \u001b[1m4s\u001b[0m 3ms/step - accuracy: 0.1137 - loss: 2.2814 - val_accuracy: 0.1082 - val_loss: 2.2796\n",
            "Epoch 10/100\n",
            "\u001b[1m1313/1313\u001b[0m \u001b[32m━━━━━━━━━━━━━━━━━━━━\u001b[0m\u001b[37m\u001b[0m \u001b[1m6s\u001b[0m 4ms/step - accuracy: 0.1145 - loss: 2.2782 - val_accuracy: 0.1088 - val_loss: 2.2765\n",
            "Epoch 11/100\n",
            "\u001b[1m1313/1313\u001b[0m \u001b[32m━━━━━━━━━━━━━━━━━━━━\u001b[0m\u001b[37m\u001b[0m \u001b[1m4s\u001b[0m 3ms/step - accuracy: 0.1173 - loss: 2.2748 - val_accuracy: 0.1106 - val_loss: 2.2731\n",
            "Epoch 12/100\n",
            "\u001b[1m1313/1313\u001b[0m \u001b[32m━━━━━━━━━━━━━━━━━━━━\u001b[0m\u001b[37m\u001b[0m \u001b[1m6s\u001b[0m 3ms/step - accuracy: 0.1228 - loss: 2.2712 - val_accuracy: 0.1132 - val_loss: 2.2696\n",
            "Epoch 13/100\n",
            "\u001b[1m1313/1313\u001b[0m \u001b[32m━━━━━━━━━━━━━━━━━━━━\u001b[0m\u001b[37m\u001b[0m \u001b[1m5s\u001b[0m 3ms/step - accuracy: 0.1219 - loss: 2.2681 - val_accuracy: 0.1319 - val_loss: 2.2657\n",
            "Epoch 14/100\n",
            "\u001b[1m1313/1313\u001b[0m \u001b[32m━━━━━━━━━━━━━━━━━━━━\u001b[0m\u001b[37m\u001b[0m \u001b[1m5s\u001b[0m 3ms/step - accuracy: 0.1441 - loss: 2.2638 - val_accuracy: 0.1509 - val_loss: 2.2617\n",
            "Epoch 15/100\n",
            "\u001b[1m1313/1313\u001b[0m \u001b[32m━━━━━━━━━━━━━━━━━━━━\u001b[0m\u001b[37m\u001b[0m \u001b[1m5s\u001b[0m 4ms/step - accuracy: 0.1737 - loss: 2.2604 - val_accuracy: 0.1546 - val_loss: 2.2575\n",
            "Epoch 16/100\n",
            "\u001b[1m1313/1313\u001b[0m \u001b[32m━━━━━━━━━━━━━━━━━━━━\u001b[0m\u001b[37m\u001b[0m \u001b[1m4s\u001b[0m 3ms/step - accuracy: 0.1605 - loss: 2.2558 - val_accuracy: 0.2318 - val_loss: 2.2529\n",
            "Epoch 17/100\n",
            "\u001b[1m1313/1313\u001b[0m \u001b[32m━━━━━━━━━━━━━━━━━━━━\u001b[0m\u001b[37m\u001b[0m \u001b[1m4s\u001b[0m 3ms/step - accuracy: 0.2365 - loss: 2.2524 - val_accuracy: 0.2123 - val_loss: 2.2483\n",
            "Epoch 18/100\n",
            "\u001b[1m1313/1313\u001b[0m \u001b[32m━━━━━━━━━━━━━━━━━━━━\u001b[0m\u001b[37m\u001b[0m \u001b[1m6s\u001b[0m 4ms/step - accuracy: 0.2116 - loss: 2.2462 - val_accuracy: 0.2793 - val_loss: 2.2431\n",
            "Epoch 19/100\n",
            "\u001b[1m1313/1313\u001b[0m \u001b[32m━━━━━━━━━━━━━━━━━━━━\u001b[0m\u001b[37m\u001b[0m \u001b[1m4s\u001b[0m 3ms/step - accuracy: 0.2607 - loss: 2.2414 - val_accuracy: 0.2979 - val_loss: 2.2376\n",
            "Epoch 20/100\n",
            "\u001b[1m1313/1313\u001b[0m \u001b[32m━━━━━━━━━━━━━━━━━━━━\u001b[0m\u001b[37m\u001b[0m \u001b[1m5s\u001b[0m 3ms/step - accuracy: 0.3172 - loss: 2.2360 - val_accuracy: 0.2553 - val_loss: 2.2317\n",
            "Epoch 21/100\n",
            "\u001b[1m1313/1313\u001b[0m \u001b[32m━━━━━━━━━━━━━━━━━━━━\u001b[0m\u001b[37m\u001b[0m \u001b[1m4s\u001b[0m 3ms/step - accuracy: 0.3063 - loss: 2.2309 - val_accuracy: 0.2731 - val_loss: 2.2249\n",
            "Epoch 22/100\n",
            "\u001b[1m1313/1313\u001b[0m \u001b[32m━━━━━━━━━━━━━━━━━━━━\u001b[0m\u001b[37m\u001b[0m \u001b[1m5s\u001b[0m 3ms/step - accuracy: 0.2946 - loss: 2.2231 - val_accuracy: 0.3428 - val_loss: 2.2172\n",
            "Epoch 23/100\n",
            "\u001b[1m1313/1313\u001b[0m \u001b[32m━━━━━━━━━━━━━━━━━━━━\u001b[0m\u001b[37m\u001b[0m \u001b[1m4s\u001b[0m 3ms/step - accuracy: 0.3336 - loss: 2.2151 - val_accuracy: 0.3980 - val_loss: 2.2089\n",
            "Epoch 24/100\n",
            "\u001b[1m1313/1313\u001b[0m \u001b[32m━━━━━━━━━━━━━━━━━━━━\u001b[0m\u001b[37m\u001b[0m \u001b[1m4s\u001b[0m 3ms/step - accuracy: 0.4051 - loss: 2.2072 - val_accuracy: 0.3866 - val_loss: 2.1993\n",
            "Epoch 25/100\n",
            "\u001b[1m1313/1313\u001b[0m \u001b[32m━━━━━━━━━━━━━━━━━━━━\u001b[0m\u001b[37m\u001b[0m \u001b[1m4s\u001b[0m 3ms/step - accuracy: 0.3905 - loss: 2.1976 - val_accuracy: 0.4323 - val_loss: 2.1889\n",
            "Epoch 26/100\n",
            "\u001b[1m1313/1313\u001b[0m \u001b[32m━━━━━━━━━━━━━━━━━━━━\u001b[0m\u001b[37m\u001b[0m \u001b[1m6s\u001b[0m 3ms/step - accuracy: 0.4318 - loss: 2.1872 - val_accuracy: 0.4392 - val_loss: 2.1775\n",
            "Epoch 27/100\n",
            "\u001b[1m1313/1313\u001b[0m \u001b[32m━━━━━━━━━━━━━━━━━━━━\u001b[0m\u001b[37m\u001b[0m \u001b[1m4s\u001b[0m 3ms/step - accuracy: 0.4356 - loss: 2.1756 - val_accuracy: 0.4854 - val_loss: 2.1647\n",
            "Epoch 28/100\n",
            "\u001b[1m1313/1313\u001b[0m \u001b[32m━━━━━━━━━━━━━━━━━━━━\u001b[0m\u001b[37m\u001b[0m \u001b[1m5s\u001b[0m 3ms/step - accuracy: 0.4756 - loss: 2.1623 - val_accuracy: 0.4908 - val_loss: 2.1508\n",
            "Epoch 29/100\n",
            "\u001b[1m1313/1313\u001b[0m \u001b[32m━━━━━━━━━━━━━━━━━━━━\u001b[0m\u001b[37m\u001b[0m \u001b[1m5s\u001b[0m 4ms/step - accuracy: 0.4686 - loss: 2.1465 - val_accuracy: 0.4962 - val_loss: 2.1350\n",
            "Epoch 30/100\n",
            "\u001b[1m1313/1313\u001b[0m \u001b[32m━━━━━━━━━━━━━━━━━━━━\u001b[0m\u001b[37m\u001b[0m \u001b[1m4s\u001b[0m 3ms/step - accuracy: 0.4895 - loss: 2.1297 - val_accuracy: 0.5263 - val_loss: 2.1176\n",
            "Epoch 31/100\n",
            "\u001b[1m1313/1313\u001b[0m \u001b[32m━━━━━━━━━━━━━━━━━━━━\u001b[0m\u001b[37m\u001b[0m \u001b[1m4s\u001b[0m 3ms/step - accuracy: 0.5294 - loss: 2.1128 - val_accuracy: 0.5187 - val_loss: 2.0980\n",
            "Epoch 32/100\n",
            "\u001b[1m1313/1313\u001b[0m \u001b[32m━━━━━━━━━━━━━━━━━━━━\u001b[0m\u001b[37m\u001b[0m \u001b[1m4s\u001b[0m 3ms/step - accuracy: 0.5129 - loss: 2.0933 - val_accuracy: 0.5386 - val_loss: 2.0761\n",
            "Epoch 33/100\n",
            "\u001b[1m1313/1313\u001b[0m \u001b[32m━━━━━━━━━━━━━━━━━━━━\u001b[0m\u001b[37m\u001b[0m \u001b[1m5s\u001b[0m 3ms/step - accuracy: 0.5310 - loss: 2.0718 - val_accuracy: 0.5332 - val_loss: 2.0519\n",
            "Epoch 34/100\n",
            "\u001b[1m1313/1313\u001b[0m \u001b[32m━━━━━━━━━━━━━━━━━━━━\u001b[0m\u001b[37m\u001b[0m \u001b[1m6s\u001b[0m 3ms/step - accuracy: 0.5404 - loss: 2.0459 - val_accuracy: 0.5257 - val_loss: 2.0249\n",
            "Epoch 35/100\n",
            "\u001b[1m1313/1313\u001b[0m \u001b[32m━━━━━━━━━━━━━━━━━━━━\u001b[0m\u001b[37m\u001b[0m \u001b[1m4s\u001b[0m 3ms/step - accuracy: 0.5244 - loss: 2.0195 - val_accuracy: 0.5443 - val_loss: 1.9949\n",
            "Epoch 36/100\n",
            "\u001b[1m1313/1313\u001b[0m \u001b[32m━━━━━━━━━━━━━━━━━━━━\u001b[0m\u001b[37m\u001b[0m \u001b[1m5s\u001b[0m 3ms/step - accuracy: 0.5395 - loss: 1.9879 - val_accuracy: 0.5515 - val_loss: 1.9625\n",
            "Epoch 37/100\n",
            "\u001b[1m1313/1313\u001b[0m \u001b[32m━━━━━━━━━━━━━━━━━━━━\u001b[0m\u001b[37m\u001b[0m \u001b[1m5s\u001b[0m 4ms/step - accuracy: 0.5474 - loss: 1.9535 - val_accuracy: 0.5586 - val_loss: 1.9273\n",
            "Epoch 38/100\n",
            "\u001b[1m1313/1313\u001b[0m \u001b[32m━━━━━━━━━━━━━━━━━━━━\u001b[0m\u001b[37m\u001b[0m \u001b[1m4s\u001b[0m 3ms/step - accuracy: 0.5552 - loss: 1.9210 - val_accuracy: 0.5471 - val_loss: 1.8902\n",
            "Epoch 39/100\n",
            "\u001b[1m1313/1313\u001b[0m \u001b[32m━━━━━━━━━━━━━━━━━━━━\u001b[0m\u001b[37m\u001b[0m \u001b[1m5s\u001b[0m 3ms/step - accuracy: 0.5474 - loss: 1.8812 - val_accuracy: 0.5604 - val_loss: 1.8506\n",
            "Epoch 40/100\n",
            "\u001b[1m1313/1313\u001b[0m \u001b[32m━━━━━━━━━━━━━━━━━━━━\u001b[0m\u001b[37m\u001b[0m \u001b[1m5s\u001b[0m 3ms/step - accuracy: 0.5619 - loss: 1.8402 - val_accuracy: 0.5696 - val_loss: 1.8097\n",
            "Epoch 41/100\n",
            "\u001b[1m1313/1313\u001b[0m \u001b[32m━━━━━━━━━━━━━━━━━━━━\u001b[0m\u001b[37m\u001b[0m \u001b[1m5s\u001b[0m 3ms/step - accuracy: 0.5722 - loss: 1.8019 - val_accuracy: 0.5734 - val_loss: 1.7679\n",
            "Epoch 42/100\n",
            "\u001b[1m1313/1313\u001b[0m \u001b[32m━━━━━━━━━━━━━━━━━━━━\u001b[0m\u001b[37m\u001b[0m \u001b[1m6s\u001b[0m 4ms/step - accuracy: 0.5720 - loss: 1.7570 - val_accuracy: 0.5826 - val_loss: 1.7251\n",
            "Epoch 43/100\n",
            "\u001b[1m1313/1313\u001b[0m \u001b[32m━━━━━━━━━━━━━━━━━━━━\u001b[0m\u001b[37m\u001b[0m \u001b[1m4s\u001b[0m 3ms/step - accuracy: 0.5814 - loss: 1.7141 - val_accuracy: 0.5883 - val_loss: 1.6822\n",
            "Epoch 44/100\n",
            "\u001b[1m1313/1313\u001b[0m \u001b[32m━━━━━━━━━━━━━━━━━━━━\u001b[0m\u001b[37m\u001b[0m \u001b[1m5s\u001b[0m 3ms/step - accuracy: 0.5839 - loss: 1.6719 - val_accuracy: 0.5945 - val_loss: 1.6395\n",
            "Epoch 45/100\n",
            "\u001b[1m1313/1313\u001b[0m \u001b[32m━━━━━━━━━━━━━━━━━━━━\u001b[0m\u001b[37m\u001b[0m \u001b[1m5s\u001b[0m 3ms/step - accuracy: 0.5962 - loss: 1.6305 - val_accuracy: 0.5954 - val_loss: 1.5977\n",
            "Epoch 46/100\n",
            "\u001b[1m1313/1313\u001b[0m \u001b[32m━━━━━━━━━━━━━━━━━━━━\u001b[0m\u001b[37m\u001b[0m \u001b[1m4s\u001b[0m 3ms/step - accuracy: 0.5959 - loss: 1.5902 - val_accuracy: 0.6031 - val_loss: 1.5571\n",
            "Epoch 47/100\n",
            "\u001b[1m1313/1313\u001b[0m \u001b[32m━━━━━━━━━━━━━━━━━━━━\u001b[0m\u001b[37m\u001b[0m \u001b[1m4s\u001b[0m 3ms/step - accuracy: 0.6035 - loss: 1.5511 - val_accuracy: 0.6129 - val_loss: 1.5174\n",
            "Epoch 48/100\n",
            "\u001b[1m1313/1313\u001b[0m \u001b[32m━━━━━━━━━━━━━━━━━━━━\u001b[0m\u001b[37m\u001b[0m \u001b[1m5s\u001b[0m 3ms/step - accuracy: 0.6124 - loss: 1.5043 - val_accuracy: 0.6214 - val_loss: 1.4796\n",
            "Epoch 49/100\n",
            "\u001b[1m1313/1313\u001b[0m \u001b[32m━━━━━━━━━━━━━━━━━━━━\u001b[0m\u001b[37m\u001b[0m \u001b[1m3s\u001b[0m 3ms/step - accuracy: 0.6258 - loss: 1.4710 - val_accuracy: 0.6340 - val_loss: 1.4433\n",
            "Epoch 50/100\n",
            "\u001b[1m1313/1313\u001b[0m \u001b[32m━━━━━━━━━━━━━━━━━━━━\u001b[0m\u001b[37m\u001b[0m \u001b[1m7s\u001b[0m 4ms/step - accuracy: 0.6355 - loss: 1.4313 - val_accuracy: 0.6389 - val_loss: 1.4089\n",
            "Epoch 51/100\n",
            "\u001b[1m1313/1313\u001b[0m \u001b[32m━━━━━━━━━━━━━━━━━━━━\u001b[0m\u001b[37m\u001b[0m \u001b[1m4s\u001b[0m 3ms/step - accuracy: 0.6435 - loss: 1.3982 - val_accuracy: 0.6454 - val_loss: 1.3756\n",
            "Epoch 52/100\n",
            "\u001b[1m1313/1313\u001b[0m \u001b[32m━━━━━━━━━━━━━━━━━━━━\u001b[0m\u001b[37m\u001b[0m \u001b[1m4s\u001b[0m 3ms/step - accuracy: 0.6523 - loss: 1.3616 - val_accuracy: 0.6549 - val_loss: 1.3437\n",
            "Epoch 53/100\n",
            "\u001b[1m1313/1313\u001b[0m \u001b[32m━━━━━━━━━━━━━━━━━━━━\u001b[0m\u001b[37m\u001b[0m \u001b[1m5s\u001b[0m 4ms/step - accuracy: 0.6616 - loss: 1.3337 - val_accuracy: 0.6598 - val_loss: 1.3140\n",
            "Epoch 54/100\n",
            "\u001b[1m1313/1313\u001b[0m \u001b[32m━━━━━━━━━━━━━━━━━━━━\u001b[0m\u001b[37m\u001b[0m \u001b[1m4s\u001b[0m 3ms/step - accuracy: 0.6634 - loss: 1.3064 - val_accuracy: 0.6772 - val_loss: 1.2849\n",
            "Epoch 55/100\n",
            "\u001b[1m1313/1313\u001b[0m \u001b[32m━━━━━━━━━━━━━━━━━━━━\u001b[0m\u001b[37m\u001b[0m \u001b[1m7s\u001b[0m 4ms/step - accuracy: 0.6785 - loss: 1.2772 - val_accuracy: 0.6815 - val_loss: 1.2562\n",
            "Epoch 56/100\n",
            "\u001b[1m1313/1313\u001b[0m \u001b[32m━━━━━━━━━━━━━━━━━━━━\u001b[0m\u001b[37m\u001b[0m \u001b[1m9s\u001b[0m 3ms/step - accuracy: 0.6835 - loss: 1.2463 - val_accuracy: 0.6958 - val_loss: 1.2297\n",
            "Epoch 57/100\n",
            "\u001b[1m1313/1313\u001b[0m \u001b[32m━━━━━━━━━━━━━━━━━━━━\u001b[0m\u001b[37m\u001b[0m \u001b[1m5s\u001b[0m 3ms/step - accuracy: 0.6942 - loss: 1.2226 - val_accuracy: 0.7007 - val_loss: 1.2041\n",
            "Epoch 58/100\n",
            "\u001b[1m1313/1313\u001b[0m \u001b[32m━━━━━━━━━━━━━━━━━━━━\u001b[0m\u001b[37m\u001b[0m \u001b[1m5s\u001b[0m 3ms/step - accuracy: 0.7003 - loss: 1.1966 - val_accuracy: 0.6982 - val_loss: 1.1787\n",
            "Epoch 59/100\n",
            "\u001b[1m1313/1313\u001b[0m \u001b[32m━━━━━━━━━━━━━━━━━━━━\u001b[0m\u001b[37m\u001b[0m \u001b[1m6s\u001b[0m 4ms/step - accuracy: 0.7050 - loss: 1.1663 - val_accuracy: 0.7158 - val_loss: 1.1555\n",
            "Epoch 60/100\n",
            "\u001b[1m1313/1313\u001b[0m \u001b[32m━━━━━━━━━━━━━━━━━━━━\u001b[0m\u001b[37m\u001b[0m \u001b[1m4s\u001b[0m 3ms/step - accuracy: 0.7261 - loss: 1.1423 - val_accuracy: 0.7149 - val_loss: 1.1321\n",
            "Epoch 61/100\n",
            "\u001b[1m1313/1313\u001b[0m \u001b[32m━━━━━━━━━━━━━━━━━━━━\u001b[0m\u001b[37m\u001b[0m \u001b[1m5s\u001b[0m 3ms/step - accuracy: 0.7211 - loss: 1.1249 - val_accuracy: 0.7245 - val_loss: 1.1092\n",
            "Epoch 62/100\n",
            "\u001b[1m1313/1313\u001b[0m \u001b[32m━━━━━━━━━━━━━━━━━━━━\u001b[0m\u001b[37m\u001b[0m \u001b[1m6s\u001b[0m 3ms/step - accuracy: 0.7319 - loss: 1.0971 - val_accuracy: 0.7390 - val_loss: 1.0862\n",
            "Epoch 63/100\n",
            "\u001b[1m1313/1313\u001b[0m \u001b[32m━━━━━━━━━━━━━━━━━━━━\u001b[0m\u001b[37m\u001b[0m \u001b[1m5s\u001b[0m 3ms/step - accuracy: 0.7446 - loss: 1.0700 - val_accuracy: 0.7476 - val_loss: 1.0652\n",
            "Epoch 64/100\n",
            "\u001b[1m1313/1313\u001b[0m \u001b[32m━━━━━━━━━━━━━━━━━━━━\u001b[0m\u001b[37m\u001b[0m \u001b[1m6s\u001b[0m 4ms/step - accuracy: 0.7532 - loss: 1.0486 - val_accuracy: 0.7482 - val_loss: 1.0455\n",
            "Epoch 65/100\n",
            "\u001b[1m1313/1313\u001b[0m \u001b[32m━━━━━━━━━━━━━━━━━━━━\u001b[0m\u001b[37m\u001b[0m \u001b[1m8s\u001b[0m 3ms/step - accuracy: 0.7523 - loss: 1.0313 - val_accuracy: 0.7619 - val_loss: 1.0252\n",
            "Epoch 66/100\n",
            "\u001b[1m1313/1313\u001b[0m \u001b[32m━━━━━━━━━━━━━━━━━━━━\u001b[0m\u001b[37m\u001b[0m \u001b[1m5s\u001b[0m 3ms/step - accuracy: 0.7619 - loss: 1.0102 - val_accuracy: 0.7632 - val_loss: 1.0066\n",
            "Epoch 67/100\n",
            "\u001b[1m1313/1313\u001b[0m \u001b[32m━━━━━━━━━━━━━━━━━━━━\u001b[0m\u001b[37m\u001b[0m \u001b[1m4s\u001b[0m 3ms/step - accuracy: 0.7731 - loss: 0.9888 - val_accuracy: 0.7749 - val_loss: 0.9859\n",
            "Epoch 68/100\n",
            "\u001b[1m1313/1313\u001b[0m \u001b[32m━━━━━━━━━━━━━━━━━━━━\u001b[0m\u001b[37m\u001b[0m \u001b[1m6s\u001b[0m 3ms/step - accuracy: 0.7802 - loss: 0.9728 - val_accuracy: 0.7808 - val_loss: 0.9691\n",
            "Epoch 69/100\n",
            "\u001b[1m1313/1313\u001b[0m \u001b[32m━━━━━━━━━━━━━━━━━━━━\u001b[0m\u001b[37m\u001b[0m \u001b[1m4s\u001b[0m 3ms/step - accuracy: 0.7880 - loss: 0.9539 - val_accuracy: 0.7812 - val_loss: 0.9506\n",
            "Epoch 70/100\n",
            "\u001b[1m1313/1313\u001b[0m \u001b[32m━━━━━━━━━━━━━━━━━━━━\u001b[0m\u001b[37m\u001b[0m \u001b[1m5s\u001b[0m 3ms/step - accuracy: 0.7908 - loss: 0.9313 - val_accuracy: 0.7912 - val_loss: 0.9319\n",
            "Epoch 71/100\n",
            "\u001b[1m1313/1313\u001b[0m \u001b[32m━━━━━━━━━━━━━━━━━━━━\u001b[0m\u001b[37m\u001b[0m \u001b[1m6s\u001b[0m 4ms/step - accuracy: 0.7983 - loss: 0.9142 - val_accuracy: 0.7963 - val_loss: 0.9144\n",
            "Epoch 72/100\n",
            "\u001b[1m1313/1313\u001b[0m \u001b[32m━━━━━━━━━━━━━━━━━━━━\u001b[0m\u001b[37m\u001b[0m \u001b[1m4s\u001b[0m 3ms/step - accuracy: 0.8049 - loss: 0.8963 - val_accuracy: 0.8009 - val_loss: 0.8982\n",
            "Epoch 73/100\n",
            "\u001b[1m1313/1313\u001b[0m \u001b[32m━━━━━━━━━━━━━━━━━━━━\u001b[0m\u001b[37m\u001b[0m \u001b[1m4s\u001b[0m 3ms/step - accuracy: 0.8072 - loss: 0.8797 - val_accuracy: 0.8058 - val_loss: 0.8830\n",
            "Epoch 74/100\n",
            "\u001b[1m1313/1313\u001b[0m \u001b[32m━━━━━━━━━━━━━━━━━━━━\u001b[0m\u001b[37m\u001b[0m \u001b[1m5s\u001b[0m 3ms/step - accuracy: 0.8128 - loss: 0.8598 - val_accuracy: 0.8113 - val_loss: 0.8660\n",
            "Epoch 75/100\n",
            "\u001b[1m1313/1313\u001b[0m \u001b[32m━━━━━━━━━━━━━━━━━━━━\u001b[0m\u001b[37m\u001b[0m \u001b[1m6s\u001b[0m 3ms/step - accuracy: 0.8175 - loss: 0.8431 - val_accuracy: 0.8162 - val_loss: 0.8509\n",
            "Epoch 76/100\n",
            "\u001b[1m1313/1313\u001b[0m \u001b[32m━━━━━━━━━━━━━━━━━━━━\u001b[0m\u001b[37m\u001b[0m \u001b[1m5s\u001b[0m 4ms/step - accuracy: 0.8251 - loss: 0.8267 - val_accuracy: 0.8197 - val_loss: 0.8346\n",
            "Epoch 77/100\n",
            "\u001b[1m1313/1313\u001b[0m \u001b[32m━━━━━━━━━━━━━━━━━━━━\u001b[0m\u001b[37m\u001b[0m \u001b[1m4s\u001b[0m 3ms/step - accuracy: 0.8303 - loss: 0.8083 - val_accuracy: 0.8197 - val_loss: 0.8194\n",
            "Epoch 78/100\n",
            "\u001b[1m1313/1313\u001b[0m \u001b[32m━━━━━━━━━━━━━━━━━━━━\u001b[0m\u001b[37m\u001b[0m \u001b[1m4s\u001b[0m 3ms/step - accuracy: 0.8316 - loss: 0.7984 - val_accuracy: 0.8238 - val_loss: 0.8055\n",
            "Epoch 79/100\n",
            "\u001b[1m1313/1313\u001b[0m \u001b[32m━━━━━━━━━━━━━━━━━━━━\u001b[0m\u001b[37m\u001b[0m \u001b[1m5s\u001b[0m 4ms/step - accuracy: 0.8353 - loss: 0.7813 - val_accuracy: 0.8270 - val_loss: 0.7918\n",
            "Epoch 80/100\n",
            "\u001b[1m1313/1313\u001b[0m \u001b[32m━━━━━━━━━━━━━━━━━━━━\u001b[0m\u001b[37m\u001b[0m \u001b[1m4s\u001b[0m 3ms/step - accuracy: 0.8394 - loss: 0.7673 - val_accuracy: 0.8294 - val_loss: 0.7787\n",
            "Epoch 81/100\n",
            "\u001b[1m1313/1313\u001b[0m \u001b[32m━━━━━━━━━━━━━━━━━━━━\u001b[0m\u001b[37m\u001b[0m \u001b[1m4s\u001b[0m 3ms/step - accuracy: 0.8383 - loss: 0.7550 - val_accuracy: 0.8353 - val_loss: 0.7643\n",
            "Epoch 82/100\n",
            "\u001b[1m1313/1313\u001b[0m \u001b[32m━━━━━━━━━━━━━━━━━━━━\u001b[0m\u001b[37m\u001b[0m \u001b[1m5s\u001b[0m 4ms/step - accuracy: 0.8428 - loss: 0.7403 - val_accuracy: 0.8343 - val_loss: 0.7526\n",
            "Epoch 83/100\n",
            "\u001b[1m1313/1313\u001b[0m \u001b[32m━━━━━━━━━━━━━━━━━━━━\u001b[0m\u001b[37m\u001b[0m \u001b[1m4s\u001b[0m 3ms/step - accuracy: 0.8440 - loss: 0.7260 - val_accuracy: 0.8386 - val_loss: 0.7393\n",
            "Epoch 84/100\n",
            "\u001b[1m1313/1313\u001b[0m \u001b[32m━━━━━━━━━━━━━━━━━━━━\u001b[0m\u001b[37m\u001b[0m \u001b[1m4s\u001b[0m 3ms/step - accuracy: 0.8474 - loss: 0.7087 - val_accuracy: 0.8413 - val_loss: 0.7271\n",
            "Epoch 85/100\n",
            "\u001b[1m1313/1313\u001b[0m \u001b[32m━━━━━━━━━━━━━━━━━━━━\u001b[0m\u001b[37m\u001b[0m \u001b[1m6s\u001b[0m 3ms/step - accuracy: 0.8525 - loss: 0.7003 - val_accuracy: 0.8413 - val_loss: 0.7164\n",
            "Epoch 86/100\n",
            "\u001b[1m1313/1313\u001b[0m \u001b[32m━━━━━━━━━━━━━━━━━━━━\u001b[0m\u001b[37m\u001b[0m \u001b[1m5s\u001b[0m 3ms/step - accuracy: 0.8543 - loss: 0.6845 - val_accuracy: 0.8455 - val_loss: 0.7062\n",
            "Epoch 87/100\n",
            "\u001b[1m1313/1313\u001b[0m \u001b[32m━━━━━━━━━━━━━━━━━━━━\u001b[0m\u001b[37m\u001b[0m \u001b[1m7s\u001b[0m 4ms/step - accuracy: 0.8579 - loss: 0.6731 - val_accuracy: 0.8443 - val_loss: 0.6946\n",
            "Epoch 88/100\n",
            "\u001b[1m1313/1313\u001b[0m \u001b[32m━━━━━━━━━━━━━━━━━━━━\u001b[0m\u001b[37m\u001b[0m \u001b[1m8s\u001b[0m 3ms/step - accuracy: 0.8575 - loss: 0.6651 - val_accuracy: 0.8465 - val_loss: 0.6869\n",
            "Epoch 89/100\n",
            "\u001b[1m1313/1313\u001b[0m \u001b[32m━━━━━━━━━━━━━━━━━━━━\u001b[0m\u001b[37m\u001b[0m \u001b[1m6s\u001b[0m 3ms/step - accuracy: 0.8578 - loss: 0.6549 - val_accuracy: 0.8489 - val_loss: 0.6742\n",
            "Epoch 90/100\n",
            "\u001b[1m1313/1313\u001b[0m \u001b[32m━━━━━━━━━━━━━━━━━━━━\u001b[0m\u001b[37m\u001b[0m \u001b[1m4s\u001b[0m 3ms/step - accuracy: 0.8602 - loss: 0.6426 - val_accuracy: 0.8513 - val_loss: 0.6672\n",
            "Epoch 91/100\n",
            "\u001b[1m1313/1313\u001b[0m \u001b[32m━━━━━━━━━━━━━━━━━━━━\u001b[0m\u001b[37m\u001b[0m \u001b[1m7s\u001b[0m 4ms/step - accuracy: 0.8634 - loss: 0.6308 - val_accuracy: 0.8542 - val_loss: 0.6536\n",
            "Epoch 92/100\n",
            "\u001b[1m1313/1313\u001b[0m \u001b[32m━━━━━━━━━━━━━━━━━━━━\u001b[0m\u001b[37m\u001b[0m \u001b[1m8s\u001b[0m 3ms/step - accuracy: 0.8670 - loss: 0.6196 - val_accuracy: 0.8560 - val_loss: 0.6454\n",
            "Epoch 93/100\n",
            "\u001b[1m1313/1313\u001b[0m \u001b[32m━━━━━━━━━━━━━━━━━━━━\u001b[0m\u001b[37m\u001b[0m \u001b[1m5s\u001b[0m 4ms/step - accuracy: 0.8708 - loss: 0.6108 - val_accuracy: 0.8521 - val_loss: 0.6418\n",
            "Epoch 94/100\n",
            "\u001b[1m1313/1313\u001b[0m \u001b[32m━━━━━━━━━━━━━━━━━━━━\u001b[0m\u001b[37m\u001b[0m \u001b[1m4s\u001b[0m 3ms/step - accuracy: 0.8688 - loss: 0.6017 - val_accuracy: 0.8573 - val_loss: 0.6316\n",
            "Epoch 95/100\n",
            "\u001b[1m1313/1313\u001b[0m \u001b[32m━━━━━━━━━━━━━━━━━━━━\u001b[0m\u001b[37m\u001b[0m \u001b[1m4s\u001b[0m 3ms/step - accuracy: 0.8727 - loss: 0.5945 - val_accuracy: 0.8574 - val_loss: 0.6233\n",
            "Epoch 96/100\n",
            "\u001b[1m1313/1313\u001b[0m \u001b[32m━━━━━━━━━━━━━━━━━━━━\u001b[0m\u001b[37m\u001b[0m \u001b[1m5s\u001b[0m 4ms/step - accuracy: 0.8742 - loss: 0.5808 - val_accuracy: 0.8558 - val_loss: 0.6194\n",
            "Epoch 97/100\n",
            "\u001b[1m1313/1313\u001b[0m \u001b[32m━━━━━━━━━━━━━━━━━━━━\u001b[0m\u001b[37m\u001b[0m \u001b[1m4s\u001b[0m 3ms/step - accuracy: 0.8749 - loss: 0.5760 - val_accuracy: 0.8598 - val_loss: 0.6077\n",
            "Epoch 98/100\n",
            "\u001b[1m1313/1313\u001b[0m \u001b[32m━━━━━━━━━━━━━━━━━━━━\u001b[0m\u001b[37m\u001b[0m \u001b[1m6s\u001b[0m 4ms/step - accuracy: 0.8759 - loss: 0.5639 - val_accuracy: 0.8617 - val_loss: 0.5994\n",
            "Epoch 99/100\n",
            "\u001b[1m1313/1313\u001b[0m \u001b[32m━━━━━━━━━━━━━━━━━━━━\u001b[0m\u001b[37m\u001b[0m \u001b[1m8s\u001b[0m 3ms/step - accuracy: 0.8742 - loss: 0.5640 - val_accuracy: 0.8659 - val_loss: 0.5904\n",
            "Epoch 100/100\n",
            "\u001b[1m1313/1313\u001b[0m \u001b[32m━━━━━━━━━━━━━━━━━━━━\u001b[0m\u001b[37m\u001b[0m \u001b[1m5s\u001b[0m 4ms/step - accuracy: 0.8772 - loss: 0.5509 - val_accuracy: 0.8625 - val_loss: 0.5873\n"
          ]
        }
      ],
      "source": [
        "model = mlp_model()\n",
        "history = model.fit(X_train, y_train, validation_split = 0.3, epochs = 100, verbose = 1)"
      ]
    },
    {
      "cell_type": "code",
      "execution_count": 22,
      "metadata": {
        "colab": {
          "base_uri": "https://localhost:8080/",
          "height": 430
        },
        "id": "k-ttTMOwm81C",
        "outputId": "2fc2116e-96a2-4404-d300-d1d12e9b668d"
      },
      "outputs": [
        {
          "output_type": "display_data",
          "data": {
            "text/plain": [
              "<Figure size 640x480 with 1 Axes>"
            ],
            "image/png": "[encoded data removed]"
          },
          "metadata": {}
        }
      ],
      "source": [
        "plt.plot(history.history['accuracy'])\n",
        "plt.plot(history.history['val_accuracy'])\n",
        "plt.plot(history.history['loss'])\n",
        "plt.plot(history.history['val_loss'])\n",
        "plt.legend(['train acc', 'valid acc', 'train loss', 'valid loss'], loc = 'upper left')\n",
        "plt.show()"
      ]
    },
    {
      "cell_type": "markdown",
      "metadata": {
        "id": "2hwzerhum81E"
      },
      "source": [
        "Training and validation accuracy seems to improve after around 60 epochs"
      ]
    },
    {
      "cell_type": "code",
      "execution_count": 23,
      "metadata": {
        "colab": {
          "base_uri": "https://localhost:8080/"
        },
        "id": "mzo9TrI5m81E",
        "outputId": "705c5c34-be10-4ad1-f19a-b04ca20d73da"
      },
      "outputs": [
        {
          "output_type": "stream",
          "name": "stdout",
          "text": [
            "\u001b[1m313/313\u001b[0m \u001b[32m━━━━━━━━━━━━━━━━━━━━\u001b[0m\u001b[37m\u001b[0m \u001b[1m1s\u001b[0m 2ms/step - accuracy: 0.8468 - loss: 0.6289\n"
          ]
        }
      ],
      "source": [
        "results = model.evaluate(X_test, y_test)"
      ]
    },
    {
      "cell_type": "code",
      "execution_count": 24,
      "metadata": {
        "colab": {
          "base_uri": "https://localhost:8080/"
        },
        "id": "_JDbnxfRm81G",
        "outputId": "bb254126-44c2-4353-ff1d-0801ebfe126e"
      },
      "outputs": [
        {
          "output_type": "stream",
          "name": "stdout",
          "text": [
            "Test accuracy:  0.8657000064849854\n"
          ]
        }
      ],
      "source": [
        "print('Test accuracy: ', results[1])"
      ]
    },
    {
      "cell_type": "markdown",
      "metadata": {
        "id": "OMfsNCzcm81I"
      },
      "source": [
        "## 2. Nonlinearity (Activation function)\n",
        "- Sigmoid functions suffer from gradient vanishing problem, making training slower\n",
        "- There are many choices apart from sigmoid and tanh; try many of them!\n",
        "    - **'relu'** (rectified linear unit) is one of the most popular ones\n",
        "    - **'selu'** (scaled exponential linear unit) is one of the most recent ones\n",
        "- Doc: https://keras.io/activations/"
      ]
    },
    {
      "cell_type": "markdown",
      "metadata": {
        "id": "fO6HhMaLm81I"
      },
      "source": [
        "<img src=\"http://cs231n.github.io/assets/nn1/sigmoid.jpeg\" style=\"width: 300px\"/>\n",
        "<center> $$Sigmoid~Activation~Function$$ </center>"
      ]
    },
    {
      "cell_type": "markdown",
      "metadata": {
        "id": "tHaGRVhoQpgA"
      },
      "source": [
        "$$Sigmoid = \\sigma(z) = \\frac{1}{1 + e^{(-z)}}$$\n",
        "\n",
        "Here, $z$ is the weighted sum of the inputs and biases of a neuron in a neural network layer.\n",
        "\n",
        "The sigmoid function maps any input value $z$ to a value between 0 and 1. When $z$ is very negative, the output of the sigmoid function is close to 0, and when $z$ is very positive, the output is close to 1. The sigmoid function is commonly used as an activation function in the output layer of binary classification problems, where the goal is to predict a binary output variable (0 or 1).\n",
        "- This is the sigmoid function. At z = 0, a is equal to 0.5 and when z is a very large positive number, a is close to 1, and when z is a very large negative number, a is close to zero.\n",
        "- However, the sigmoid function has a tendency to saturate for large input values, leading to the vanishing gradient problem."
      ]
    },
    {
      "cell_type": "markdown",
      "metadata": {
        "id": "D6_AbpHJQpgA"
      },
      "source": [
        "<img src=\"http://cs231n.github.io/assets/nn1/relu.jpeg\" style=\"width: 300px\"/>\n",
        "<center> $$Relu~Activation~Function$$ </center>\n",
        "\n",
        "$$f(x) = max(0, z)$$\n",
        "\n",
        "As you can see from the graph, the output of the ReLU function is 0 for any negative input value x, and the function increases linearly with a slope of 1 for any positive input value x. The ReLU function is a popular activation function for deep neural networks due to its simplicity and effectiveness in overcoming the vanishing gradient problem."
      ]
    },
    {
      "cell_type": "code",
      "execution_count": 27,
      "metadata": {
        "id": "phc_0Rgdm81J"
      },
      "outputs": [],
      "source": [
        "def mlp_model():\n",
        "    model = Sequential()\n",
        "\n",
        "    model.add(Dense(50, input_shape = (784, )))\n",
        "    model.add(Activation('relu'))    # use relu\n",
        "    model.add(Dense(50))\n",
        "    model.add(Activation('relu'))    # use relu\n",
        "    model.add(Dense(50))\n",
        "    model.add(Activation('relu'))    # use relu\n",
        "    model.add(Dense(50))\n",
        "    model.add(Activation('relu'))    # use relu\n",
        "    model.add(Dense(10))\n",
        "    model.add(Activation('softmax'))\n",
        "\n",
        "    sgd = optimizers.SGD(learning_rate = 0.001)\n",
        "    model.compile(optimizer = sgd, loss = 'categorical_crossentropy', metrics = ['accuracy'])\n",
        "\n",
        "    return model"
      ]
    },
    {
      "cell_type": "code",
      "execution_count": 28,
      "metadata": {
        "colab": {
          "base_uri": "https://localhost:8080/"
        },
        "id": "yeEYkRCwm81L",
        "outputId": "a7661805-fcdd-4374-bd5b-5f8e338f78a3"
      },
      "outputs": [
        {
          "output_type": "stream",
          "name": "stdout",
          "text": [
            "Epoch 1/100\n",
            "\u001b[1m1313/1313\u001b[0m \u001b[32m━━━━━━━━━━━━━━━━━━━━\u001b[0m\u001b[37m\u001b[0m \u001b[1m5s\u001b[0m 3ms/step - accuracy: 0.5998 - loss: 2.5918 - val_accuracy: 0.8379 - val_loss: 0.5539\n",
            "Epoch 2/100\n",
            "\u001b[1m1313/1313\u001b[0m \u001b[32m━━━━━━━━━━━━━━━━━━━━\u001b[0m\u001b[37m\u001b[0m \u001b[1m5s\u001b[0m 3ms/step - accuracy: 0.8624 - loss: 0.4544 - val_accuracy: 0.8913 - val_loss: 0.3811\n",
            "Epoch 3/100\n",
            "\u001b[1m1313/1313\u001b[0m \u001b[32m━━━━━━━━━━━━━━━━━━━━\u001b[0m\u001b[37m\u001b[0m \u001b[1m4s\u001b[0m 3ms/step - accuracy: 0.9020 - loss: 0.3262 - val_accuracy: 0.9043 - val_loss: 0.3317\n",
            "Epoch 4/100\n",
            "\u001b[1m1313/1313\u001b[0m \u001b[32m━━━━━━━━━━━━━━━━━━━━\u001b[0m\u001b[37m\u001b[0m \u001b[1m6s\u001b[0m 4ms/step - accuracy: 0.9222 - loss: 0.2690 - val_accuracy: 0.9094 - val_loss: 0.3176\n",
            "Epoch 5/100\n",
            "\u001b[1m1313/1313\u001b[0m \u001b[32m━━━━━━━━━━━━━━━━━━━━\u001b[0m\u001b[37m\u001b[0m \u001b[1m4s\u001b[0m 3ms/step - accuracy: 0.9279 - loss: 0.2441 - val_accuracy: 0.9192 - val_loss: 0.2858\n",
            "Epoch 6/100\n",
            "\u001b[1m1313/1313\u001b[0m \u001b[32m━━━━━━━━━━━━━━━━━━━━\u001b[0m\u001b[37m\u001b[0m \u001b[1m5s\u001b[0m 3ms/step - accuracy: 0.9377 - loss: 0.2075 - val_accuracy: 0.9224 - val_loss: 0.2711\n",
            "Epoch 7/100\n",
            "\u001b[1m1313/1313\u001b[0m \u001b[32m━━━━━━━━━━━━━━━━━━━━\u001b[0m\u001b[37m\u001b[0m \u001b[1m5s\u001b[0m 3ms/step - accuracy: 0.9400 - loss: 0.1954 - val_accuracy: 0.9256 - val_loss: 0.2645\n",
            "Epoch 8/100\n",
            "\u001b[1m1313/1313\u001b[0m \u001b[32m━━━━━━━━━━━━━━━━━━━━\u001b[0m\u001b[37m\u001b[0m \u001b[1m5s\u001b[0m 4ms/step - accuracy: 0.9466 - loss: 0.1797 - val_accuracy: 0.9284 - val_loss: 0.2581\n",
            "Epoch 9/100\n",
            "\u001b[1m1313/1313\u001b[0m \u001b[32m━━━━━━━━━━━━━━━━━━━━\u001b[0m\u001b[37m\u001b[0m \u001b[1m5s\u001b[0m 4ms/step - accuracy: 0.9504 - loss: 0.1654 - val_accuracy: 0.9317 - val_loss: 0.2429\n",
            "Epoch 10/100\n",
            "\u001b[1m1313/1313\u001b[0m \u001b[32m━━━━━━━━━━━━━━━━━━━━\u001b[0m\u001b[37m\u001b[0m \u001b[1m4s\u001b[0m 3ms/step - accuracy: 0.9550 - loss: 0.1484 - val_accuracy: 0.9309 - val_loss: 0.2433\n",
            "Epoch 11/100\n",
            "\u001b[1m1313/1313\u001b[0m \u001b[32m━━━━━━━━━━━━━━━━━━━━\u001b[0m\u001b[37m\u001b[0m \u001b[1m4s\u001b[0m 3ms/step - accuracy: 0.9554 - loss: 0.1464 - val_accuracy: 0.9334 - val_loss: 0.2366\n",
            "Epoch 12/100\n",
            "\u001b[1m1313/1313\u001b[0m \u001b[32m━━━━━━━━━━━━━━━━━━━━\u001b[0m\u001b[37m\u001b[0m \u001b[1m5s\u001b[0m 4ms/step - accuracy: 0.9585 - loss: 0.1309 - val_accuracy: 0.9353 - val_loss: 0.2370\n",
            "Epoch 13/100\n",
            "\u001b[1m1313/1313\u001b[0m \u001b[32m━━━━━━━━━━━━━━━━━━━━\u001b[0m\u001b[37m\u001b[0m \u001b[1m4s\u001b[0m 3ms/step - accuracy: 0.9598 - loss: 0.1296 - val_accuracy: 0.9352 - val_loss: 0.2302\n",
            "Epoch 14/100\n",
            "\u001b[1m1313/1313\u001b[0m \u001b[32m━━━━━━━━━━━━━━━━━━━━\u001b[0m\u001b[37m\u001b[0m \u001b[1m6s\u001b[0m 4ms/step - accuracy: 0.9620 - loss: 0.1223 - val_accuracy: 0.9371 - val_loss: 0.2320\n",
            "Epoch 15/100\n",
            "\u001b[1m1313/1313\u001b[0m \u001b[32m━━━━━━━━━━━━━━━━━━━━\u001b[0m\u001b[37m\u001b[0m \u001b[1m4s\u001b[0m 3ms/step - accuracy: 0.9640 - loss: 0.1178 - val_accuracy: 0.9390 - val_loss: 0.2233\n",
            "Epoch 16/100\n",
            "\u001b[1m1313/1313\u001b[0m \u001b[32m━━━━━━━━━━━━━━━━━━━━\u001b[0m\u001b[37m\u001b[0m \u001b[1m5s\u001b[0m 3ms/step - accuracy: 0.9665 - loss: 0.1102 - val_accuracy: 0.9388 - val_loss: 0.2294\n",
            "Epoch 17/100\n",
            "\u001b[1m1313/1313\u001b[0m \u001b[32m━━━━━━━━━━━━━━━━━━━━\u001b[0m\u001b[37m\u001b[0m \u001b[1m6s\u001b[0m 3ms/step - accuracy: 0.9671 - loss: 0.1061 - val_accuracy: 0.9401 - val_loss: 0.2227\n",
            "Epoch 18/100\n",
            "\u001b[1m1313/1313\u001b[0m \u001b[32m━━━━━━━━━━━━━━━━━━━━\u001b[0m\u001b[37m\u001b[0m \u001b[1m5s\u001b[0m 3ms/step - accuracy: 0.9695 - loss: 0.0988 - val_accuracy: 0.9396 - val_loss: 0.2273\n",
            "Epoch 19/100\n",
            "\u001b[1m1313/1313\u001b[0m \u001b[32m━━━━━━━━━━━━━━━━━━━━\u001b[0m\u001b[37m\u001b[0m \u001b[1m6s\u001b[0m 3ms/step - accuracy: 0.9707 - loss: 0.0992 - val_accuracy: 0.9418 - val_loss: 0.2236\n",
            "Epoch 20/100\n",
            "\u001b[1m1313/1313\u001b[0m \u001b[32m━━━━━━━━━━━━━━━━━━━━\u001b[0m\u001b[37m\u001b[0m \u001b[1m5s\u001b[0m 3ms/step - accuracy: 0.9707 - loss: 0.0955 - val_accuracy: 0.9399 - val_loss: 0.2278\n",
            "Epoch 21/100\n",
            "\u001b[1m1313/1313\u001b[0m \u001b[32m━━━━━━━━━━━━━━━━━━━━\u001b[0m\u001b[37m\u001b[0m \u001b[1m4s\u001b[0m 3ms/step - accuracy: 0.9721 - loss: 0.0922 - val_accuracy: 0.9436 - val_loss: 0.2240\n",
            "Epoch 22/100\n",
            "\u001b[1m1313/1313\u001b[0m \u001b[32m━━━━━━━━━━━━━━━━━━━━\u001b[0m\u001b[37m\u001b[0m \u001b[1m6s\u001b[0m 4ms/step - accuracy: 0.9741 - loss: 0.0858 - val_accuracy: 0.9436 - val_loss: 0.2236\n",
            "Epoch 23/100\n",
            "\u001b[1m1313/1313\u001b[0m \u001b[32m━━━━━━━━━━━━━━━━━━━━\u001b[0m\u001b[37m\u001b[0m \u001b[1m4s\u001b[0m 3ms/step - accuracy: 0.9741 - loss: 0.0848 - val_accuracy: 0.9424 - val_loss: 0.2267\n",
            "Epoch 24/100\n",
            "\u001b[1m1313/1313\u001b[0m \u001b[32m━━━━━━━━━━━━━━━━━━━━\u001b[0m\u001b[37m\u001b[0m \u001b[1m4s\u001b[0m 3ms/step - accuracy: 0.9747 - loss: 0.0828 - val_accuracy: 0.9445 - val_loss: 0.2229\n",
            "Epoch 25/100\n",
            "\u001b[1m1313/1313\u001b[0m \u001b[32m━━━━━━━━━━━━━━━━━━━━\u001b[0m\u001b[37m\u001b[0m \u001b[1m5s\u001b[0m 3ms/step - accuracy: 0.9761 - loss: 0.0783 - val_accuracy: 0.9439 - val_loss: 0.2190\n",
            "Epoch 26/100\n",
            "\u001b[1m1313/1313\u001b[0m \u001b[32m━━━━━━━━━━━━━━━━━━━━\u001b[0m\u001b[37m\u001b[0m \u001b[1m4s\u001b[0m 3ms/step - accuracy: 0.9768 - loss: 0.0728 - val_accuracy: 0.9454 - val_loss: 0.2199\n",
            "Epoch 27/100\n",
            "\u001b[1m1313/1313\u001b[0m \u001b[32m━━━━━━━━━━━━━━━━━━━━\u001b[0m\u001b[37m\u001b[0m \u001b[1m6s\u001b[0m 4ms/step - accuracy: 0.9785 - loss: 0.0708 - val_accuracy: 0.9453 - val_loss: 0.2197\n",
            "Epoch 28/100\n",
            "\u001b[1m1313/1313\u001b[0m \u001b[32m━━━━━━━━━━━━━━━━━━━━\u001b[0m\u001b[37m\u001b[0m \u001b[1m8s\u001b[0m 3ms/step - accuracy: 0.9782 - loss: 0.0712 - val_accuracy: 0.9427 - val_loss: 0.2278\n",
            "Epoch 29/100\n",
            "\u001b[1m1313/1313\u001b[0m \u001b[32m━━━━━━━━━━━━━━━━━━━━\u001b[0m\u001b[37m\u001b[0m \u001b[1m5s\u001b[0m 3ms/step - accuracy: 0.9803 - loss: 0.0686 - val_accuracy: 0.9463 - val_loss: 0.2237\n",
            "Epoch 30/100\n",
            "\u001b[1m1313/1313\u001b[0m \u001b[32m━━━━━━━━━━━━━━━━━━━━\u001b[0m\u001b[37m\u001b[0m \u001b[1m4s\u001b[0m 3ms/step - accuracy: 0.9811 - loss: 0.0624 - val_accuracy: 0.9447 - val_loss: 0.2301\n",
            "Epoch 31/100\n",
            "\u001b[1m1313/1313\u001b[0m \u001b[32m━━━━━━━━━━━━━━━━━━━━\u001b[0m\u001b[37m\u001b[0m \u001b[1m3s\u001b[0m 3ms/step - accuracy: 0.9819 - loss: 0.0608 - val_accuracy: 0.9456 - val_loss: 0.2295\n",
            "Epoch 32/100\n",
            "\u001b[1m1313/1313\u001b[0m \u001b[32m━━━━━━━━━━━━━━━━━━━━\u001b[0m\u001b[37m\u001b[0m \u001b[1m4s\u001b[0m 3ms/step - accuracy: 0.9818 - loss: 0.0597 - val_accuracy: 0.9459 - val_loss: 0.2314\n",
            "Epoch 33/100\n",
            "\u001b[1m1313/1313\u001b[0m \u001b[32m━━━━━━━━━━━━━━━━━━━━\u001b[0m\u001b[37m\u001b[0m \u001b[1m4s\u001b[0m 3ms/step - accuracy: 0.9819 - loss: 0.0587 - val_accuracy: 0.9462 - val_loss: 0.2310\n",
            "Epoch 34/100\n",
            "\u001b[1m1313/1313\u001b[0m \u001b[32m━━━━━━━━━━━━━━━━━━━━\u001b[0m\u001b[37m\u001b[0m \u001b[1m4s\u001b[0m 3ms/step - accuracy: 0.9823 - loss: 0.0607 - val_accuracy: 0.9458 - val_loss: 0.2336\n",
            "Epoch 35/100\n",
            "\u001b[1m1313/1313\u001b[0m \u001b[32m━━━━━━━━━━━━━━━━━━━━\u001b[0m\u001b[37m\u001b[0m \u001b[1m6s\u001b[0m 3ms/step - accuracy: 0.9841 - loss: 0.0536 - val_accuracy: 0.9466 - val_loss: 0.2293\n",
            "Epoch 36/100\n",
            "\u001b[1m1313/1313\u001b[0m \u001b[32m━━━━━━━━━━━━━━━━━━━━\u001b[0m\u001b[37m\u001b[0m \u001b[1m4s\u001b[0m 3ms/step - accuracy: 0.9830 - loss: 0.0563 - val_accuracy: 0.9472 - val_loss: 0.2361\n",
            "Epoch 37/100\n",
            "\u001b[1m1313/1313\u001b[0m \u001b[32m━━━━━━━━━━━━━━━━━━━━\u001b[0m\u001b[37m\u001b[0m \u001b[1m4s\u001b[0m 3ms/step - accuracy: 0.9841 - loss: 0.0535 - val_accuracy: 0.9468 - val_loss: 0.2351\n",
            "Epoch 38/100\n",
            "\u001b[1m1313/1313\u001b[0m \u001b[32m━━━━━━━━━━━━━━━━━━━━\u001b[0m\u001b[37m\u001b[0m \u001b[1m6s\u001b[0m 4ms/step - accuracy: 0.9831 - loss: 0.0553 - val_accuracy: 0.9456 - val_loss: 0.2401\n",
            "Epoch 39/100\n",
            "\u001b[1m1313/1313\u001b[0m \u001b[32m━━━━━━━━━━━━━━━━━━━━\u001b[0m\u001b[37m\u001b[0m \u001b[1m4s\u001b[0m 3ms/step - accuracy: 0.9851 - loss: 0.0482 - val_accuracy: 0.9458 - val_loss: 0.2438\n",
            "Epoch 40/100\n",
            "\u001b[1m1313/1313\u001b[0m \u001b[32m━━━━━━━━━━━━━━━━━━━━\u001b[0m\u001b[37m\u001b[0m \u001b[1m5s\u001b[0m 3ms/step - accuracy: 0.9861 - loss: 0.0494 - val_accuracy: 0.9468 - val_loss: 0.2392\n",
            "Epoch 41/100\n",
            "\u001b[1m1313/1313\u001b[0m \u001b[32m━━━━━━━━━━━━━━━━━━━━\u001b[0m\u001b[37m\u001b[0m \u001b[1m5s\u001b[0m 3ms/step - accuracy: 0.9861 - loss: 0.0478 - val_accuracy: 0.9468 - val_loss: 0.2396\n",
            "Epoch 42/100\n",
            "\u001b[1m1313/1313\u001b[0m \u001b[32m━━━━━━━━━━━━━━━━━━━━\u001b[0m\u001b[37m\u001b[0m \u001b[1m4s\u001b[0m 3ms/step - accuracy: 0.9882 - loss: 0.0425 - val_accuracy: 0.9470 - val_loss: 0.2435\n",
            "Epoch 43/100\n",
            "\u001b[1m1313/1313\u001b[0m \u001b[32m━━━━━━━━━━━━━━━━━━━━\u001b[0m\u001b[37m\u001b[0m \u001b[1m6s\u001b[0m 4ms/step - accuracy: 0.9872 - loss: 0.0443 - val_accuracy: 0.9452 - val_loss: 0.2525\n",
            "Epoch 44/100\n",
            "\u001b[1m1313/1313\u001b[0m \u001b[32m━━━━━━━━━━━━━━━━━━━━\u001b[0m\u001b[37m\u001b[0m \u001b[1m4s\u001b[0m 3ms/step - accuracy: 0.9884 - loss: 0.0409 - val_accuracy: 0.9467 - val_loss: 0.2451\n",
            "Epoch 45/100\n",
            "\u001b[1m1313/1313\u001b[0m \u001b[32m━━━━━━━━━━━━━━━━━━━━\u001b[0m\u001b[37m\u001b[0m \u001b[1m4s\u001b[0m 3ms/step - accuracy: 0.9895 - loss: 0.0395 - val_accuracy: 0.9479 - val_loss: 0.2491\n",
            "Epoch 46/100\n",
            "\u001b[1m1313/1313\u001b[0m \u001b[32m━━━━━━━━━━━━━━━━━━━━\u001b[0m\u001b[37m\u001b[0m \u001b[1m5s\u001b[0m 3ms/step - accuracy: 0.9889 - loss: 0.0403 - val_accuracy: 0.9472 - val_loss: 0.2547\n",
            "Epoch 47/100\n",
            "\u001b[1m1313/1313\u001b[0m \u001b[32m━━━━━━━━━━━━━━━━━━━━\u001b[0m\u001b[37m\u001b[0m \u001b[1m4s\u001b[0m 3ms/step - accuracy: 0.9899 - loss: 0.0363 - val_accuracy: 0.9469 - val_loss: 0.2454\n",
            "Epoch 48/100\n",
            "\u001b[1m1313/1313\u001b[0m \u001b[32m━━━━━━━━━━━━━━━━━━━━\u001b[0m\u001b[37m\u001b[0m \u001b[1m5s\u001b[0m 3ms/step - accuracy: 0.9905 - loss: 0.0360 - val_accuracy: 0.9471 - val_loss: 0.2515\n",
            "Epoch 49/100\n",
            "\u001b[1m1313/1313\u001b[0m \u001b[32m━━━━━━━━━━━━━━━━━━━━\u001b[0m\u001b[37m\u001b[0m \u001b[1m4s\u001b[0m 3ms/step - accuracy: 0.9902 - loss: 0.0384 - val_accuracy: 0.9482 - val_loss: 0.2491\n",
            "Epoch 50/100\n",
            "\u001b[1m1313/1313\u001b[0m \u001b[32m━━━━━━━━━━━━━━━━━━━━\u001b[0m\u001b[37m\u001b[0m \u001b[1m4s\u001b[0m 3ms/step - accuracy: 0.9903 - loss: 0.0342 - val_accuracy: 0.9481 - val_loss: 0.2604\n",
            "Epoch 51/100\n",
            "\u001b[1m1313/1313\u001b[0m \u001b[32m━━━━━━━━━━━━━━━━━━━━\u001b[0m\u001b[37m\u001b[0m \u001b[1m5s\u001b[0m 3ms/step - accuracy: 0.9909 - loss: 0.0362 - val_accuracy: 0.9484 - val_loss: 0.2572\n",
            "Epoch 52/100\n",
            "\u001b[1m1313/1313\u001b[0m \u001b[32m━━━━━━━━━━━━━━━━━━━━\u001b[0m\u001b[37m\u001b[0m \u001b[1m5s\u001b[0m 3ms/step - accuracy: 0.9910 - loss: 0.0324 - val_accuracy: 0.9483 - val_loss: 0.2540\n",
            "Epoch 53/100\n",
            "\u001b[1m1313/1313\u001b[0m \u001b[32m━━━━━━━━━━━━━━━━━━━━\u001b[0m\u001b[37m\u001b[0m \u001b[1m5s\u001b[0m 3ms/step - accuracy: 0.9914 - loss: 0.0322 - val_accuracy: 0.9481 - val_loss: 0.2567\n",
            "Epoch 54/100\n",
            "\u001b[1m1313/1313\u001b[0m \u001b[32m━━━━━━━━━━━━━━━━━━━━\u001b[0m\u001b[37m\u001b[0m \u001b[1m6s\u001b[0m 3ms/step - accuracy: 0.9917 - loss: 0.0312 - val_accuracy: 0.9486 - val_loss: 0.2588\n",
            "Epoch 55/100\n",
            "\u001b[1m1313/1313\u001b[0m \u001b[32m━━━━━━━━━━━━━━━━━━━━\u001b[0m\u001b[37m\u001b[0m \u001b[1m5s\u001b[0m 3ms/step - accuracy: 0.9919 - loss: 0.0323 - val_accuracy: 0.9479 - val_loss: 0.2621\n",
            "Epoch 56/100\n",
            "\u001b[1m1313/1313\u001b[0m \u001b[32m━━━━━━━━━━━━━━━━━━━━\u001b[0m\u001b[37m\u001b[0m \u001b[1m6s\u001b[0m 4ms/step - accuracy: 0.9936 - loss: 0.0267 - val_accuracy: 0.9490 - val_loss: 0.2682\n",
            "Epoch 57/100\n",
            "\u001b[1m1313/1313\u001b[0m \u001b[32m━━━━━━━━━━━━━━━━━━━━\u001b[0m\u001b[37m\u001b[0m \u001b[1m4s\u001b[0m 3ms/step - accuracy: 0.9923 - loss: 0.0288 - val_accuracy: 0.9474 - val_loss: 0.2687\n",
            "Epoch 58/100\n",
            "\u001b[1m1313/1313\u001b[0m \u001b[32m━━━━━━━━━━━━━━━━━━━━\u001b[0m\u001b[37m\u001b[0m \u001b[1m4s\u001b[0m 3ms/step - accuracy: 0.9920 - loss: 0.0286 - val_accuracy: 0.9473 - val_loss: 0.2713\n",
            "Epoch 59/100\n",
            "\u001b[1m1313/1313\u001b[0m \u001b[32m━━━━━━━━━━━━━━━━━━━━\u001b[0m\u001b[37m\u001b[0m \u001b[1m4s\u001b[0m 3ms/step - accuracy: 0.9927 - loss: 0.0273 - val_accuracy: 0.9474 - val_loss: 0.2757\n",
            "Epoch 60/100\n",
            "\u001b[1m1313/1313\u001b[0m \u001b[32m━━━━━━━━━━━━━━━━━━━━\u001b[0m\u001b[37m\u001b[0m \u001b[1m4s\u001b[0m 3ms/step - accuracy: 0.9940 - loss: 0.0246 - val_accuracy: 0.9478 - val_loss: 0.2704\n",
            "Epoch 61/100\n",
            "\u001b[1m1313/1313\u001b[0m \u001b[32m━━━━━━━━━━━━━━━━━━━━\u001b[0m\u001b[37m\u001b[0m \u001b[1m5s\u001b[0m 3ms/step - accuracy: 0.9931 - loss: 0.0273 - val_accuracy: 0.9487 - val_loss: 0.2806\n",
            "Epoch 62/100\n",
            "\u001b[1m1313/1313\u001b[0m \u001b[32m━━━━━━━━━━━━━━━━━━━━\u001b[0m\u001b[37m\u001b[0m \u001b[1m5s\u001b[0m 4ms/step - accuracy: 0.9950 - loss: 0.0225 - val_accuracy: 0.9473 - val_loss: 0.2785\n",
            "Epoch 63/100\n",
            "\u001b[1m1313/1313\u001b[0m \u001b[32m━━━━━━━━━━━━━━━━━━━━\u001b[0m\u001b[37m\u001b[0m \u001b[1m4s\u001b[0m 3ms/step - accuracy: 0.9936 - loss: 0.0241 - val_accuracy: 0.9483 - val_loss: 0.2777\n",
            "Epoch 64/100\n",
            "\u001b[1m1313/1313\u001b[0m \u001b[32m━━━━━━━━━━━━━━━━━━━━\u001b[0m\u001b[37m\u001b[0m \u001b[1m5s\u001b[0m 3ms/step - accuracy: 0.9940 - loss: 0.0245 - val_accuracy: 0.9488 - val_loss: 0.2798\n",
            "Epoch 65/100\n",
            "\u001b[1m1313/1313\u001b[0m \u001b[32m━━━━━━━━━━━━━━━━━━━━\u001b[0m\u001b[37m\u001b[0m \u001b[1m5s\u001b[0m 3ms/step - accuracy: 0.9953 - loss: 0.0217 - val_accuracy: 0.9493 - val_loss: 0.2858\n",
            "Epoch 66/100\n",
            "\u001b[1m1313/1313\u001b[0m \u001b[32m━━━━━━━━━━━━━━━━━━━━\u001b[0m\u001b[37m\u001b[0m \u001b[1m4s\u001b[0m 3ms/step - accuracy: 0.9947 - loss: 0.0210 - val_accuracy: 0.9481 - val_loss: 0.2869\n",
            "Epoch 67/100\n",
            "\u001b[1m1313/1313\u001b[0m \u001b[32m━━━━━━━━━━━━━━━━━━━━\u001b[0m\u001b[37m\u001b[0m \u001b[1m4s\u001b[0m 3ms/step - accuracy: 0.9955 - loss: 0.0204 - val_accuracy: 0.9472 - val_loss: 0.2881\n",
            "Epoch 68/100\n",
            "\u001b[1m1313/1313\u001b[0m \u001b[32m━━━━━━━━━━━━━━━━━━━━\u001b[0m\u001b[37m\u001b[0m \u001b[1m4s\u001b[0m 3ms/step - accuracy: 0.9953 - loss: 0.0197 - val_accuracy: 0.9491 - val_loss: 0.2905\n",
            "Epoch 69/100\n",
            "\u001b[1m1313/1313\u001b[0m \u001b[32m━━━━━━━━━━━━━━━━━━━━\u001b[0m\u001b[37m\u001b[0m \u001b[1m5s\u001b[0m 3ms/step - accuracy: 0.9956 - loss: 0.0184 - val_accuracy: 0.9489 - val_loss: 0.2908\n",
            "Epoch 70/100\n",
            "\u001b[1m1313/1313\u001b[0m \u001b[32m━━━━━━━━━━━━━━━━━━━━\u001b[0m\u001b[37m\u001b[0m \u001b[1m6s\u001b[0m 4ms/step - accuracy: 0.9953 - loss: 0.0192 - val_accuracy: 0.9477 - val_loss: 0.2935\n",
            "Epoch 71/100\n",
            "\u001b[1m1313/1313\u001b[0m \u001b[32m━━━━━━━━━━━━━━━━━━━━\u001b[0m\u001b[37m\u001b[0m \u001b[1m4s\u001b[0m 3ms/step - accuracy: 0.9960 - loss: 0.0180 - val_accuracy: 0.9487 - val_loss: 0.2934\n",
            "Epoch 72/100\n",
            "\u001b[1m1313/1313\u001b[0m \u001b[32m━━━━━━━━━━━━━━━━━━━━\u001b[0m\u001b[37m\u001b[0m \u001b[1m4s\u001b[0m 3ms/step - accuracy: 0.9964 - loss: 0.0173 - val_accuracy: 0.9466 - val_loss: 0.3054\n",
            "Epoch 73/100\n",
            "\u001b[1m1313/1313\u001b[0m \u001b[32m━━━━━━━━━━━━━━━━━━━━\u001b[0m\u001b[37m\u001b[0m \u001b[1m5s\u001b[0m 3ms/step - accuracy: 0.9962 - loss: 0.0178 - val_accuracy: 0.9478 - val_loss: 0.3004\n",
            "Epoch 74/100\n",
            "\u001b[1m1313/1313\u001b[0m \u001b[32m━━━━━━━━━━━━━━━━━━━━\u001b[0m\u001b[37m\u001b[0m \u001b[1m5s\u001b[0m 3ms/step - accuracy: 0.9960 - loss: 0.0180 - val_accuracy: 0.9486 - val_loss: 0.3035\n",
            "Epoch 75/100\n",
            "\u001b[1m1313/1313\u001b[0m \u001b[32m━━━━━━━━━━━━━━━━━━━━\u001b[0m\u001b[37m\u001b[0m \u001b[1m5s\u001b[0m 4ms/step - accuracy: 0.9963 - loss: 0.0165 - val_accuracy: 0.9483 - val_loss: 0.3073\n",
            "Epoch 76/100\n",
            "\u001b[1m1313/1313\u001b[0m \u001b[32m━━━━━━━━━━━━━━━━━━━━\u001b[0m\u001b[37m\u001b[0m \u001b[1m4s\u001b[0m 3ms/step - accuracy: 0.9967 - loss: 0.0158 - val_accuracy: 0.9485 - val_loss: 0.3101\n",
            "Epoch 77/100\n",
            "\u001b[1m1313/1313\u001b[0m \u001b[32m━━━━━━━━━━━━━━━━━━━━\u001b[0m\u001b[37m\u001b[0m \u001b[1m4s\u001b[0m 3ms/step - accuracy: 0.9971 - loss: 0.0148 - val_accuracy: 0.9482 - val_loss: 0.3120\n",
            "Epoch 78/100\n",
            "\u001b[1m1313/1313\u001b[0m \u001b[32m━━━━━━━━━━━━━━━━━━━━\u001b[0m\u001b[37m\u001b[0m \u001b[1m5s\u001b[0m 4ms/step - accuracy: 0.9965 - loss: 0.0164 - val_accuracy: 0.9473 - val_loss: 0.3134\n",
            "Epoch 79/100\n",
            "\u001b[1m1313/1313\u001b[0m \u001b[32m━━━━━━━━━━━━━━━━━━━━\u001b[0m\u001b[37m\u001b[0m \u001b[1m4s\u001b[0m 3ms/step - accuracy: 0.9972 - loss: 0.0136 - val_accuracy: 0.9482 - val_loss: 0.3130\n",
            "Epoch 80/100\n",
            "\u001b[1m1313/1313\u001b[0m \u001b[32m━━━━━━━━━━━━━━━━━━━━\u001b[0m\u001b[37m\u001b[0m \u001b[1m7s\u001b[0m 4ms/step - accuracy: 0.9975 - loss: 0.0138 - val_accuracy: 0.9491 - val_loss: 0.3111\n",
            "Epoch 81/100\n",
            "\u001b[1m1313/1313\u001b[0m \u001b[32m━━━━━━━━━━━━━━━━━━━━\u001b[0m\u001b[37m\u001b[0m \u001b[1m8s\u001b[0m 3ms/step - accuracy: 0.9979 - loss: 0.0135 - val_accuracy: 0.9472 - val_loss: 0.3167\n",
            "Epoch 82/100\n",
            "\u001b[1m1313/1313\u001b[0m \u001b[32m━━━━━━━━━━━━━━━━━━━━\u001b[0m\u001b[37m\u001b[0m \u001b[1m4s\u001b[0m 3ms/step - accuracy: 0.9975 - loss: 0.0130 - val_accuracy: 0.9483 - val_loss: 0.3179\n",
            "Epoch 83/100\n",
            "\u001b[1m1313/1313\u001b[0m \u001b[32m━━━━━━━━━━━━━━━━━━━━\u001b[0m\u001b[37m\u001b[0m \u001b[1m4s\u001b[0m 3ms/step - accuracy: 0.9981 - loss: 0.0121 - val_accuracy: 0.9481 - val_loss: 0.3229\n",
            "Epoch 84/100\n",
            "\u001b[1m1313/1313\u001b[0m \u001b[32m━━━━━━━━━━━━━━━━━━━━\u001b[0m\u001b[37m\u001b[0m \u001b[1m5s\u001b[0m 3ms/step - accuracy: 0.9971 - loss: 0.0129 - val_accuracy: 0.9484 - val_loss: 0.3249\n",
            "Epoch 85/100\n",
            "\u001b[1m1313/1313\u001b[0m \u001b[32m━━━━━━━━━━━━━━━━━━━━\u001b[0m\u001b[37m\u001b[0m \u001b[1m5s\u001b[0m 4ms/step - accuracy: 0.9969 - loss: 0.0132 - val_accuracy: 0.9466 - val_loss: 0.3296\n",
            "Epoch 86/100\n",
            "\u001b[1m1313/1313\u001b[0m \u001b[32m━━━━━━━━━━━━━━━━━━━━\u001b[0m\u001b[37m\u001b[0m \u001b[1m4s\u001b[0m 3ms/step - accuracy: 0.9977 - loss: 0.0118 - val_accuracy: 0.9487 - val_loss: 0.3300\n",
            "Epoch 87/100\n",
            "\u001b[1m1313/1313\u001b[0m \u001b[32m━━━━━━━━━━━━━━━━━━━━\u001b[0m\u001b[37m\u001b[0m \u001b[1m5s\u001b[0m 3ms/step - accuracy: 0.9983 - loss: 0.0109 - val_accuracy: 0.9450 - val_loss: 0.3617\n",
            "Epoch 88/100\n",
            "\u001b[1m1313/1313\u001b[0m \u001b[32m━━━━━━━━━━━━━━━━━━━━\u001b[0m\u001b[37m\u001b[0m \u001b[1m5s\u001b[0m 3ms/step - accuracy: 0.9978 - loss: 0.0136 - val_accuracy: 0.9486 - val_loss: 0.3334\n",
            "Epoch 89/100\n",
            "\u001b[1m1313/1313\u001b[0m \u001b[32m━━━━━━━━━━━━━━━━━━━━\u001b[0m\u001b[37m\u001b[0m \u001b[1m5s\u001b[0m 3ms/step - accuracy: 0.9981 - loss: 0.0107 - val_accuracy: 0.9467 - val_loss: 0.3436\n",
            "Epoch 90/100\n",
            "\u001b[1m1313/1313\u001b[0m \u001b[32m━━━━━━━━━━━━━━━━━━━━\u001b[0m\u001b[37m\u001b[0m \u001b[1m6s\u001b[0m 4ms/step - accuracy: 0.9980 - loss: 0.0119 - val_accuracy: 0.9478 - val_loss: 0.3410\n",
            "Epoch 91/100\n",
            "\u001b[1m1313/1313\u001b[0m \u001b[32m━━━━━━━━━━━━━━━━━━━━\u001b[0m\u001b[37m\u001b[0m \u001b[1m4s\u001b[0m 3ms/step - accuracy: 0.9981 - loss: 0.0113 - val_accuracy: 0.9481 - val_loss: 0.3391\n",
            "Epoch 92/100\n",
            "\u001b[1m1313/1313\u001b[0m \u001b[32m━━━━━━━━━━━━━━━━━━━━\u001b[0m\u001b[37m\u001b[0m \u001b[1m5s\u001b[0m 3ms/step - accuracy: 0.9984 - loss: 0.0099 - val_accuracy: 0.9489 - val_loss: 0.3376\n",
            "Epoch 93/100\n",
            "\u001b[1m1313/1313\u001b[0m \u001b[32m━━━━━━━━━━━━━━━━━━━━\u001b[0m\u001b[37m\u001b[0m \u001b[1m4s\u001b[0m 3ms/step - accuracy: 0.9980 - loss: 0.0104 - val_accuracy: 0.9478 - val_loss: 0.3452\n",
            "Epoch 94/100\n",
            "\u001b[1m1313/1313\u001b[0m \u001b[32m━━━━━━━━━━━━━━━━━━━━\u001b[0m\u001b[37m\u001b[0m \u001b[1m5s\u001b[0m 3ms/step - accuracy: 0.9982 - loss: 0.0108 - val_accuracy: 0.9488 - val_loss: 0.3422\n",
            "Epoch 95/100\n",
            "\u001b[1m1313/1313\u001b[0m \u001b[32m━━━━━━━━━━━━━━━━━━━━\u001b[0m\u001b[37m\u001b[0m \u001b[1m4s\u001b[0m 3ms/step - accuracy: 0.9987 - loss: 0.0088 - val_accuracy: 0.9488 - val_loss: 0.3448\n",
            "Epoch 96/100\n",
            "\u001b[1m1313/1313\u001b[0m \u001b[32m━━━━━━━━━━━━━━━━━━━━\u001b[0m\u001b[37m\u001b[0m \u001b[1m5s\u001b[0m 3ms/step - accuracy: 0.9984 - loss: 0.0092 - val_accuracy: 0.9486 - val_loss: 0.3490\n",
            "Epoch 97/100\n",
            "\u001b[1m1313/1313\u001b[0m \u001b[32m━━━━━━━━━━━━━━━━━━━━\u001b[0m\u001b[37m\u001b[0m \u001b[1m6s\u001b[0m 3ms/step - accuracy: 0.9991 - loss: 0.0073 - val_accuracy: 0.9479 - val_loss: 0.3508\n",
            "Epoch 98/100\n",
            "\u001b[1m1313/1313\u001b[0m \u001b[32m━━━━━━━━━━━━━━━━━━━━\u001b[0m\u001b[37m\u001b[0m \u001b[1m5s\u001b[0m 3ms/step - accuracy: 0.9992 - loss: 0.0078 - val_accuracy: 0.9483 - val_loss: 0.3519\n",
            "Epoch 99/100\n",
            "\u001b[1m1313/1313\u001b[0m \u001b[32m━━━━━━━━━━━━━━━━━━━━\u001b[0m\u001b[37m\u001b[0m \u001b[1m5s\u001b[0m 3ms/step - accuracy: 0.9989 - loss: 0.0077 - val_accuracy: 0.9485 - val_loss: 0.3552\n",
            "Epoch 100/100\n",
            "\u001b[1m1313/1313\u001b[0m \u001b[32m━━━━━━━━━━━━━━━━━━━━\u001b[0m\u001b[37m\u001b[0m \u001b[1m4s\u001b[0m 3ms/step - accuracy: 0.9993 - loss: 0.0070 - val_accuracy: 0.9471 - val_loss: 0.3606\n"
          ]
        }
      ],
      "source": [
        "model = mlp_model()\n",
        "history = model.fit(X_train, y_train, validation_split = 0.3, epochs = 100, verbose = 1)"
      ]
    },
    {
      "cell_type": "code",
      "execution_count": 29,
      "metadata": {
        "colab": {
          "base_uri": "https://localhost:8080/",
          "height": 430
        },
        "id": "Fig-BD1Qm81O",
        "outputId": "ecabecfe-e57c-48a0-cf2e-0d8c91b6930a"
      },
      "outputs": [
        {
          "output_type": "display_data",
          "data": {
            "text/plain": [
              "<Figure size 640x480 with 1 Axes>"
            ],
            "image/png": "[encoded data removed]"
          },
          "metadata": {}
        }
      ],
      "source": [
        "plt.plot(history.history['accuracy'])\n",
        "plt.plot(history.history['val_accuracy'])\n",
        "plt.plot(history.history['loss'])\n",
        "plt.plot(history.history['val_loss'])\n",
        "plt.legend(['train acc', 'valid acc', 'train loss', 'valid loss'], loc = 'upper left')\n",
        "plt.show()"
      ]
    },
    {
      "cell_type": "markdown",
      "metadata": {
        "id": "TutiUGFIm81Q"
      },
      "source": [
        "Training and validation accuracy improve instantaneously, but reach a plateau after around 30 epochs"
      ]
    },
    {
      "cell_type": "code",
      "execution_count": 30,
      "metadata": {
        "colab": {
          "base_uri": "https://localhost:8080/"
        },
        "id": "koMrvUyJm81R",
        "outputId": "eca826fa-b530-4f3f-e6c0-52a9617acae5"
      },
      "outputs": [
        {
          "output_type": "stream",
          "name": "stdout",
          "text": [
            "\u001b[1m313/313\u001b[0m \u001b[32m━━━━━━━━━━━━━━━━━━━━\u001b[0m\u001b[37m\u001b[0m \u001b[1m1s\u001b[0m 2ms/step - accuracy: 0.9413 - loss: 0.4032\n"
          ]
        }
      ],
      "source": [
        "results = model.evaluate(X_test, y_test)"
      ]
    },
    {
      "cell_type": "code",
      "execution_count": 31,
      "metadata": {
        "colab": {
          "base_uri": "https://localhost:8080/"
        },
        "id": "p7YpK2Pvm81T",
        "outputId": "5a901883-3145-4867-9d3e-d0f18860363b"
      },
      "outputs": [
        {
          "output_type": "stream",
          "name": "stdout",
          "text": [
            "Test accuracy:  0.9498999714851379\n"
          ]
        }
      ],
      "source": [
        "print('Test accuracy: ', results[1])"
      ]
    },
    {
      "cell_type": "markdown",
      "metadata": {
        "id": "dAXeKxOiQpgB"
      },
      "source": [
        "## 2. Weight Initialization with relu activations\n",
        "- Changing weight initialization scheme can sometimes improve training of the model by preventing vanishing gradient problem up to some degree\n",
        "- He normal or Xavier normal initialization schemes are SOTA at the moment\n",
        "- Doc: https://keras.io/initializers/"
      ]
    },
    {
      "cell_type": "code",
      "execution_count": 32,
      "metadata": {
        "id": "Nu8A8qXfQpgB"
      },
      "outputs": [],
      "source": [
        "# from now on, create a function to generate (return) models\n",
        "def mlp_model():\n",
        "    model = Sequential()\n",
        "\n",
        "    model.add(Dense(50, input_shape = (784, ), kernel_initializer='he_normal'))     # use he_normal initializer\n",
        "    model.add(Activation('relu'))\n",
        "    model.add(Dense(50, kernel_initializer='he_normal'))                            # use he_normal initializer\n",
        "    model.add(Activation('relu'))\n",
        "    model.add(Dense(50, kernel_initializer='he_normal'))                            # use he_normal initializer\n",
        "    model.add(Activation('relu'))\n",
        "    model.add(Dense(50, kernel_initializer='he_normal'))                            # use he_normal initializer\n",
        "    model.add(Activation('relu'))\n",
        "    model.add(Dense(10, kernel_initializer='he_normal'))                            # use he_normal initializer\n",
        "    model.add(Activation('softmax'))\n",
        "\n",
        "    sgd = optimizers.SGD(learning_rate = 0.001)\n",
        "    model.compile(optimizer = sgd, loss = 'categorical_crossentropy', metrics = ['accuracy'])\n",
        "\n",
        "    return model"
      ]
    },
    {
      "cell_type": "code",
      "execution_count": 33,
      "metadata": {
        "id": "EbIuOQkUQpgB",
        "outputId": "4bdbcf41-9426-444a-a5f1-b10e2a09a485",
        "colab": {
          "base_uri": "https://localhost:8080/"
        }
      },
      "outputs": [
        {
          "output_type": "stream",
          "name": "stdout",
          "text": [
            "Epoch 1/100\n",
            "\u001b[1m1313/1313\u001b[0m \u001b[32m━━━━━━━━━━━━━━━━━━━━\u001b[0m\u001b[37m\u001b[0m \u001b[1m5s\u001b[0m 3ms/step - accuracy: 0.4480 - loss: 6.4445 - val_accuracy: 0.7501 - val_loss: 0.8179\n",
            "Epoch 2/100\n",
            "\u001b[1m1313/1313\u001b[0m \u001b[32m━━━━━━━━━━━━━━━━━━━━\u001b[0m\u001b[37m\u001b[0m \u001b[1m5s\u001b[0m 3ms/step - accuracy: 0.7856 - loss: 0.7316 - val_accuracy: 0.8463 - val_loss: 0.5548\n",
            "Epoch 3/100\n",
            "\u001b[1m1313/1313\u001b[0m \u001b[32m━━━━━━━━━━━━━━━━━━━━\u001b[0m\u001b[37m\u001b[0m \u001b[1m5s\u001b[0m 3ms/step - accuracy: 0.8543 - loss: 0.5215 - val_accuracy: 0.8719 - val_loss: 0.4614\n",
            "Epoch 4/100\n",
            "\u001b[1m1313/1313\u001b[0m \u001b[32m━━━━━━━━━━━━━━━━━━━━\u001b[0m\u001b[37m\u001b[0m \u001b[1m4s\u001b[0m 3ms/step - accuracy: 0.8806 - loss: 0.4345 - val_accuracy: 0.8860 - val_loss: 0.4166\n",
            "Epoch 5/100\n",
            "\u001b[1m1313/1313\u001b[0m \u001b[32m━━━━━━━━━━━━━━━━━━━━\u001b[0m\u001b[37m\u001b[0m \u001b[1m6s\u001b[0m 3ms/step - accuracy: 0.8912 - loss: 0.3910 - val_accuracy: 0.8945 - val_loss: 0.3990\n",
            "Epoch 6/100\n",
            "\u001b[1m1313/1313\u001b[0m \u001b[32m━━━━━━━━━━━━━━━━━━━━\u001b[0m\u001b[37m\u001b[0m \u001b[1m4s\u001b[0m 3ms/step - accuracy: 0.9027 - loss: 0.3479 - val_accuracy: 0.9026 - val_loss: 0.3678\n",
            "Epoch 7/100\n",
            "\u001b[1m1313/1313\u001b[0m \u001b[32m━━━━━━━━━━━━━━━━━━━━\u001b[0m\u001b[37m\u001b[0m \u001b[1m4s\u001b[0m 3ms/step - accuracy: 0.9078 - loss: 0.3301 - val_accuracy: 0.9066 - val_loss: 0.3540\n",
            "Epoch 8/100\n",
            "\u001b[1m1313/1313\u001b[0m \u001b[32m━━━━━━━━━━━━━━━━━━━━\u001b[0m\u001b[37m\u001b[0m \u001b[1m6s\u001b[0m 4ms/step - accuracy: 0.9157 - loss: 0.3041 - val_accuracy: 0.9073 - val_loss: 0.3375\n",
            "Epoch 9/100\n",
            "\u001b[1m1313/1313\u001b[0m \u001b[32m━━━━━━━━━━━━━━━━━━━━\u001b[0m\u001b[37m\u001b[0m \u001b[1m4s\u001b[0m 3ms/step - accuracy: 0.9163 - loss: 0.2915 - val_accuracy: 0.9083 - val_loss: 0.3444\n",
            "Epoch 10/100\n",
            "\u001b[1m1313/1313\u001b[0m \u001b[32m━━━━━━━━━━━━━━━━━━━━\u001b[0m\u001b[37m\u001b[0m \u001b[1m4s\u001b[0m 3ms/step - accuracy: 0.9196 - loss: 0.2807 - val_accuracy: 0.9147 - val_loss: 0.3213\n",
            "Epoch 11/100\n",
            "\u001b[1m1313/1313\u001b[0m \u001b[32m━━━━━━━━━━━━━━━━━━━━\u001b[0m\u001b[37m\u001b[0m \u001b[1m6s\u001b[0m 4ms/step - accuracy: 0.9248 - loss: 0.2605 - val_accuracy: 0.9168 - val_loss: 0.3243\n",
            "Epoch 12/100\n",
            "\u001b[1m1313/1313\u001b[0m \u001b[32m━━━━━━━━━━━━━━━━━━━━\u001b[0m\u001b[37m\u001b[0m \u001b[1m4s\u001b[0m 3ms/step - accuracy: 0.9249 - loss: 0.2584 - val_accuracy: 0.9165 - val_loss: 0.3086\n",
            "Epoch 13/100\n",
            "\u001b[1m1313/1313\u001b[0m \u001b[32m━━━━━━━━━━━━━━━━━━━━\u001b[0m\u001b[37m\u001b[0m \u001b[1m4s\u001b[0m 3ms/step - accuracy: 0.9274 - loss: 0.2540 - val_accuracy: 0.9176 - val_loss: 0.3118\n",
            "Epoch 14/100\n",
            "\u001b[1m1313/1313\u001b[0m \u001b[32m━━━━━━━━━━━━━━━━━━━━\u001b[0m\u001b[37m\u001b[0m \u001b[1m5s\u001b[0m 3ms/step - accuracy: 0.9283 - loss: 0.2481 - val_accuracy: 0.9199 - val_loss: 0.3102\n",
            "Epoch 15/100\n",
            "\u001b[1m1313/1313\u001b[0m \u001b[32m━━━━━━━━━━━━━━━━━━━━\u001b[0m\u001b[37m\u001b[0m \u001b[1m4s\u001b[0m 3ms/step - accuracy: 0.9295 - loss: 0.2456 - val_accuracy: 0.9209 - val_loss: 0.3047\n",
            "Epoch 16/100\n",
            "\u001b[1m1313/1313\u001b[0m \u001b[32m━━━━━━━━━━━━━━━━━━━━\u001b[0m\u001b[37m\u001b[0m \u001b[1m5s\u001b[0m 4ms/step - accuracy: 0.9331 - loss: 0.2340 - val_accuracy: 0.9226 - val_loss: 0.2985\n",
            "Epoch 17/100\n",
            "\u001b[1m1313/1313\u001b[0m \u001b[32m━━━━━━━━━━━━━━━━━━━━\u001b[0m\u001b[37m\u001b[0m \u001b[1m4s\u001b[0m 3ms/step - accuracy: 0.9335 - loss: 0.2342 - val_accuracy: 0.9209 - val_loss: 0.2951\n",
            "Epoch 18/100\n",
            "\u001b[1m1313/1313\u001b[0m \u001b[32m━━━━━━━━━━━━━━━━━━━━\u001b[0m\u001b[37m\u001b[0m \u001b[1m5s\u001b[0m 3ms/step - accuracy: 0.9354 - loss: 0.2233 - val_accuracy: 0.9226 - val_loss: 0.2976\n",
            "Epoch 19/100\n",
            "\u001b[1m1313/1313\u001b[0m \u001b[32m━━━━━━━━━━━━━━━━━━━━\u001b[0m\u001b[37m\u001b[0m \u001b[1m4s\u001b[0m 3ms/step - accuracy: 0.9374 - loss: 0.2221 - val_accuracy: 0.9231 - val_loss: 0.2925\n",
            "Epoch 20/100\n",
            "\u001b[1m1313/1313\u001b[0m \u001b[32m━━━━━━━━━━━━━━━━━━━━\u001b[0m\u001b[37m\u001b[0m \u001b[1m4s\u001b[0m 3ms/step - accuracy: 0.9392 - loss: 0.2141 - val_accuracy: 0.9229 - val_loss: 0.2996\n",
            "Epoch 21/100\n",
            "\u001b[1m1313/1313\u001b[0m \u001b[32m━━━━━━━━━━━━━━━━━━━━\u001b[0m\u001b[37m\u001b[0m \u001b[1m4s\u001b[0m 3ms/step - accuracy: 0.9392 - loss: 0.2127 - val_accuracy: 0.9248 - val_loss: 0.2829\n",
            "Epoch 22/100\n",
            "\u001b[1m1313/1313\u001b[0m \u001b[32m━━━━━━━━━━━━━━━━━━━━\u001b[0m\u001b[37m\u001b[0m \u001b[1m6s\u001b[0m 3ms/step - accuracy: 0.9396 - loss: 0.2073 - val_accuracy: 0.9237 - val_loss: 0.2874\n",
            "Epoch 23/100\n",
            "\u001b[1m1313/1313\u001b[0m \u001b[32m━━━━━━━━━━━━━━━━━━━━\u001b[0m\u001b[37m\u001b[0m \u001b[1m4s\u001b[0m 3ms/step - accuracy: 0.9437 - loss: 0.2017 - val_accuracy: 0.9252 - val_loss: 0.2881\n",
            "Epoch 24/100\n",
            "\u001b[1m1313/1313\u001b[0m \u001b[32m━━━━━━━━━━━━━━━━━━━━\u001b[0m\u001b[37m\u001b[0m \u001b[1m7s\u001b[0m 4ms/step - accuracy: 0.9428 - loss: 0.1990 - val_accuracy: 0.9282 - val_loss: 0.2812\n",
            "Epoch 25/100\n",
            "\u001b[1m1313/1313\u001b[0m \u001b[32m━━━━━━━━━━━━━━━━━━━━\u001b[0m\u001b[37m\u001b[0m \u001b[1m8s\u001b[0m 3ms/step - accuracy: 0.9433 - loss: 0.2032 - val_accuracy: 0.9281 - val_loss: 0.2790\n",
            "Epoch 26/100\n",
            "\u001b[1m1313/1313\u001b[0m \u001b[32m━━━━━━━━━━━━━━━━━━━━\u001b[0m\u001b[37m\u001b[0m \u001b[1m5s\u001b[0m 4ms/step - accuracy: 0.9440 - loss: 0.1923 - val_accuracy: 0.9271 - val_loss: 0.2825\n",
            "Epoch 27/100\n",
            "\u001b[1m1313/1313\u001b[0m \u001b[32m━━━━━━━━━━━━━━━━━━━━\u001b[0m\u001b[37m\u001b[0m \u001b[1m4s\u001b[0m 3ms/step - accuracy: 0.9441 - loss: 0.1950 - val_accuracy: 0.9273 - val_loss: 0.2818\n",
            "Epoch 28/100\n",
            "\u001b[1m1313/1313\u001b[0m \u001b[32m━━━━━━━━━━━━━━━━━━━━\u001b[0m\u001b[37m\u001b[0m \u001b[1m6s\u001b[0m 4ms/step - accuracy: 0.9459 - loss: 0.1882 - val_accuracy: 0.9283 - val_loss: 0.2820\n",
            "Epoch 29/100\n",
            "\u001b[1m1313/1313\u001b[0m \u001b[32m━━━━━━━━━━━━━━━━━━━━\u001b[0m\u001b[37m\u001b[0m \u001b[1m4s\u001b[0m 3ms/step - accuracy: 0.9474 - loss: 0.1840 - val_accuracy: 0.9286 - val_loss: 0.2829\n",
            "Epoch 30/100\n",
            "\u001b[1m1313/1313\u001b[0m \u001b[32m━━━━━━━━━━━━━━━━━━━━\u001b[0m\u001b[37m\u001b[0m \u001b[1m4s\u001b[0m 3ms/step - accuracy: 0.9470 - loss: 0.1817 - val_accuracy: 0.9269 - val_loss: 0.2895\n",
            "Epoch 31/100\n",
            "\u001b[1m1313/1313\u001b[0m \u001b[32m━━━━━━━━━━━━━━━━━━━━\u001b[0m\u001b[37m\u001b[0m \u001b[1m4s\u001b[0m 3ms/step - accuracy: 0.9486 - loss: 0.1764 - val_accuracy: 0.9292 - val_loss: 0.2809\n",
            "Epoch 32/100\n",
            "\u001b[1m1313/1313\u001b[0m \u001b[32m━━━━━━━━━━━━━━━━━━━━\u001b[0m\u001b[37m\u001b[0m \u001b[1m5s\u001b[0m 4ms/step - accuracy: 0.9494 - loss: 0.1750 - val_accuracy: 0.9282 - val_loss: 0.2793\n",
            "Epoch 33/100\n",
            "\u001b[1m1313/1313\u001b[0m \u001b[32m━━━━━━━━━━━━━━━━━━━━\u001b[0m\u001b[37m\u001b[0m \u001b[1m4s\u001b[0m 3ms/step - accuracy: 0.9482 - loss: 0.1793 - val_accuracy: 0.9221 - val_loss: 0.2946\n",
            "Epoch 34/100\n",
            "\u001b[1m1313/1313\u001b[0m \u001b[32m━━━━━━━━━━━━━━━━━━━━\u001b[0m\u001b[37m\u001b[0m \u001b[1m6s\u001b[0m 4ms/step - accuracy: 0.9494 - loss: 0.1764 - val_accuracy: 0.9294 - val_loss: 0.2775\n",
            "Epoch 35/100\n",
            "\u001b[1m1313/1313\u001b[0m \u001b[32m━━━━━━━━━━━━━━━━━━━━\u001b[0m\u001b[37m\u001b[0m \u001b[1m4s\u001b[0m 3ms/step - accuracy: 0.9501 - loss: 0.1706 - val_accuracy: 0.9292 - val_loss: 0.2762\n",
            "Epoch 36/100\n",
            "\u001b[1m1313/1313\u001b[0m \u001b[32m━━━━━━━━━━━━━━━━━━━━\u001b[0m\u001b[37m\u001b[0m \u001b[1m3s\u001b[0m 3ms/step - accuracy: 0.9518 - loss: 0.1664 - val_accuracy: 0.9298 - val_loss: 0.2774\n",
            "Epoch 37/100\n",
            "\u001b[1m1313/1313\u001b[0m \u001b[32m━━━━━━━━━━━━━━━━━━━━\u001b[0m\u001b[37m\u001b[0m \u001b[1m6s\u001b[0m 3ms/step - accuracy: 0.9534 - loss: 0.1625 - val_accuracy: 0.9314 - val_loss: 0.2725\n",
            "Epoch 38/100\n",
            "\u001b[1m1313/1313\u001b[0m \u001b[32m━━━━━━━━━━━━━━━━━━━━\u001b[0m\u001b[37m\u001b[0m \u001b[1m5s\u001b[0m 3ms/step - accuracy: 0.9532 - loss: 0.1626 - val_accuracy: 0.9306 - val_loss: 0.2751\n",
            "Epoch 39/100\n",
            "\u001b[1m1313/1313\u001b[0m \u001b[32m━━━━━━━━━━━━━━━━━━━━\u001b[0m\u001b[37m\u001b[0m \u001b[1m5s\u001b[0m 4ms/step - accuracy: 0.9541 - loss: 0.1589 - val_accuracy: 0.9317 - val_loss: 0.2749\n",
            "Epoch 40/100\n",
            "\u001b[1m1313/1313\u001b[0m \u001b[32m━━━━━━━━━━━━━━━━━━━━\u001b[0m\u001b[37m\u001b[0m \u001b[1m4s\u001b[0m 3ms/step - accuracy: 0.9522 - loss: 0.1630 - val_accuracy: 0.9311 - val_loss: 0.2732\n",
            "Epoch 41/100\n",
            "\u001b[1m1313/1313\u001b[0m \u001b[32m━━━━━━━━━━━━━━━━━━━━\u001b[0m\u001b[37m\u001b[0m \u001b[1m5s\u001b[0m 3ms/step - accuracy: 0.9549 - loss: 0.1600 - val_accuracy: 0.9322 - val_loss: 0.2733\n",
            "Epoch 42/100\n",
            "\u001b[1m1313/1313\u001b[0m \u001b[32m━━━━━━━━━━━━━━━━━━━━\u001b[0m\u001b[37m\u001b[0m \u001b[1m5s\u001b[0m 3ms/step - accuracy: 0.9523 - loss: 0.1645 - val_accuracy: 0.9317 - val_loss: 0.2711\n",
            "Epoch 43/100\n",
            "\u001b[1m1313/1313\u001b[0m \u001b[32m━━━━━━━━━━━━━━━━━━━━\u001b[0m\u001b[37m\u001b[0m \u001b[1m4s\u001b[0m 3ms/step - accuracy: 0.9548 - loss: 0.1538 - val_accuracy: 0.9316 - val_loss: 0.2797\n",
            "Epoch 44/100\n",
            "\u001b[1m1313/1313\u001b[0m \u001b[32m━━━━━━━━━━━━━━━━━━━━\u001b[0m\u001b[37m\u001b[0m \u001b[1m4s\u001b[0m 3ms/step - accuracy: 0.9562 - loss: 0.1540 - val_accuracy: 0.9331 - val_loss: 0.2761\n",
            "Epoch 45/100\n",
            "\u001b[1m1313/1313\u001b[0m \u001b[32m━━━━━━━━━━━━━━━━━━━━\u001b[0m\u001b[37m\u001b[0m \u001b[1m4s\u001b[0m 3ms/step - accuracy: 0.9534 - loss: 0.1578 - val_accuracy: 0.9332 - val_loss: 0.2691\n",
            "Epoch 46/100\n",
            "\u001b[1m1313/1313\u001b[0m \u001b[32m━━━━━━━━━━━━━━━━━━━━\u001b[0m\u001b[37m\u001b[0m \u001b[1m5s\u001b[0m 3ms/step - accuracy: 0.9576 - loss: 0.1464 - val_accuracy: 0.9323 - val_loss: 0.2708\n",
            "Epoch 47/100\n",
            "\u001b[1m1313/1313\u001b[0m \u001b[32m━━━━━━━━━━━━━━━━━━━━\u001b[0m\u001b[37m\u001b[0m \u001b[1m5s\u001b[0m 4ms/step - accuracy: 0.9556 - loss: 0.1540 - val_accuracy: 0.9320 - val_loss: 0.2733\n",
            "Epoch 48/100\n",
            "\u001b[1m1313/1313\u001b[0m \u001b[32m━━━━━━━━━━━━━━━━━━━━\u001b[0m\u001b[37m\u001b[0m \u001b[1m9s\u001b[0m 3ms/step - accuracy: 0.9579 - loss: 0.1471 - val_accuracy: 0.9328 - val_loss: 0.2770\n",
            "Epoch 49/100\n",
            "\u001b[1m1313/1313\u001b[0m \u001b[32m━━━━━━━━━━━━━━━━━━━━\u001b[0m\u001b[37m\u001b[0m \u001b[1m4s\u001b[0m 3ms/step - accuracy: 0.9579 - loss: 0.1443 - val_accuracy: 0.9313 - val_loss: 0.2758\n",
            "Epoch 50/100\n",
            "\u001b[1m1313/1313\u001b[0m \u001b[32m━━━━━━━━━━━━━━━━━━━━\u001b[0m\u001b[37m\u001b[0m \u001b[1m5s\u001b[0m 3ms/step - accuracy: 0.9595 - loss: 0.1408 - val_accuracy: 0.9314 - val_loss: 0.2842\n",
            "Epoch 51/100\n",
            "\u001b[1m1313/1313\u001b[0m \u001b[32m━━━━━━━━━━━━━━━━━━━━\u001b[0m\u001b[37m\u001b[0m \u001b[1m5s\u001b[0m 3ms/step - accuracy: 0.9575 - loss: 0.1449 - val_accuracy: 0.9332 - val_loss: 0.2768\n",
            "Epoch 52/100\n",
            "\u001b[1m1313/1313\u001b[0m \u001b[32m━━━━━━━━━━━━━━━━━━━━\u001b[0m\u001b[37m\u001b[0m \u001b[1m4s\u001b[0m 3ms/step - accuracy: 0.9597 - loss: 0.1446 - val_accuracy: 0.9329 - val_loss: 0.2816\n",
            "Epoch 53/100\n",
            "\u001b[1m1313/1313\u001b[0m \u001b[32m━━━━━━━━━━━━━━━━━━━━\u001b[0m\u001b[37m\u001b[0m \u001b[1m4s\u001b[0m 3ms/step - accuracy: 0.9599 - loss: 0.1384 - val_accuracy: 0.9326 - val_loss: 0.2745\n",
            "Epoch 54/100\n",
            "\u001b[1m1313/1313\u001b[0m \u001b[32m━━━━━━━━━━━━━━━━━━━━\u001b[0m\u001b[37m\u001b[0m \u001b[1m7s\u001b[0m 4ms/step - accuracy: 0.9600 - loss: 0.1353 - val_accuracy: 0.9333 - val_loss: 0.2756\n",
            "Epoch 55/100\n",
            "\u001b[1m1313/1313\u001b[0m \u001b[32m━━━━━━━━━━━━━━━━━━━━\u001b[0m\u001b[37m\u001b[0m \u001b[1m9s\u001b[0m 3ms/step - accuracy: 0.9617 - loss: 0.1313 - val_accuracy: 0.9332 - val_loss: 0.2765\n",
            "Epoch 56/100\n",
            "\u001b[1m1313/1313\u001b[0m \u001b[32m━━━━━━━━━━━━━━━━━━━━\u001b[0m\u001b[37m\u001b[0m \u001b[1m5s\u001b[0m 4ms/step - accuracy: 0.9617 - loss: 0.1312 - val_accuracy: 0.9340 - val_loss: 0.2730\n",
            "Epoch 57/100\n",
            "\u001b[1m1313/1313\u001b[0m \u001b[32m━━━━━━━━━━━━━━━━━━━━\u001b[0m\u001b[37m\u001b[0m \u001b[1m4s\u001b[0m 3ms/step - accuracy: 0.9624 - loss: 0.1337 - val_accuracy: 0.9339 - val_loss: 0.2754\n",
            "Epoch 58/100\n",
            "\u001b[1m1313/1313\u001b[0m \u001b[32m━━━━━━━━━━━━━━━━━━━━\u001b[0m\u001b[37m\u001b[0m \u001b[1m5s\u001b[0m 3ms/step - accuracy: 0.9620 - loss: 0.1344 - val_accuracy: 0.9331 - val_loss: 0.2785\n",
            "Epoch 59/100\n",
            "\u001b[1m1313/1313\u001b[0m \u001b[32m━━━━━━━━━━━━━━━━━━━━\u001b[0m\u001b[37m\u001b[0m \u001b[1m5s\u001b[0m 4ms/step - accuracy: 0.9630 - loss: 0.1295 - val_accuracy: 0.9337 - val_loss: 0.2741\n",
            "Epoch 60/100\n",
            "\u001b[1m1313/1313\u001b[0m \u001b[32m━━━━━━━━━━━━━━━━━━━━\u001b[0m\u001b[37m\u001b[0m \u001b[1m4s\u001b[0m 3ms/step - accuracy: 0.9649 - loss: 0.1218 - val_accuracy: 0.9343 - val_loss: 0.2811\n",
            "Epoch 61/100\n",
            "\u001b[1m1313/1313\u001b[0m \u001b[32m━━━━━━━━━━━━━━━━━━━━\u001b[0m\u001b[37m\u001b[0m \u001b[1m4s\u001b[0m 3ms/step - accuracy: 0.9642 - loss: 0.1251 - val_accuracy: 0.9332 - val_loss: 0.2811\n",
            "Epoch 62/100\n",
            "\u001b[1m1313/1313\u001b[0m \u001b[32m━━━━━━━━━━━━━━━━━━━━\u001b[0m\u001b[37m\u001b[0m \u001b[1m5s\u001b[0m 3ms/step - accuracy: 0.9633 - loss: 0.1252 - val_accuracy: 0.9332 - val_loss: 0.2766\n",
            "Epoch 63/100\n",
            "\u001b[1m1313/1313\u001b[0m \u001b[32m━━━━━━━━━━━━━━━━━━━━\u001b[0m\u001b[37m\u001b[0m \u001b[1m4s\u001b[0m 3ms/step - accuracy: 0.9637 - loss: 0.1252 - val_accuracy: 0.9341 - val_loss: 0.2752\n",
            "Epoch 64/100\n",
            "\u001b[1m1313/1313\u001b[0m \u001b[32m━━━━━━━━━━━━━━━━━━━━\u001b[0m\u001b[37m\u001b[0m \u001b[1m6s\u001b[0m 4ms/step - accuracy: 0.9647 - loss: 0.1224 - val_accuracy: 0.9331 - val_loss: 0.2790\n",
            "Epoch 65/100\n",
            "\u001b[1m1313/1313\u001b[0m \u001b[32m━━━━━━━━━━━━━━━━━━━━\u001b[0m\u001b[37m\u001b[0m \u001b[1m4s\u001b[0m 3ms/step - accuracy: 0.9646 - loss: 0.1217 - val_accuracy: 0.9351 - val_loss: 0.2789\n",
            "Epoch 66/100\n",
            "\u001b[1m1313/1313\u001b[0m \u001b[32m━━━━━━━━━━━━━━━━━━━━\u001b[0m\u001b[37m\u001b[0m \u001b[1m5s\u001b[0m 3ms/step - accuracy: 0.9652 - loss: 0.1206 - val_accuracy: 0.9347 - val_loss: 0.2783\n",
            "Epoch 67/100\n",
            "\u001b[1m1313/1313\u001b[0m \u001b[32m━━━━━━━━━━━━━━━━━━━━\u001b[0m\u001b[37m\u001b[0m \u001b[1m5s\u001b[0m 4ms/step - accuracy: 0.9665 - loss: 0.1175 - val_accuracy: 0.9321 - val_loss: 0.2859\n",
            "Epoch 68/100\n",
            "\u001b[1m1313/1313\u001b[0m \u001b[32m━━━━━━━━━━━━━━━━━━━━\u001b[0m\u001b[37m\u001b[0m \u001b[1m4s\u001b[0m 3ms/step - accuracy: 0.9636 - loss: 0.1198 - val_accuracy: 0.9333 - val_loss: 0.2784\n",
            "Epoch 69/100\n",
            "\u001b[1m1313/1313\u001b[0m \u001b[32m━━━━━━━━━━━━━━━━━━━━\u001b[0m\u001b[37m\u001b[0m \u001b[1m7s\u001b[0m 4ms/step - accuracy: 0.9665 - loss: 0.1128 - val_accuracy: 0.9335 - val_loss: 0.2827\n",
            "Epoch 70/100\n",
            "\u001b[1m1313/1313\u001b[0m \u001b[32m━━━━━━━━━━━━━━━━━━━━\u001b[0m\u001b[37m\u001b[0m \u001b[1m4s\u001b[0m 3ms/step - accuracy: 0.9675 - loss: 0.1131 - val_accuracy: 0.9342 - val_loss: 0.2781\n",
            "Epoch 71/100\n",
            "\u001b[1m1313/1313\u001b[0m \u001b[32m━━━━━━━━━━━━━━━━━━━━\u001b[0m\u001b[37m\u001b[0m \u001b[1m5s\u001b[0m 3ms/step - accuracy: 0.9658 - loss: 0.1196 - val_accuracy: 0.9324 - val_loss: 0.2841\n",
            "Epoch 72/100\n",
            "\u001b[1m1313/1313\u001b[0m \u001b[32m━━━━━━━━━━━━━━━━━━━━\u001b[0m\u001b[37m\u001b[0m \u001b[1m4s\u001b[0m 3ms/step - accuracy: 0.9660 - loss: 0.1151 - val_accuracy: 0.9339 - val_loss: 0.2800\n",
            "Epoch 73/100\n",
            "\u001b[1m1313/1313\u001b[0m \u001b[32m━━━━━━━━━━━━━━━━━━━━\u001b[0m\u001b[37m\u001b[0m \u001b[1m5s\u001b[0m 3ms/step - accuracy: 0.9673 - loss: 0.1147 - val_accuracy: 0.9339 - val_loss: 0.2855\n",
            "Epoch 74/100\n",
            "\u001b[1m1313/1313\u001b[0m \u001b[32m━━━━━━━━━━━━━━━━━━━━\u001b[0m\u001b[37m\u001b[0m \u001b[1m4s\u001b[0m 3ms/step - accuracy: 0.9685 - loss: 0.1090 - val_accuracy: 0.9334 - val_loss: 0.2845\n",
            "Epoch 75/100\n",
            "\u001b[1m1313/1313\u001b[0m \u001b[32m━━━━━━━━━━━━━━━━━━━━\u001b[0m\u001b[37m\u001b[0m \u001b[1m6s\u001b[0m 3ms/step - accuracy: 0.9687 - loss: 0.1115 - val_accuracy: 0.9332 - val_loss: 0.2827\n",
            "Epoch 76/100\n",
            "\u001b[1m1313/1313\u001b[0m \u001b[32m━━━━━━━━━━━━━━━━━━━━\u001b[0m\u001b[37m\u001b[0m \u001b[1m4s\u001b[0m 3ms/step - accuracy: 0.9679 - loss: 0.1098 - val_accuracy: 0.9339 - val_loss: 0.2928\n",
            "Epoch 77/100\n",
            "\u001b[1m1313/1313\u001b[0m \u001b[32m━━━━━━━━━━━━━━━━━━━━\u001b[0m\u001b[37m\u001b[0m \u001b[1m5s\u001b[0m 4ms/step - accuracy: 0.9670 - loss: 0.1101 - val_accuracy: 0.9339 - val_loss: 0.3000\n",
            "Epoch 78/100\n",
            "\u001b[1m1313/1313\u001b[0m \u001b[32m━━━━━━━━━━━━━━━━━━━━\u001b[0m\u001b[37m\u001b[0m \u001b[1m4s\u001b[0m 3ms/step - accuracy: 0.9671 - loss: 0.1133 - val_accuracy: 0.9354 - val_loss: 0.2891\n",
            "Epoch 79/100\n",
            "\u001b[1m1313/1313\u001b[0m \u001b[32m━━━━━━━━━━━━━━━━━━━━\u001b[0m\u001b[37m\u001b[0m \u001b[1m5s\u001b[0m 3ms/step - accuracy: 0.9686 - loss: 0.1085 - val_accuracy: 0.9338 - val_loss: 0.2892\n",
            "Epoch 80/100\n",
            "\u001b[1m1313/1313\u001b[0m \u001b[32m━━━━━━━━━━━━━━━━━━━━\u001b[0m\u001b[37m\u001b[0m \u001b[1m5s\u001b[0m 3ms/step - accuracy: 0.9685 - loss: 0.1096 - val_accuracy: 0.9319 - val_loss: 0.3012\n",
            "Epoch 81/100\n",
            "\u001b[1m1313/1313\u001b[0m \u001b[32m━━━━━━━━━━━━━━━━━━━━\u001b[0m\u001b[37m\u001b[0m \u001b[1m4s\u001b[0m 3ms/step - accuracy: 0.9679 - loss: 0.1083 - val_accuracy: 0.9334 - val_loss: 0.2967\n",
            "Epoch 82/100\n",
            "\u001b[1m1313/1313\u001b[0m \u001b[32m━━━━━━━━━━━━━━━━━━━━\u001b[0m\u001b[37m\u001b[0m \u001b[1m4s\u001b[0m 3ms/step - accuracy: 0.9687 - loss: 0.1090 - val_accuracy: 0.9354 - val_loss: 0.2892\n",
            "Epoch 83/100\n",
            "\u001b[1m1313/1313\u001b[0m \u001b[32m━━━━━━━━━━━━━━━━━━━━\u001b[0m\u001b[37m\u001b[0m \u001b[1m7s\u001b[0m 4ms/step - accuracy: 0.9690 - loss: 0.1070 - val_accuracy: 0.9352 - val_loss: 0.2958\n",
            "Epoch 84/100\n",
            "\u001b[1m1313/1313\u001b[0m \u001b[32m━━━━━━━━━━━━━━━━━━━━\u001b[0m\u001b[37m\u001b[0m \u001b[1m8s\u001b[0m 3ms/step - accuracy: 0.9697 - loss: 0.1040 - val_accuracy: 0.9348 - val_loss: 0.2946\n",
            "Epoch 85/100\n",
            "\u001b[1m1313/1313\u001b[0m \u001b[32m━━━━━━━━━━━━━━━━━━━━\u001b[0m\u001b[37m\u001b[0m \u001b[1m5s\u001b[0m 3ms/step - accuracy: 0.9702 - loss: 0.1037 - val_accuracy: 0.9338 - val_loss: 0.2931\n",
            "Epoch 86/100\n",
            "\u001b[1m1313/1313\u001b[0m \u001b[32m━━━━━━━━━━━━━━━━━━━━\u001b[0m\u001b[37m\u001b[0m \u001b[1m5s\u001b[0m 3ms/step - accuracy: 0.9687 - loss: 0.1076 - val_accuracy: 0.9343 - val_loss: 0.2967\n",
            "Epoch 87/100\n",
            "\u001b[1m1313/1313\u001b[0m \u001b[32m━━━━━━━━━━━━━━━━━━━━\u001b[0m\u001b[37m\u001b[0m \u001b[1m6s\u001b[0m 4ms/step - accuracy: 0.9707 - loss: 0.0991 - val_accuracy: 0.9343 - val_loss: 0.2930\n",
            "Epoch 88/100\n",
            "\u001b[1m1313/1313\u001b[0m \u001b[32m━━━━━━━━━━━━━━━━━━━━\u001b[0m\u001b[37m\u001b[0m \u001b[1m5s\u001b[0m 3ms/step - accuracy: 0.9714 - loss: 0.1014 - val_accuracy: 0.9350 - val_loss: 0.2982\n",
            "Epoch 89/100\n",
            "\u001b[1m1313/1313\u001b[0m \u001b[32m━━━━━━━━━━━━━━━━━━━━\u001b[0m\u001b[37m\u001b[0m \u001b[1m5s\u001b[0m 4ms/step - accuracy: 0.9708 - loss: 0.1017 - val_accuracy: 0.9338 - val_loss: 0.2965\n",
            "Epoch 90/100\n",
            "\u001b[1m1313/1313\u001b[0m \u001b[32m━━━━━━━━━━━━━━━━━━━━\u001b[0m\u001b[37m\u001b[0m \u001b[1m4s\u001b[0m 3ms/step - accuracy: 0.9711 - loss: 0.0992 - val_accuracy: 0.9346 - val_loss: 0.2916\n",
            "Epoch 91/100\n",
            "\u001b[1m1313/1313\u001b[0m \u001b[32m━━━━━━━━━━━━━━━━━━━━\u001b[0m\u001b[37m\u001b[0m \u001b[1m5s\u001b[0m 3ms/step - accuracy: 0.9709 - loss: 0.1021 - val_accuracy: 0.9337 - val_loss: 0.2994\n",
            "Epoch 92/100\n",
            "\u001b[1m1313/1313\u001b[0m \u001b[32m━━━━━━━━━━━━━━━━━━━━\u001b[0m\u001b[37m\u001b[0m \u001b[1m5s\u001b[0m 4ms/step - accuracy: 0.9710 - loss: 0.0999 - val_accuracy: 0.9340 - val_loss: 0.3011\n",
            "Epoch 93/100\n",
            "\u001b[1m1313/1313\u001b[0m \u001b[32m━━━━━━━━━━━━━━━━━━━━\u001b[0m\u001b[37m\u001b[0m \u001b[1m10s\u001b[0m 4ms/step - accuracy: 0.9724 - loss: 0.0939 - val_accuracy: 0.9350 - val_loss: 0.2970\n",
            "Epoch 94/100\n",
            "\u001b[1m1313/1313\u001b[0m \u001b[32m━━━━━━━━━━━━━━━━━━━━\u001b[0m\u001b[37m\u001b[0m \u001b[1m9s\u001b[0m 3ms/step - accuracy: 0.9722 - loss: 0.0947 - val_accuracy: 0.9341 - val_loss: 0.3027\n",
            "Epoch 95/100\n",
            "\u001b[1m1313/1313\u001b[0m \u001b[32m━━━━━━━━━━━━━━━━━━━━\u001b[0m\u001b[37m\u001b[0m \u001b[1m5s\u001b[0m 3ms/step - accuracy: 0.9721 - loss: 0.0942 - val_accuracy: 0.9351 - val_loss: 0.2973\n",
            "Epoch 96/100\n",
            "\u001b[1m1313/1313\u001b[0m \u001b[32m━━━━━━━━━━━━━━━━━━━━\u001b[0m\u001b[37m\u001b[0m \u001b[1m5s\u001b[0m 3ms/step - accuracy: 0.9730 - loss: 0.0913 - val_accuracy: 0.9341 - val_loss: 0.2995\n",
            "Epoch 97/100\n",
            "\u001b[1m1313/1313\u001b[0m \u001b[32m━━━━━━━━━━━━━━━━━━━━\u001b[0m\u001b[37m\u001b[0m \u001b[1m6s\u001b[0m 3ms/step - accuracy: 0.9722 - loss: 0.0939 - val_accuracy: 0.9332 - val_loss: 0.3092\n",
            "Epoch 98/100\n",
            "\u001b[1m1313/1313\u001b[0m \u001b[32m━━━━━━━━━━━━━━━━━━━━\u001b[0m\u001b[37m\u001b[0m \u001b[1m4s\u001b[0m 3ms/step - accuracy: 0.9728 - loss: 0.0927 - val_accuracy: 0.9330 - val_loss: 0.3043\n",
            "Epoch 99/100\n",
            "\u001b[1m1313/1313\u001b[0m \u001b[32m━━━━━━━━━━━━━━━━━━━━\u001b[0m\u001b[37m\u001b[0m \u001b[1m4s\u001b[0m 3ms/step - accuracy: 0.9737 - loss: 0.0913 - val_accuracy: 0.9347 - val_loss: 0.3061\n",
            "Epoch 100/100\n",
            "\u001b[1m1313/1313\u001b[0m \u001b[32m━━━━━━━━━━━━━━━━━━━━\u001b[0m\u001b[37m\u001b[0m \u001b[1m5s\u001b[0m 4ms/step - accuracy: 0.9734 - loss: 0.0889 - val_accuracy: 0.9344 - val_loss: 0.2999\n"
          ]
        }
      ],
      "source": [
        "model = mlp_model()\n",
        "history = model.fit(X_train, y_train, validation_split = 0.3, epochs = 100, verbose = 1)"
      ]
    },
    {
      "cell_type": "code",
      "execution_count": 34,
      "metadata": {
        "id": "3NEZeSS4QpgC",
        "outputId": "ce6fb15e-2e75-40c1-8e7d-07a642b0feb8",
        "colab": {
          "base_uri": "https://localhost:8080/",
          "height": 430
        }
      },
      "outputs": [
        {
          "output_type": "display_data",
          "data": {
            "text/plain": [
              "<Figure size 640x480 with 1 Axes>"
            ],
            "image/png": "[encoded data removed]"
          },
          "metadata": {}
        }
      ],
      "source": [
        "plt.plot(history.history['accuracy'])\n",
        "plt.plot(history.history['val_accuracy'])\n",
        "plt.plot(history.history['loss'])\n",
        "plt.plot(history.history['val_loss'])\n",
        "plt.legend(['train acc', 'valid acc', 'train loss', 'valid loss'], loc = 'upper left')\n",
        "plt.show()"
      ]
    },
    {
      "cell_type": "code",
      "execution_count": 35,
      "metadata": {
        "id": "ovaftFMoQpgC",
        "outputId": "d51760c8-eadc-4a5c-dcc9-50bb3e23c355",
        "colab": {
          "base_uri": "https://localhost:8080/"
        }
      },
      "outputs": [
        {
          "output_type": "stream",
          "name": "stdout",
          "text": [
            "\u001b[1m313/313\u001b[0m \u001b[32m━━━━━━━━━━━━━━━━━━━━\u001b[0m\u001b[37m\u001b[0m \u001b[1m1s\u001b[0m 2ms/step - accuracy: 0.9287 - loss: 0.3310\n"
          ]
        }
      ],
      "source": [
        "results = model.evaluate(X_test, y_test)"
      ]
    },
    {
      "cell_type": "code",
      "execution_count": 36,
      "metadata": {
        "id": "LxN_81wHQpgC",
        "outputId": "db3b7e73-cdb0-44e3-8e08-293d9cb9b163",
        "colab": {
          "base_uri": "https://localhost:8080/"
        }
      },
      "outputs": [
        {
          "output_type": "stream",
          "name": "stdout",
          "text": [
            "Test accuracy:  0.9381999969482422\n"
          ]
        }
      ],
      "source": [
        "print('Test accuracy: ', results[1])"
      ]
    },
    {
      "cell_type": "markdown",
      "metadata": {
        "id": "fcqGvLFsm81V"
      },
      "source": [
        "## 3. Optimizers\n",
        "- Many variants of SGD are proposed and employed nowadays\n",
        "- One of the most popular ones are Adam (Adaptive Moment Estimation)\n",
        "- Doc: https://keras.io/optimizers/"
      ]
    },
    {
      "cell_type": "markdown",
      "metadata": {
        "id": "94XG6lbrm81V"
      },
      "source": [
        "<img src=\"http://cs231n.github.io/assets/nn3/opt2.gif\" style=\"width: 400px\"/>\n",
        "<br><center> **Relative convergence speed of different optimizers** </center></br>"
      ]
    },
    {
      "cell_type": "code",
      "execution_count": 37,
      "metadata": {
        "id": "Po9y2epXm81W"
      },
      "outputs": [],
      "source": [
        "def mlp_model():\n",
        "    model = Sequential()\n",
        "\n",
        "    model.add(Dense(50, input_shape = (784, )))\n",
        "    model.add(Activation('sigmoid'))\n",
        "    model.add(Dense(50))\n",
        "    model.add(Activation('sigmoid'))\n",
        "    model.add(Dense(50))\n",
        "    model.add(Activation('sigmoid'))\n",
        "    model.add(Dense(50))\n",
        "    model.add(Activation('sigmoid'))\n",
        "    model.add(Dense(10))\n",
        "    model.add(Activation('softmax'))\n",
        "\n",
        "    adam = optimizers.Adam(learning_rate = 0.001)                     # use Adam optimizer\n",
        "    model.compile(optimizer = adam, loss = 'categorical_crossentropy', metrics = ['accuracy'])\n",
        "\n",
        "    return model"
      ]
    },
    {
      "cell_type": "code",
      "execution_count": 39,
      "metadata": {
        "id": "Fzn5iX2Um81Y"
      },
      "outputs": [],
      "source": [
        "model = mlp_model()\n",
        "history = model.fit(X_train, y_train, validation_split = 0.3, epochs = 100, verbose = 0)"
      ]
    },
    {
      "cell_type": "code",
      "execution_count": 40,
      "metadata": {
        "colab": {
          "base_uri": "https://localhost:8080/",
          "height": 430
        },
        "id": "1greMMf5m81a",
        "outputId": "40a104a0-53c0-48b6-d1da-8bf7d6d88cf3"
      },
      "outputs": [
        {
          "output_type": "display_data",
          "data": {
            "text/plain": [
              "<Figure size 640x480 with 1 Axes>"
            ],
            "image/png": "[encoded data removed]"
          },
          "metadata": {}
        }
      ],
      "source": [
        "plt.plot(history.history['accuracy'])\n",
        "plt.plot(history.history['val_accuracy'])\n",
        "plt.plot(history.history['loss'])\n",
        "plt.plot(history.history['val_loss'])\n",
        "plt.legend(['train acc', 'valid acc', 'train loss', 'valid loss'], loc = 'upper left')\n",
        "plt.show()"
      ]
    },
    {
      "cell_type": "markdown",
      "metadata": {
        "id": "xCEHlMxrm81c"
      },
      "source": [
        "Training and validation accuracy improve instantaneously, but reach plateau after around 50 epochs"
      ]
    },
    {
      "cell_type": "code",
      "execution_count": 41,
      "metadata": {
        "colab": {
          "base_uri": "https://localhost:8080/"
        },
        "id": "Zm-4ybkLm81d",
        "outputId": "0cc4d677-124b-479e-930f-dfa800eb6fba"
      },
      "outputs": [
        {
          "output_type": "stream",
          "name": "stdout",
          "text": [
            "\u001b[1m313/313\u001b[0m \u001b[32m━━━━━━━━━━━━━━━━━━━━\u001b[0m\u001b[37m\u001b[0m \u001b[1m1s\u001b[0m 2ms/step - accuracy: 0.9391 - loss: 0.2141\n"
          ]
        }
      ],
      "source": [
        "results = model.evaluate(X_test, y_test)"
      ]
    },
    {
      "cell_type": "code",
      "execution_count": 42,
      "metadata": {
        "colab": {
          "base_uri": "https://localhost:8080/"
        },
        "id": "DBHaJT5Um81f",
        "outputId": "c375ebf4-e6a4-472d-bab5-293be97e6425"
      },
      "outputs": [
        {
          "output_type": "stream",
          "name": "stdout",
          "text": [
            "Test accuracy:  0.9458000063896179\n"
          ]
        }
      ],
      "source": [
        "print('Test accuracy: ', results[1])"
      ]
    },
    {
      "cell_type": "markdown",
      "metadata": {
        "id": "DNuN5ygtm81g"
      },
      "source": [
        "## 4. Batch Normalization\n",
        "- Batch Normalization, one of the methods to prevent the \"internal covariance shift\" problem, has proven to be highly effective\n",
        "- Normalize each mini-batch before nonlinearity\n",
        "- Doc: https://keras.io/optimizers/"
      ]
    },
    {
      "cell_type": "markdown",
      "metadata": {
        "id": "aTk5ndUCm81h"
      },
      "source": [
        "<img src=\"https://raw.githubusercontent.com/torch/torch.github.io/master/blog/_posts/images/resnets_modelvariants.png\" style=\"width: 500px\"/>\n",
        "\n",
        "<br> Batch normalization layer is usually inserted after dense/convolution and before nonlinearity"
      ]
    },
    {
      "cell_type": "markdown",
      "metadata": {
        "id": "g6p3RM2fQpgF"
      },
      "source": [
        "Given a batch of input activations $X = [x_1, x_2, ..., x_n]$, with shape $(n, d)$, where $n$ is the batch size and $d$ is the number of features, batch normalization computes the following:\n",
        "\n",
        "Compute the mean and variance of the batch:\n",
        "$$mean=\\frac{1}{n} \\sum_{i=i}^{n} x_{i}$$\n",
        "\n",
        "$$variance= \\frac{1}{n} \\sum_{i=i}^{n} x_{i}(x_{i}-mean)^2$$\n",
        "\n",
        "Normalize the activations by subtracting the mean and dividing by the standard deviation:\n",
        "$$x_{normalized}= \\frac{x- mean}{\\sqrt{varaince+\\epsilon}}$$\n",
        "where $\\epsilon$ is a small constant added for numerical stability.\n",
        "\n",
        "Scale and shift the normalized activations using learnable parameters $\\gamma$ and $\\beta$:\n",
        "\n",
        "$$y = \\gamma x_{normalized}+\\beta$$"
      ]
    },
    {
      "cell_type": "code",
      "execution_count": 43,
      "metadata": {
        "id": "wXD9H1wfm81h"
      },
      "outputs": [],
      "source": [
        "from keras.layers import BatchNormalization"
      ]
    },
    {
      "cell_type": "code",
      "execution_count": 44,
      "metadata": {
        "id": "mZEOsHbVm81k"
      },
      "outputs": [],
      "source": [
        "def mlp_model():\n",
        "    model = Sequential()\n",
        "\n",
        "    model.add(Dense(50, input_shape = (784, )))\n",
        "    model.add(BatchNormalization())                    # Add Batchnorm layer before Activation\n",
        "    model.add(Activation('sigmoid'))\n",
        "    model.add(Dense(50))\n",
        "    model.add(BatchNormalization())                    # Add Batchnorm layer before Activation\n",
        "    model.add(Activation('sigmoid'))\n",
        "    model.add(Dense(50))\n",
        "    model.add(BatchNormalization())                    # Add Batchnorm layer before Activation\n",
        "    model.add(Activation('sigmoid'))\n",
        "    model.add(Dense(50))\n",
        "    model.add(BatchNormalization())                    # Add Batchnorm layer before Activation\n",
        "    model.add(Activation('sigmoid'))\n",
        "    model.add(Dense(10))\n",
        "    model.add(Activation('softmax'))\n",
        "\n",
        "    sgd = optimizers.SGD(learning_rate = 0.001)\n",
        "    model.compile(optimizer = sgd, loss = 'categorical_crossentropy', metrics = ['accuracy'])\n",
        "\n",
        "    return model"
      ]
    },
    {
      "cell_type": "code",
      "execution_count": 45,
      "metadata": {
        "id": "ziG6hzqZm81m"
      },
      "outputs": [],
      "source": [
        "model = mlp_model()\n",
        "history = model.fit(X_train, y_train, validation_split = 0.3, epochs = 100, verbose = 0)"
      ]
    },
    {
      "cell_type": "code",
      "execution_count": 46,
      "metadata": {
        "colab": {
          "base_uri": "https://localhost:8080/",
          "height": 430
        },
        "id": "4cVWf4x8m81o",
        "outputId": "d52abdac-2a9e-41ec-efeb-f1dab031dbed"
      },
      "outputs": [
        {
          "output_type": "display_data",
          "data": {
            "text/plain": [
              "<Figure size 640x480 with 1 Axes>"
            ],
            "image/png": "[encoded data removed]"
          },
          "metadata": {}
        }
      ],
      "source": [
        "plt.plot(history.history['accuracy'])\n",
        "plt.plot(history.history['val_accuracy'])\n",
        "plt.plot(history.history['loss'])\n",
        "plt.plot(history.history['val_loss'])\n",
        "plt.legend(['train acc', 'valid acc', 'train loss', 'valid loss'], loc = 'upper left')\n",
        "plt.show()"
      ]
    },
    {
      "cell_type": "markdown",
      "metadata": {
        "id": "IvyC1A4Nm81q"
      },
      "source": [
        "Training and validation accuracy improve consistently, but reach plateau after around 60 epochs"
      ]
    },
    {
      "cell_type": "code",
      "execution_count": 47,
      "metadata": {
        "colab": {
          "base_uri": "https://localhost:8080/"
        },
        "id": "89wGTNv0m81r",
        "outputId": "8c7147bf-7665-435f-9f6d-1e2ff8a32ce4"
      },
      "outputs": [
        {
          "output_type": "stream",
          "name": "stdout",
          "text": [
            "\u001b[1m313/313\u001b[0m \u001b[32m━━━━━━━━━━━━━━━━━━━━\u001b[0m\u001b[37m\u001b[0m \u001b[1m1s\u001b[0m 3ms/step - accuracy: 0.9383 - loss: 0.2197\n"
          ]
        }
      ],
      "source": [
        "results = model.evaluate(X_test, y_test)"
      ]
    },
    {
      "cell_type": "code",
      "execution_count": 48,
      "metadata": {
        "colab": {
          "base_uri": "https://localhost:8080/"
        },
        "id": "2OlzhJIrm81t",
        "outputId": "3d19c292-2709-418d-c5ce-d03d849cd8a4"
      },
      "outputs": [
        {
          "output_type": "stream",
          "name": "stdout",
          "text": [
            "Test accuracy:  0.9472000002861023\n"
          ]
        }
      ],
      "source": [
        "print('Test accuracy: ', results[1])"
      ]
    },
    {
      "cell_type": "markdown",
      "metadata": {
        "id": "M_n7L3yrm81w"
      },
      "source": [
        "## 5. Dropout (Regularization)\n",
        "- Dropout is one of powerful ways to prevent overfitting\n",
        "- The idea is simple. It is disconnecting some (randomly selected) neurons in each layer\n",
        "- The probability of each neuron to be disconnected, namely 'Dropout rate', has to be designated\n",
        "- Doc: https://keras.io/layers/core/#dropout"
      ]
    },
    {
      "cell_type": "markdown",
      "metadata": {
        "id": "cgmuU0_Em81w"
      },
      "source": [
        "<img src=\"https://image.slidesharecdn.com/lecture29-convolutionalneuralnetworks-visionspring2015-150504114140-conversion-gate02/95/lecture-29-convolutional-neural-networks-computer-vision-spring2015-62-638.jpg?cb=1430740006\" style=\"width: 800px\"/>"
      ]
    },
    {
      "cell_type": "code",
      "execution_count": 49,
      "metadata": {
        "id": "idwYUgbqm81x"
      },
      "outputs": [],
      "source": [
        "from keras.layers import Dropout"
      ]
    },
    {
      "cell_type": "code",
      "execution_count": 50,
      "metadata": {
        "id": "H6sbqxj0m81z"
      },
      "outputs": [],
      "source": [
        "def mlp_model():\n",
        "    model = Sequential()\n",
        "\n",
        "    model.add(Dense(50, input_shape = (784, )))\n",
        "    model.add(Activation('sigmoid'))\n",
        "    model.add(Dropout(0.2))                        # Dropout layer after Activation\n",
        "    model.add(Dense(50))\n",
        "    model.add(Activation('sigmoid'))\n",
        "    model.add(Dropout(0.2))                        # Dropout layer after Activation\n",
        "    model.add(Dense(50))\n",
        "    model.add(Activation('sigmoid'))\n",
        "    model.add(Dropout(0.2))                        # Dropout layer after Activation\n",
        "    model.add(Dense(50))\n",
        "    model.add(Activation('sigmoid'))\n",
        "    model.add(Dropout(0.2))                         # Dropout layer after Activation\n",
        "    model.add(Dense(10))\n",
        "    model.add(Activation('softmax'))\n",
        "\n",
        "    sgd = optimizers.SGD(learning_rate = 0.001)\n",
        "    model.compile(optimizer = sgd, loss = 'categorical_crossentropy', metrics = ['accuracy'])\n",
        "\n",
        "    return model"
      ]
    },
    {
      "cell_type": "code",
      "execution_count": 51,
      "metadata": {
        "id": "JWT0Rcwom811"
      },
      "outputs": [],
      "source": [
        "model = mlp_model()\n",
        "history = model.fit(X_train, y_train, validation_split = 0.3, epochs = 100, verbose = 0)"
      ]
    },
    {
      "cell_type": "code",
      "execution_count": 52,
      "metadata": {
        "colab": {
          "base_uri": "https://localhost:8080/",
          "height": 430
        },
        "id": "28sHxARXm813",
        "outputId": "28152c84-0e75-4f16-b432-f69d3aaf6233"
      },
      "outputs": [
        {
          "output_type": "display_data",
          "data": {
            "text/plain": [
              "<Figure size 640x480 with 1 Axes>"
            ],
            "image/png": "[encoded data removed]"
          },
          "metadata": {}
        }
      ],
      "source": [
        "plt.plot(history.history['accuracy'])\n",
        "plt.plot(history.history['val_accuracy'])\n",
        "plt.plot(history.history['loss'])\n",
        "plt.plot(history.history['val_loss'])\n",
        "plt.legend(['train acc', 'valid acc', 'train loss', 'valid loss'], loc = 'upper left')\n",
        "plt.show()"
      ]
    },
    {
      "cell_type": "markdown",
      "metadata": {
        "id": "R6YP4RHVm816"
      },
      "source": [
        "Validation results does not improve since it did not show signs of overfitting, yet.\n",
        "<br> Hence, the key takeaway message is that apply dropout when you see a signal of overfitting."
      ]
    },
    {
      "cell_type": "code",
      "execution_count": 53,
      "metadata": {
        "colab": {
          "base_uri": "https://localhost:8080/"
        },
        "id": "aAPAlxKEm816",
        "outputId": "28fd8a3a-a9b9-4428-c5bf-3490fbab5423"
      },
      "outputs": [
        {
          "output_type": "stream",
          "name": "stdout",
          "text": [
            "\u001b[1m313/313\u001b[0m \u001b[32m━━━━━━━━━━━━━━━━━━━━\u001b[0m\u001b[37m\u001b[0m \u001b[1m1s\u001b[0m 2ms/step - accuracy: 0.5519 - loss: 1.6698\n"
          ]
        }
      ],
      "source": [
        "results = model.evaluate(X_test, y_test)"
      ]
    },
    {
      "cell_type": "code",
      "execution_count": 54,
      "metadata": {
        "colab": {
          "base_uri": "https://localhost:8080/"
        },
        "id": "47lVW1hXm818",
        "outputId": "f9f761b0-db96-4eee-8af7-101f78784c62"
      },
      "outputs": [
        {
          "output_type": "stream",
          "name": "stdout",
          "text": [
            "Test accuracy:  0.5645999908447266\n"
          ]
        }
      ],
      "source": [
        "print('Test accuracy: ', results[1])"
      ]
    },
    {
      "cell_type": "markdown",
      "metadata": {
        "id": "YtjeI1Erm81-"
      },
      "source": [
        "## 6. Model Ensemble\n",
        "- Model ensemble is a reliable and promising way to boost performance of the model\n",
        "- Usually create 8 to 10 independent networks and merge their results\n",
        "- Here, we resort to scikit-learn API, **VotingClassifier**\n",
        "- Doc: http://scikit-learn.org/stable/modules/generated/sklearn.ensemble.VotingClassifier.html\n",
        "\n",
        "\n",
        "**VotingClassifier**\n",
        "\n",
        "A voting classifier is a type of model ensemble in machine learning that combines the predictions of multiple individual classifiers to make a final prediction. It works by aggregating the predictions of each individual classifier and selecting the class that receives the most votes."
      ]
    },
    {
      "cell_type": "markdown",
      "metadata": {
        "id": "TSAYvxCmm81-"
      },
      "source": [
        "**Soft Voting**\n",
        "\n",
        "This involves calculating the average or weighted average of the predicted probabilities of each individual classifier for each class and selecting the class with the highest average probability as the final prediction.\n",
        "\n",
        "![localImage](https://github.com/Ihsan149/IE803_Spring_2025/blob/main/deep_learning_with_Keras/1.%20MLP/2-Advanced-MLP/soft_voting.PNG?raw=1)\n",
        "\n",
        "\n",
        "**Hard Voting**\n",
        "\n",
        "This involves counting the votes of each individual classifier and selecting the class with the most votes as the final prediction.\n",
        "\n",
        "![localImage](https://github.com/Ihsan149/IE803_Spring_2025/blob/main/deep_learning_with_Keras/1.%20MLP/2-Advanced-MLP/hard_voting.PNG?raw=1)\n"
      ]
    },
    {
      "cell_type": "code",
      "execution_count": 61,
      "metadata": {
        "id": "Pb8HFb6Tm81_",
        "outputId": "59e55038-a3b8-4ace-a4d0-5d40bcac2521",
        "colab": {
          "base_uri": "https://localhost:8080/",
          "height": 366
        }
      },
      "outputs": [
        {
          "output_type": "error",
          "ename": "ModuleNotFoundError",
          "evalue": "No module named 'tensorflow.keras.wrappers.scikit_learn'",
          "traceback": [
            "\u001b[0;31m---------------------------------------------------------------------------\u001b[0m",
            "\u001b[0;31mModuleNotFoundError\u001b[0m                       Traceback (most recent call last)",
            "\u001b[0;32m<ipython-input-61-a210ee0875a9>\u001b[0m in \u001b[0;36m<cell line: 0>\u001b[0;34m()\u001b[0m\n\u001b[1;32m      1\u001b[0m \u001b[0;32mimport\u001b[0m \u001b[0mnumpy\u001b[0m \u001b[0;32mas\u001b[0m \u001b[0mnp\u001b[0m\u001b[0;34m\u001b[0m\u001b[0;34m\u001b[0m\u001b[0m\n\u001b[0;32m----> 2\u001b[0;31m \u001b[0;32mfrom\u001b[0m \u001b[0mtensorflow\u001b[0m\u001b[0;34m.\u001b[0m\u001b[0mkeras\u001b[0m\u001b[0;34m.\u001b[0m\u001b[0mwrappers\u001b[0m\u001b[0;34m.\u001b[0m\u001b[0mscikit_learn\u001b[0m \u001b[0;32mimport\u001b[0m \u001b[0mKerasClassifier\u001b[0m\u001b[0;34m\u001b[0m\u001b[0;34m\u001b[0m\u001b[0m\n\u001b[0m\u001b[1;32m      3\u001b[0m \u001b[0;32mfrom\u001b[0m \u001b[0msklearn\u001b[0m\u001b[0;34m.\u001b[0m\u001b[0mensemble\u001b[0m \u001b[0;32mimport\u001b[0m \u001b[0mVotingClassifier\u001b[0m\u001b[0;34m\u001b[0m\u001b[0;34m\u001b[0m\u001b[0m\n\u001b[1;32m      4\u001b[0m \u001b[0;32mfrom\u001b[0m \u001b[0msklearn\u001b[0m\u001b[0;34m.\u001b[0m\u001b[0mmetrics\u001b[0m \u001b[0;32mimport\u001b[0m \u001b[0maccuracy_score\u001b[0m\u001b[0;34m\u001b[0m\u001b[0;34m\u001b[0m\u001b[0m\n",
            "\u001b[0;31mModuleNotFoundError\u001b[0m: No module named 'tensorflow.keras.wrappers.scikit_learn'",
            "",
            "\u001b[0;31m---------------------------------------------------------------------------\u001b[0;32m\nNOTE: If your import is failing due to a missing package, you can\nmanually install dependencies using either !pip or !apt.\n\nTo view examples of installing some common dependencies, click the\n\"Open Examples\" button below.\n\u001b[0;31m---------------------------------------------------------------------------\u001b[0m\n"
          ],
          "errorDetails": {
            "actions": [
              {
                "action": "open_url",
                "actionText": "Open Examples",
                "url": "/notebooks/snippets/importing_libraries.ipynb"
              }
            ]
          }
        }
      ],
      "source": [
        "import numpy as np\n",
        "# from tensorflow.keras.wrappers.scikit_learn import KerasClassifier\n",
        "from scikeras.wrappers import KerasClassifier\n",
        "from sklearn.ensemble import VotingClassifier\n",
        "from sklearn.metrics import accuracy_score"
      ]
    },
    {
      "cell_type": "code",
      "execution_count": 60,
      "metadata": {
        "id": "1fK31iSNhN07",
        "outputId": "730ca74b-0dc6-4803-bc21-b30baa53ce8b",
        "colab": {
          "base_uri": "https://localhost:8080/"
        }
      },
      "outputs": [
        {
          "output_type": "stream",
          "name": "stdout",
          "text": [
            "Collecting scikeras\n",
            "  Downloading scikeras-0.13.0-py3-none-any.whl.metadata (3.1 kB)\n",
            "Requirement already satisfied: keras>=3.2.0 in /usr/local/lib/python3.11/dist-packages (from scikeras) (3.8.0)\n",
            "Requirement already satisfied: scikit-learn>=1.4.2 in /usr/local/lib/python3.11/dist-packages (from scikeras) (1.6.1)\n",
            "Requirement already satisfied: absl-py in /usr/local/lib/python3.11/dist-packages (from keras>=3.2.0->scikeras) (1.4.0)\n",
            "Requirement already satisfied: numpy in /usr/local/lib/python3.11/dist-packages (from keras>=3.2.0->scikeras) (1.26.4)\n",
            "Requirement already satisfied: rich in /usr/local/lib/python3.11/dist-packages (from keras>=3.2.0->scikeras) (13.9.4)\n",
            "Requirement already satisfied: namex in /usr/local/lib/python3.11/dist-packages (from keras>=3.2.0->scikeras) (0.0.8)\n",
            "Requirement already satisfied: h5py in /usr/local/lib/python3.11/dist-packages (from keras>=3.2.0->scikeras) (3.12.1)\n",
            "Requirement already satisfied: optree in /usr/local/lib/python3.11/dist-packages (from keras>=3.2.0->scikeras) (0.14.0)\n",
            "Requirement already satisfied: ml-dtypes in /usr/local/lib/python3.11/dist-packages (from keras>=3.2.0->scikeras) (0.4.1)\n",
            "Requirement already satisfied: packaging in /usr/local/lib/python3.11/dist-packages (from keras>=3.2.0->scikeras) (24.2)\n",
            "Requirement already satisfied: scipy>=1.6.0 in /usr/local/lib/python3.11/dist-packages (from scikit-learn>=1.4.2->scikeras) (1.13.1)\n",
            "Requirement already satisfied: joblib>=1.2.0 in /usr/local/lib/python3.11/dist-packages (from scikit-learn>=1.4.2->scikeras) (1.4.2)\n",
            "Requirement already satisfied: threadpoolctl>=3.1.0 in /usr/local/lib/python3.11/dist-packages (from scikit-learn>=1.4.2->scikeras) (3.5.0)\n",
            "Requirement already satisfied: typing-extensions>=4.5.0 in /usr/local/lib/python3.11/dist-packages (from optree->keras>=3.2.0->scikeras) (4.12.2)\n",
            "Requirement already satisfied: markdown-it-py>=2.2.0 in /usr/local/lib/python3.11/dist-packages (from rich->keras>=3.2.0->scikeras) (3.0.0)\n",
            "Requirement already satisfied: pygments<3.0.0,>=2.13.0 in /usr/local/lib/python3.11/dist-packages (from rich->keras>=3.2.0->scikeras) (2.18.0)\n",
            "Requirement already satisfied: mdurl~=0.1 in /usr/local/lib/python3.11/dist-packages (from markdown-it-py>=2.2.0->rich->keras>=3.2.0->scikeras) (0.1.2)\n",
            "Downloading scikeras-0.13.0-py3-none-any.whl (26 kB)\n",
            "Installing collected packages: scikeras\n",
            "Successfully installed scikeras-0.13.0\n"
          ]
        }
      ],
      "source": [
        "!pip install scikeras"
      ]
    },
    {
      "cell_type": "code",
      "execution_count": null,
      "metadata": {
        "id": "kKsR6al3m82B"
      },
      "outputs": [],
      "source": [
        "y_train = np.argmax(y_train, axis = 1)\n",
        "y_test = np.argmax(y_test, axis = 1)"
      ]
    },
    {
      "cell_type": "code",
      "execution_count": null,
      "metadata": {
        "id": "nRxuL1cwm82D"
      },
      "outputs": [],
      "source": [
        "def mlp_model():\n",
        "    model = Sequential()\n",
        "\n",
        "    model.add(Dense(50, input_shape = (784, )))\n",
        "    model.add(Activation('sigmoid'))\n",
        "    model.add(Dense(50))\n",
        "    model.add(Activation('sigmoid'))\n",
        "    model.add(Dense(50))\n",
        "    model.add(Activation('sigmoid'))\n",
        "    model.add(Dense(50))\n",
        "    model.add(Activation('sigmoid'))\n",
        "    model.add(Dense(10))\n",
        "    model.add(Activation('softmax'))\n",
        "\n",
        "    sgd = optimizers.SGD(learning_rate = 0.001)\n",
        "    model.compile(optimizer = sgd, loss = 'categorical_crossentropy', metrics = ['accuracy'])\n",
        "\n",
        "    return model"
      ]
    },
    {
      "cell_type": "code",
      "execution_count": null,
      "metadata": {
        "id": "NsC1_PiCm82E"
      },
      "outputs": [],
      "source": [
        "model1 = KerasClassifier(build_fn = mlp_model, epochs = 100, verbose = 0)\n",
        "model2 = KerasClassifier(build_fn = mlp_model, epochs = 100, verbose = 0)\n",
        "model3 = KerasClassifier(build_fn = mlp_model, epochs = 100, verbose = 0)\n",
        "model1._estimator_type = \"classifier\"\n",
        "model2._estimator_type = \"classifier\"\n",
        "model3._estimator_type = \"classifier\""
      ]
    },
    {
      "cell_type": "code",
      "execution_count": null,
      "metadata": {
        "id": "2pBnptVLm82H"
      },
      "outputs": [],
      "source": [
        "ensemble_clf = VotingClassifier(estimators = [('model1', model1), ('model2', model2), ('model3', model3)]\n",
        "                                , voting = 'soft')"
      ]
    },
    {
      "cell_type": "code",
      "execution_count": null,
      "metadata": {
        "id": "vOx2UEAjm82I"
      },
      "outputs": [],
      "source": [
        "ensemble_clf.fit(X_train, y_train)"
      ]
    },
    {
      "cell_type": "code",
      "execution_count": null,
      "metadata": {
        "id": "uikYSUBmm82L"
      },
      "outputs": [],
      "source": [
        "y_pred = ensemble_clf.predict(X_test)"
      ]
    },
    {
      "cell_type": "code",
      "execution_count": null,
      "metadata": {
        "id": "1_5lAEucm82O"
      },
      "outputs": [],
      "source": [
        "print('Test accuracy:', accuracy_score(y_pred, y_test))"
      ]
    },
    {
      "cell_type": "markdown",
      "metadata": {
        "id": "UeDuUWLPm82Q"
      },
      "source": [
        "## Summary\n",
        "\n",
        "Below table is a summary of evaluation results so far. It turns out that all methods improve the test performance over the MNIST dataset. Why don't we try them out altogether?\n",
        "\n",
        "|Model           | Baseline  | Weight initialization | Weight initialization with relu | Activation function        | Optimizer        | Batchnormalization  | Regularization   | Ensemble   |\n",
        "|----------------|-------------|------------|------------|-------------|-------------|------------|-----------|------------|\n",
        "|Test Accuracy   | 0.1134     | 0.8625 | 0.9414    | 0.9488      | 0.9465      | 0.9480     | 0.4226    | 0.9002     |\n",
        "\n",
        "<br>\n"
      ]
    }
  ],
  "metadata": {
    "colab": {
      "name": "2-Advanced-MLP.ipynb",
      "provenance": []
    },
    "kernelspec": {
      "display_name": "Python 3 (ipykernel)",
      "language": "python",
      "name": "python3"
    },
    "language_info": {
      "codemirror_mode": {
        "name": "ipython",
        "version": 3
      },
      "file_extension": ".py",
      "mimetype": "text/x-python",
      "name": "python",
      "nbconvert_exporter": "python",
      "pygments_lexer": "ipython3",
      "version": "3.7.16"
    }
  },
  "nbformat": 4,
  "nbformat_minor": 0
}