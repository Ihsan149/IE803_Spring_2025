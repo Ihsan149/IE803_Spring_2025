{
 "cells": [
  {
   "cell_type": "markdown",
   "metadata": {
    "id": "R3ZUg9kaiLlU"
   },
   "source": [
    "# Basics of MLP\n",
    "- Objective: create vanilla neural networks (i.e., Multilayer perceptrons) for simple regression/classification tasks with Keras"
   ]
  },
  {
   "cell_type": "markdown",
   "metadata": {
    "id": "zsNVtV-YiLlW"
   },
   "source": [
    "## MLP Structures\n",
    "- Each MLP model is consisted of one input layer, several hidden layers, and one output layer\n",
    "- Number of neurons in each layer is not limited\n",
    "<img src=\"http://cs231n.github.io/assets/nn1/neural_net.jpeg\" style=\"width: 300px\"/>\n",
    "<br>\n",
    "<center>**MLP with one hidden layer**</center>\n",
    "- Number of input neurons: 3\n",
    "- Number of hidden neurons: 4\n",
    "- Number of output neurons: 2\n",
    "- \n",
    "- The picture depicts a neural network that consists of three layers: an input layer, a hidden layer, and an output layer. The input layer receives data, which is processed in the hidden layer to produce an output in the output layer.\n",
    "\n",
    "- The connections between the neurons are represented by arrows that show how information flows through the network. During training, the weights of these connections are adjusted to minimize the difference between the predicted output and the desired output."
   ]
  },
  {
   "cell_type": "markdown",
   "metadata": {
    "id": "zrCUwYZoiLlX"
   },
   "source": [
    "<img src=\"http://cs231n.github.io/assets/nn1/neural_net2.jpeg\" style=\"width: 500px\"/>\n",
    "<br>\n",
    "<center>**MLP with two hidden layers**</center>\n",
    "- Number of input neurons: 3\n",
    "- Number of hidden neurons: (4, 4)\n",
    "- Number of output neurons: 1\n"
   ]
  },
  {
   "cell_type": "markdown",
   "metadata": {
    "id": "zBUeparxiLlY"
   },
   "source": [
    "## MLP for Regression tasks\n",
    "- When the target (**y**) is continuous (real)\n",
    "- For loss function and evaluation metric, mean squared error (MSE) is commonly used"
   ]
  },
  {
   "cell_type": "code",
   "execution_count": null,
   "metadata": {
    "id": "lF3od_oiiLla"
   },
   "outputs": [],
   "source": [
    "from tensorflow.keras.datasets import boston_housing"
   ]
  },
  {
   "cell_type": "code",
   "execution_count": null,
   "metadata": {
    "id": "6UZHWnCFiLli"
   },
   "outputs": [],
   "source": [
    "(X_train, y_train), (X_test, y_test) = boston_housing.load_data()"
   ]
  },
  {
   "cell_type": "markdown",
   "metadata": {
    "id": "ex6l3HwMiLlm"
   },
   "source": [
    "### Dataset Description\n",
    "- Boston housing dataset has total 506 data instances (404 training & 102 test)\n",
    "- 13 attributes (features) to predict \"the median values of the houses at a location\"\n",
    "- Doc: https://keras.io/datasets/"
   ]
  },
  {
   "cell_type": "markdown",
   "metadata": {},
   "source": [
    "| Feature | Description | Example Value |\n",
    "| ------- | ----------- | ------------- |\n",
    "| CRIM | per capita crime rate by town | 0.00632 |\n",
    "| ZN | proportion of residential land zoned for lots over 25,000 sq.ft. | 18.0 |\n",
    "| INDUS | proportion of non-retail business acres per town | 2.31 |\n",
    "| CHAS | Charles River dummy variable (1 if tract bounds river; 0 otherwise) | 0 |\n",
    "| NOX | nitric oxides concentration (parts per 10 million) | 0.538 |\n",
    "| RM | average number of rooms per dwelling | 6.575 |\n",
    "| AGE | proportion of owner-occupied units built prior to 1940 | 65.2 |\n",
    "| DIS | weighted distances to five Boston employment centers | 4.0900 |\n",
    "| RAD | index of accessibility to radial highways | 1 |\n",
    "| TAX | full-value property-tax rate per 10,000 dollars | 296.0 |\n",
    "| PTRATIO | pupil-teacher ratio by town | 15.3 |\n",
    "| B | 1000(Bk - 0.63)^2 where Bk is the proportion of blacks by town | 396.90 |\n",
    "| LSTAT | % lower status of the population | 4.98 |"
   ]
  },
  {
   "cell_type": "code",
   "execution_count": null,
   "metadata": {
    "colab": {
     "base_uri": "https://localhost:8080/"
    },
    "executionInfo": {
     "elapsed": 667,
     "status": "ok",
     "timestamp": 1604615545813,
     "user": {
      "displayName": "Buomsoo Kim",
      "photoUrl": "",
      "userId": "18268696804115368229"
     },
     "user_tz": 420
    },
    "id": "fNoiTI7riLln",
    "outputId": "8f705f12-2a42-4de3-8e1f-5e56f540294f"
   },
   "outputs": [
    {
     "name": "stdout",
     "output_type": "stream",
     "text": [
      "(404, 13)\n",
      "(102, 13)\n",
      "(404,)\n",
      "(102,)\n"
     ]
    }
   ],
   "source": [
    "print(X_train.shape)\n",
    "print(X_test.shape)\n",
    "print(y_train.shape)\n",
    "print(y_test.shape)"
   ]
  },
  {
   "cell_type": "markdown",
   "metadata": {
    "id": "JOYtmK73iLlr"
   },
   "source": [
    "### 1. Creating a model\n",
    "- Keras model object can be created with Sequential class\n",
    "- At the outset, the model is empty per se. It is completed by **'adding'** additional layers and compilation\n",
    "- Doc: https://keras.io/models/sequential/"
   ]
  },
  {
   "cell_type": "code",
   "execution_count": 1,
   "metadata": {
    "executionInfo": {
     "elapsed": 2011,
     "status": "ok",
     "timestamp": 1604684692159,
     "user": {
      "displayName": "Buomsoo Kim",
      "photoUrl": "",
      "userId": "18268696804115368229"
     },
     "user_tz": 420
    },
    "id": "acq8TcfNiLls"
   },
   "outputs": [],
   "source": [
    "from tensorflow.keras.models import Sequential"
   ]
  },
  {
   "cell_type": "markdown",
   "metadata": {},
   "source": [
    "### Sequential()\n",
    "- In particular, model = Sequential() creates a new neural network model using the Sequential API, which is a simple way to stack layers in a linear manner. \n",
    "- Once the model is defined, you can add layers to it using the add() method and then compile and train it using other Keras methods."
   ]
  },
  {
   "cell_type": "code",
   "execution_count": null,
   "metadata": {
    "id": "oNniEkDfiLlv"
   },
   "outputs": [],
   "source": [
    "model = Sequential()"
   ]
  },
  {
   "cell_type": "markdown",
   "metadata": {
    "id": "NZnKUkU7iLl3"
   },
   "source": [
    "### 1-1. Adding layers\n",
    "- Keras layers can be **added** to the model\n",
    "- Adding layers are like stacking lego blocks one by one\n",
    "- Doc: https://keras.io/layers/core/"
   ]
  },
  {
   "cell_type": "code",
   "execution_count": 2,
   "metadata": {
    "executionInfo": {
     "elapsed": 2008,
     "status": "ok",
     "timestamp": 1604684692162,
     "user": {
      "displayName": "Buomsoo Kim",
      "photoUrl": "",
      "userId": "18268696804115368229"
     },
     "user_tz": 420
    },
    "id": "kqmgQvhbiLl4"
   },
   "outputs": [],
   "source": [
    "from tensorflow.keras.layers import Activation, Dense"
   ]
  },
  {
   "cell_type": "code",
   "execution_count": null,
   "metadata": {
    "id": "uioANxXniLl9"
   },
   "outputs": [],
   "source": [
    "# Keras model with two hidden layer with 10 neurons each \n",
    "model.add(Dense(10, input_shape = (13,)))    # Input layer => input_shape should be explicitly designated\n",
    "model.add(Activation('sigmoid'))\n",
    "model.add(Dense(10))                         # Hidden layer => only output dimension should be designated\n",
    "model.add(Activation('sigmoid'))\n",
    "model.add(Dense(10))                         # Hidden layer => only output dimension should be designated\n",
    "model.add(Activation('sigmoid'))\n",
    "model.add(Dense(1))                          # Output layer => output dimension = 1 since it is regression problem"
   ]
  },
  {
   "cell_type": "code",
   "execution_count": null,
   "metadata": {
    "id": "6oiel4R4iLmA"
   },
   "outputs": [],
   "source": [
    "# This is equivalent to the above code block\n",
    "model.add(Dense(10, input_shape = (13,), activation = 'sigmoid'))\n",
    "model.add(Dense(10, activation = 'sigmoid'))\n",
    "model.add(Dense(10, activation = 'sigmoid'))\n",
    "model.add(Dense(1))"
   ]
  },
  {
   "cell_type": "markdown",
   "metadata": {
    "id": "j3myo_gwiLmD"
   },
   "source": [
    "### 1-2. Model compile\n",
    "- Keras model should be \"compiled\" prior to training\n",
    "- Types of loss (function) and optimizer should be designated\n",
    "    - Doc (optimizers): https://keras.io/optimizers/\n",
    "    - Doc (losses): https://keras.io/losses/"
   ]
  },
  {
   "cell_type": "code",
   "execution_count": null,
   "metadata": {
    "id": "Z35lcQ9wiLmD"
   },
   "outputs": [],
   "source": [
    "from tensorflow.keras import optimizers"
   ]
  },
  {
   "cell_type": "code",
   "execution_count": null,
   "metadata": {
    "id": "G7CnpfQYiLmF"
   },
   "outputs": [],
   "source": [
    "sgd = optimizers.SGD(lr = 0.01)    # stochastic gradient descent optimizer"
   ]
  },
  {
   "cell_type": "markdown",
   "metadata": {},
   "source": [
    "### mean squared error (MSE) loss\n",
    "The mean squared error (MSE) loss function is defined as:\n",
    "\n",
    "$$\\text{MSE} = \\frac{1}{n} \\sum_{i=1}^{n} (y_i - \\hat{y_i})^2$$\n",
    "\n",
    "where $n$ is the number of samples, $y_i$ is the true label of the $i$-th sample, and $\\hat{y_i}$ is the predicted label for the $i$-th sample."
   ]
  },
  {
   "cell_type": "code",
   "execution_count": null,
   "metadata": {
    "id": "smk7k7S3iLmI"
   },
   "outputs": [],
   "source": [
    "model.compile(optimizer = sgd, loss = 'mean_squared_error', metrics = ['mse'])    # for regression problems, mean squared error (MSE) is often employed"
   ]
  },
  {
   "cell_type": "markdown",
   "metadata": {
    "id": "Y8bYluaBiLmM"
   },
   "source": [
    "### Summary of the model"
   ]
  },
  {
   "cell_type": "code",
   "execution_count": null,
   "metadata": {
    "colab": {
     "base_uri": "https://localhost:8080/"
    },
    "executionInfo": {
     "elapsed": 604,
     "status": "ok",
     "timestamp": 1604615575002,
     "user": {
      "displayName": "Buomsoo Kim",
      "photoUrl": "",
      "userId": "18268696804115368229"
     },
     "user_tz": 420
    },
    "id": "frQTX4-_iLmM",
    "outputId": "8b39e2c7-3fba-4f8f-b26d-3d29a50af263",
    "scrolled": false
   },
   "outputs": [
    {
     "name": "stdout",
     "output_type": "stream",
     "text": [
      "Model: \"sequential\"\n",
      "_________________________________________________________________\n",
      "Layer (type)                 Output Shape              Param #   \n",
      "=================================================================\n",
      "dense (Dense)                (None, 10)                140       \n",
      "_________________________________________________________________\n",
      "activation (Activation)      (None, 10)                0         \n",
      "_________________________________________________________________\n",
      "dense_1 (Dense)              (None, 10)                110       \n",
      "_________________________________________________________________\n",
      "activation_1 (Activation)    (None, 10)                0         \n",
      "_________________________________________________________________\n",
      "dense_2 (Dense)              (None, 10)                110       \n",
      "_________________________________________________________________\n",
      "activation_2 (Activation)    (None, 10)                0         \n",
      "_________________________________________________________________\n",
      "dense_3 (Dense)              (None, 1)                 11        \n",
      "_________________________________________________________________\n",
      "dense_4 (Dense)              (None, 10)                20        \n",
      "_________________________________________________________________\n",
      "dense_5 (Dense)              (None, 10)                110       \n",
      "_________________________________________________________________\n",
      "dense_6 (Dense)              (None, 10)                110       \n",
      "_________________________________________________________________\n",
      "dense_7 (Dense)              (None, 1)                 11        \n",
      "=================================================================\n",
      "Total params: 622\n",
      "Trainable params: 622\n",
      "Non-trainable params: 0\n",
      "_________________________________________________________________\n"
     ]
    }
   ],
   "source": [
    "model.summary()"
   ]
  },
  {
   "cell_type": "markdown",
   "metadata": {
    "id": "hqXWTsCqiLmO"
   },
   "source": [
    "### 2. Training\n",
    "- Training the model with training data provided"
   ]
  },
  {
   "cell_type": "code",
   "execution_count": null,
   "metadata": {
    "colab": {
     "base_uri": "https://localhost:8080/"
    },
    "executionInfo": {
     "elapsed": 3253,
     "status": "ok",
     "timestamp": 1604615580871,
     "user": {
      "displayName": "Buomsoo Kim",
      "photoUrl": "",
      "userId": "18268696804115368229"
     },
     "user_tz": 420
    },
    "id": "pemL_26CiLmP",
    "outputId": "e739ab33-83e7-4ec5-d3c9-ea8b404a64d4"
   },
   "outputs": [
    {
     "name": "stdout",
     "output_type": "stream",
     "text": [
      "Epoch 1/100\n",
      "9/9 [==============================] - 0s 1ms/step - loss: 327.1941 - mse: 327.1941\n",
      "Epoch 2/100\n",
      "9/9 [==============================] - 0s 1ms/step - loss: 100.1824 - mse: 100.1824\n",
      "Epoch 3/100\n",
      "9/9 [==============================] - 0s 1ms/step - loss: 84.7834 - mse: 84.7834\n",
      "Epoch 4/100\n",
      "9/9 [==============================] - 0s 1ms/step - loss: 86.1525 - mse: 86.1525\n",
      "Epoch 5/100\n",
      "9/9 [==============================] - 0s 1ms/step - loss: 86.5417 - mse: 86.5417\n",
      "Epoch 6/100\n",
      "9/9 [==============================] - 0s 1ms/step - loss: 86.0243 - mse: 86.0243\n",
      "Epoch 7/100\n",
      "9/9 [==============================] - 0s 1ms/step - loss: 85.9349 - mse: 85.9349\n",
      "Epoch 8/100\n",
      "9/9 [==============================] - 0s 1ms/step - loss: 85.1025 - mse: 85.1025\n",
      "Epoch 9/100\n",
      "9/9 [==============================] - 0s 1ms/step - loss: 84.6883 - mse: 84.6883\n",
      "Epoch 10/100\n",
      "9/9 [==============================] - 0s 1ms/step - loss: 84.9514 - mse: 84.9514\n",
      "Epoch 11/100\n",
      "9/9 [==============================] - 0s 1ms/step - loss: 85.0368 - mse: 85.0368\n",
      "Epoch 12/100\n",
      "9/9 [==============================] - 0s 1ms/step - loss: 85.3205 - mse: 85.3205\n",
      "Epoch 13/100\n",
      "9/9 [==============================] - 0s 1ms/step - loss: 84.8299 - mse: 84.8299\n",
      "Epoch 14/100\n",
      "9/9 [==============================] - 0s 2ms/step - loss: 85.0295 - mse: 85.0295\n",
      "Epoch 15/100\n",
      "9/9 [==============================] - 0s 1ms/step - loss: 85.2393 - mse: 85.2393\n",
      "Epoch 16/100\n",
      "9/9 [==============================] - 0s 1ms/step - loss: 84.7069 - mse: 84.7069\n",
      "Epoch 17/100\n",
      "9/9 [==============================] - 0s 1ms/step - loss: 85.2766 - mse: 85.2766\n",
      "Epoch 18/100\n",
      "9/9 [==============================] - 0s 1ms/step - loss: 85.1940 - mse: 85.1940\n",
      "Epoch 19/100\n",
      "9/9 [==============================] - 0s 1ms/step - loss: 85.0598 - mse: 85.0598\n",
      "Epoch 20/100\n",
      "9/9 [==============================] - 0s 2ms/step - loss: 84.9116 - mse: 84.9116\n",
      "Epoch 21/100\n",
      "9/9 [==============================] - 0s 2ms/step - loss: 85.2788 - mse: 85.2788\n",
      "Epoch 22/100\n",
      "9/9 [==============================] - 0s 1ms/step - loss: 85.3580 - mse: 85.3580\n",
      "Epoch 23/100\n",
      "9/9 [==============================] - 0s 1ms/step - loss: 85.3399 - mse: 85.3399\n",
      "Epoch 24/100\n",
      "9/9 [==============================] - 0s 1ms/step - loss: 85.7195 - mse: 85.7195\n",
      "Epoch 25/100\n",
      "9/9 [==============================] - 0s 2ms/step - loss: 85.3033 - mse: 85.3033\n",
      "Epoch 26/100\n",
      "9/9 [==============================] - 0s 2ms/step - loss: 85.1848 - mse: 85.1848\n",
      "Epoch 27/100\n",
      "9/9 [==============================] - 0s 1ms/step - loss: 84.9235 - mse: 84.9235\n",
      "Epoch 28/100\n",
      "9/9 [==============================] - 0s 2ms/step - loss: 85.0472 - mse: 85.0472\n",
      "Epoch 29/100\n",
      "9/9 [==============================] - 0s 1ms/step - loss: 84.7654 - mse: 84.7654\n",
      "Epoch 30/100\n",
      "9/9 [==============================] - 0s 1ms/step - loss: 84.8567 - mse: 84.8567\n",
      "Epoch 31/100\n",
      "9/9 [==============================] - 0s 2ms/step - loss: 85.3040 - mse: 85.3040\n",
      "Epoch 32/100\n",
      "9/9 [==============================] - 0s 2ms/step - loss: 85.0068 - mse: 85.0068\n",
      "Epoch 33/100\n",
      "9/9 [==============================] - 0s 2ms/step - loss: 84.9097 - mse: 84.9097\n",
      "Epoch 34/100\n",
      "9/9 [==============================] - 0s 2ms/step - loss: 84.8251 - mse: 84.8251\n",
      "Epoch 35/100\n",
      "9/9 [==============================] - 0s 1ms/step - loss: 85.1826 - mse: 85.1826\n",
      "Epoch 36/100\n",
      "9/9 [==============================] - 0s 1ms/step - loss: 84.8694 - mse: 84.8694\n",
      "Epoch 37/100\n",
      "9/9 [==============================] - 0s 2ms/step - loss: 85.3138 - mse: 85.3138\n",
      "Epoch 38/100\n",
      "9/9 [==============================] - 0s 2ms/step - loss: 87.5671 - mse: 87.5671\n",
      "Epoch 39/100\n",
      "9/9 [==============================] - 0s 1ms/step - loss: 84.7633 - mse: 84.7633\n",
      "Epoch 40/100\n",
      "9/9 [==============================] - 0s 2ms/step - loss: 84.7638 - mse: 84.7638\n",
      "Epoch 41/100\n",
      "9/9 [==============================] - 0s 1ms/step - loss: 84.8094 - mse: 84.8094\n",
      "Epoch 42/100\n",
      "9/9 [==============================] - 0s 2ms/step - loss: 84.8136 - mse: 84.8136\n",
      "Epoch 43/100\n",
      "9/9 [==============================] - 0s 1ms/step - loss: 85.5642 - mse: 85.5642\n",
      "Epoch 44/100\n",
      "9/9 [==============================] - 0s 2ms/step - loss: 85.1560 - mse: 85.1560\n",
      "Epoch 45/100\n",
      "9/9 [==============================] - 0s 2ms/step - loss: 85.2163 - mse: 85.2163\n",
      "Epoch 46/100\n",
      "9/9 [==============================] - 0s 2ms/step - loss: 85.4990 - mse: 85.4990\n",
      "Epoch 47/100\n",
      "9/9 [==============================] - 0s 1ms/step - loss: 85.0422 - mse: 85.0422\n",
      "Epoch 48/100\n",
      "9/9 [==============================] - 0s 2ms/step - loss: 84.6849 - mse: 84.6849\n",
      "Epoch 49/100\n",
      "9/9 [==============================] - 0s 2ms/step - loss: 85.5211 - mse: 85.5211\n",
      "Epoch 50/100\n",
      "9/9 [==============================] - 0s 1ms/step - loss: 86.0649 - mse: 86.0649\n",
      "Epoch 51/100\n",
      "9/9 [==============================] - 0s 1ms/step - loss: 84.8284 - mse: 84.8284\n",
      "Epoch 52/100\n",
      "9/9 [==============================] - 0s 1ms/step - loss: 84.6928 - mse: 84.6928\n",
      "Epoch 53/100\n",
      "9/9 [==============================] - 0s 1ms/step - loss: 84.7896 - mse: 84.7896\n",
      "Epoch 54/100\n",
      "9/9 [==============================] - 0s 1ms/step - loss: 84.7333 - mse: 84.7333\n",
      "Epoch 55/100\n",
      "9/9 [==============================] - 0s 2ms/step - loss: 84.7539 - mse: 84.7539\n",
      "Epoch 56/100\n",
      "9/9 [==============================] - 0s 2ms/step - loss: 84.7660 - mse: 84.7660\n",
      "Epoch 57/100\n",
      "9/9 [==============================] - 0s 2ms/step - loss: 84.7308 - mse: 84.7308\n",
      "Epoch 58/100\n",
      "9/9 [==============================] - 0s 1ms/step - loss: 85.3436 - mse: 85.3436\n",
      "Epoch 59/100\n",
      "9/9 [==============================] - 0s 2ms/step - loss: 85.1266 - mse: 85.1266\n",
      "Epoch 60/100\n",
      "9/9 [==============================] - 0s 2ms/step - loss: 84.9594 - mse: 84.9594\n",
      "Epoch 61/100\n",
      "9/9 [==============================] - 0s 1ms/step - loss: 84.9980 - mse: 84.9980\n",
      "Epoch 62/100\n",
      "9/9 [==============================] - 0s 2ms/step - loss: 84.9737 - mse: 84.9737\n",
      "Epoch 63/100\n",
      "9/9 [==============================] - 0s 2ms/step - loss: 84.9171 - mse: 84.9171\n",
      "Epoch 64/100\n",
      "9/9 [==============================] - 0s 1ms/step - loss: 84.7895 - mse: 84.7895\n",
      "Epoch 65/100\n",
      "9/9 [==============================] - 0s 2ms/step - loss: 84.9443 - mse: 84.9443\n",
      "Epoch 66/100\n",
      "9/9 [==============================] - 0s 2ms/step - loss: 84.8253 - mse: 84.8253\n",
      "Epoch 67/100\n",
      "9/9 [==============================] - 0s 1ms/step - loss: 84.9867 - mse: 84.9867\n",
      "Epoch 68/100\n",
      "9/9 [==============================] - 0s 1ms/step - loss: 85.1650 - mse: 85.1650\n",
      "Epoch 69/100\n",
      "9/9 [==============================] - 0s 1ms/step - loss: 85.6949 - mse: 85.6949\n",
      "Epoch 70/100\n",
      "9/9 [==============================] - 0s 1ms/step - loss: 84.9916 - mse: 84.9916\n",
      "Epoch 71/100\n",
      "9/9 [==============================] - 0s 1ms/step - loss: 84.8611 - mse: 84.8611\n",
      "Epoch 72/100\n",
      "9/9 [==============================] - 0s 2ms/step - loss: 84.7077 - mse: 84.7077\n",
      "Epoch 73/100\n",
      "9/9 [==============================] - 0s 1ms/step - loss: 84.9602 - mse: 84.9602\n",
      "Epoch 74/100\n",
      "9/9 [==============================] - 0s 2ms/step - loss: 84.7479 - mse: 84.7479\n",
      "Epoch 75/100\n",
      "9/9 [==============================] - 0s 1ms/step - loss: 85.5453 - mse: 85.5453\n",
      "Epoch 76/100\n",
      "9/9 [==============================] - 0s 1ms/step - loss: 85.8201 - mse: 85.8201\n",
      "Epoch 77/100\n",
      "9/9 [==============================] - 0s 2ms/step - loss: 84.9072 - mse: 84.9072\n",
      "Epoch 78/100\n",
      "9/9 [==============================] - 0s 2ms/step - loss: 85.1027 - mse: 85.1027\n",
      "Epoch 79/100\n",
      "9/9 [==============================] - 0s 1ms/step - loss: 85.1464 - mse: 85.1464\n",
      "Epoch 80/100\n",
      "9/9 [==============================] - 0s 1ms/step - loss: 84.8919 - mse: 84.8919\n",
      "Epoch 81/100\n",
      "9/9 [==============================] - 0s 2ms/step - loss: 86.1661 - mse: 86.1661\n",
      "Epoch 82/100\n",
      "9/9 [==============================] - 0s 1ms/step - loss: 85.9646 - mse: 85.9646\n",
      "Epoch 83/100\n",
      "9/9 [==============================] - 0s 2ms/step - loss: 84.8830 - mse: 84.8830\n",
      "Epoch 84/100\n",
      "9/9 [==============================] - 0s 1ms/step - loss: 84.9407 - mse: 84.9407\n",
      "Epoch 85/100\n",
      "9/9 [==============================] - 0s 1ms/step - loss: 85.1243 - mse: 85.1243\n",
      "Epoch 86/100\n",
      "9/9 [==============================] - 0s 1ms/step - loss: 84.9141 - mse: 84.9141\n",
      "Epoch 87/100\n",
      "9/9 [==============================] - 0s 1ms/step - loss: 84.7843 - mse: 84.7843\n",
      "Epoch 88/100\n",
      "9/9 [==============================] - 0s 2ms/step - loss: 84.8343 - mse: 84.8343\n",
      "Epoch 89/100\n",
      "9/9 [==============================] - 0s 2ms/step - loss: 85.4533 - mse: 85.4533\n",
      "Epoch 90/100\n",
      "9/9 [==============================] - 0s 2ms/step - loss: 85.0849 - mse: 85.0849\n",
      "Epoch 91/100\n",
      "9/9 [==============================] - 0s 2ms/step - loss: 85.3591 - mse: 85.3591\n",
      "Epoch 92/100\n",
      "9/9 [==============================] - 0s 2ms/step - loss: 85.0075 - mse: 85.0075\n",
      "Epoch 93/100\n",
      "9/9 [==============================] - 0s 1ms/step - loss: 85.1292 - mse: 85.1292\n",
      "Epoch 94/100\n",
      "9/9 [==============================] - 0s 1ms/step - loss: 85.3760 - mse: 85.3760\n",
      "Epoch 95/100\n",
      "9/9 [==============================] - 0s 2ms/step - loss: 84.9904 - mse: 84.9904\n",
      "Epoch 96/100\n",
      "9/9 [==============================] - 0s 2ms/step - loss: 85.0058 - mse: 85.0058\n",
      "Epoch 97/100\n",
      "9/9 [==============================] - 0s 2ms/step - loss: 85.1373 - mse: 85.1373\n",
      "Epoch 98/100\n",
      "9/9 [==============================] - 0s 2ms/step - loss: 85.3498 - mse: 85.3498\n",
      "Epoch 99/100\n",
      "9/9 [==============================] - 0s 1ms/step - loss: 84.9645 - mse: 84.9645\n",
      "Epoch 100/100\n",
      "9/9 [==============================] - 0s 2ms/step - loss: 84.9644 - mse: 84.9644\n"
     ]
    },
    {
     "data": {
      "text/plain": [
       "<tensorflow.python.keras.callbacks.History at 0x7f6cecf96a90>"
      ]
     },
     "execution_count": 21,
     "metadata": {
      "tags": []
     },
     "output_type": "execute_result"
    }
   ],
   "source": [
    "model.fit(X_train, y_train, batch_size = 50, epochs = 100, verbose = 1)"
   ]
  },
  {
   "cell_type": "markdown",
   "metadata": {
    "id": "mGcfiiEhiLmU"
   },
   "source": [
    "### 3. Evaluation\n",
    "- Keras model can be evaluated with evaluate() function\n",
    "- Evaluation results are contained in a list\n",
    "    - Doc (metrics): https://keras.io/metrics/"
   ]
  },
  {
   "cell_type": "code",
   "execution_count": null,
   "metadata": {
    "colab": {
     "base_uri": "https://localhost:8080/"
    },
    "executionInfo": {
     "elapsed": 699,
     "status": "ok",
     "timestamp": 1604615584389,
     "user": {
      "displayName": "Buomsoo Kim",
      "photoUrl": "",
      "userId": "18268696804115368229"
     },
     "user_tz": 420
    },
    "id": "HuLThu07iLmU",
    "outputId": "8d9ce1e4-e0ec-41e8-80b0-ab05dd900e18"
   },
   "outputs": [
    {
     "name": "stdout",
     "output_type": "stream",
     "text": [
      "4/4 [==============================] - 0s 2ms/step - loss: 85.3844 - mse: 85.3844\n"
     ]
    }
   ],
   "source": [
    "results = model.evaluate(X_test, y_test)"
   ]
  },
  {
   "cell_type": "code",
   "execution_count": null,
   "metadata": {
    "colab": {
     "base_uri": "https://localhost:8080/"
    },
    "executionInfo": {
     "elapsed": 548,
     "status": "ok",
     "timestamp": 1604615584689,
     "user": {
      "displayName": "Buomsoo Kim",
      "photoUrl": "",
      "userId": "18268696804115368229"
     },
     "user_tz": 420
    },
    "id": "VTHbM8FaiLmW",
    "outputId": "a21911b0-6624-4d6f-e62d-e749c8559966"
   },
   "outputs": [
    {
     "name": "stdout",
     "output_type": "stream",
     "text": [
      "['loss', 'mse']\n",
      "[85.38439178466797, 85.38439178466797]\n"
     ]
    }
   ],
   "source": [
    "print(model.metrics_names)     # list of metric names the model is employing\n",
    "print(results)                 # actual figure of metrics computed"
   ]
  },
  {
   "cell_type": "code",
   "execution_count": null,
   "metadata": {
    "colab": {
     "base_uri": "https://localhost:8080/"
    },
    "executionInfo": {
     "elapsed": 630,
     "status": "ok",
     "timestamp": 1604615585972,
     "user": {
      "displayName": "Buomsoo Kim",
      "photoUrl": "",
      "userId": "18268696804115368229"
     },
     "user_tz": 420
    },
    "id": "8Ni7tqtNiLmY",
    "outputId": "fc666718-4cd3-43c7-e4be-245e221fedf9"
   },
   "outputs": [
    {
     "name": "stdout",
     "output_type": "stream",
     "text": [
      "loss:  85.38439178466797\n",
      "mse:  85.38439178466797\n"
     ]
    }
   ],
   "source": [
    "print('loss: ', results[0])\n",
    "print('mse: ', results[1])"
   ]
  },
  {
   "cell_type": "markdown",
   "metadata": {
    "id": "FCGlFQDIiLma"
   },
   "source": [
    "## MLP for classification tasks\n",
    "- When the target (**y**) is discrete (categorical)\n",
    "- For loss function, cross-entropy is used and for evaluation metric, accuracy is commonly used"
   ]
  },
  {
   "cell_type": "markdown",
   "metadata": {
    "id": "lAhF7aAJiLmn"
   },
   "source": [
    "### Dataset Description\n",
    "- CIFAR-10 dataset contains 60,000 images in 10 classes - 50,000 for training and 10,000 for testing\n",
    "- For more information, refer to [this Wikipedia article](https://en.wikipedia.org/wiki/CIFAR-10) or [Alex Krizhevsky's web site](https://www.cs.toronto.edu/~kriz/cifar.html)"
   ]
  },
  {
   "cell_type": "markdown",
   "metadata": {},
   "source": [
    "The CIFAR-10 dataset consists of 60,000 32x32 color images in 10 classes, with 6,000 images per class. The classes are:\n",
    "\n",
    "| airplane | automobile | bird | cat | deer | dog | frog | horse | ship | truck |\n",
    "| --- | --- | --- | --- | --- | --- | --- | --- | --- | --- |\n",
    "\n",
    "\n",
    "![CIFAR-10 Example Images](https://storage.googleapis.com/kaggle-competitions/kaggle/3649/media/cifar-10.png)"
   ]
  },
  {
   "cell_type": "code",
   "execution_count": 3,
   "metadata": {
    "executionInfo": {
     "elapsed": 386,
     "status": "ok",
     "timestamp": 1604684695071,
     "user": {
      "displayName": "Buomsoo Kim",
      "photoUrl": "",
      "userId": "18268696804115368229"
     },
     "user_tz": 420
    },
    "id": "vD1Pzzfyi2el"
   },
   "outputs": [],
   "source": [
    "from tensorflow.keras.datasets import cifar10\n",
    "from tensorflow.keras.utils import to_categorical"
   ]
  },
  {
   "cell_type": "code",
   "execution_count": 4,
   "metadata": {
    "colab": {
     "base_uri": "https://localhost:8080/"
    },
    "executionInfo": {
     "elapsed": 8074,
     "status": "ok",
     "timestamp": 1604684705146,
     "user": {
      "displayName": "Buomsoo Kim",
      "photoUrl": "",
      "userId": "18268696804115368229"
     },
     "user_tz": 420
    },
    "id": "z0fwviGBi4JF",
    "outputId": "4a10b1f6-17ca-48fc-888c-6b905366ad94"
   },
   "outputs": [
    {
     "name": "stdout",
     "output_type": "stream",
     "text": [
      "Downloading data from https://www.cs.toronto.edu/~kriz/cifar-10-python.tar.gz\n",
      "170500096/170498071 [==============================] - 5s 0us/step\n",
      "(50000, 3072) (10000, 3072) (50000, 10) (10000, 10)\n"
     ]
    }
   ],
   "source": [
    "# load data and flatten X data to fit into MLP\n",
    "(x_train, y_train), (x_test, y_test) = cifar10.load_data()\n",
    "x_train, x_test = x_train.reshape(x_train.shape[0], -1), x_test.reshape(x_test.shape[0], -1)\n",
    "y_train, y_test = to_categorical(y_train), to_categorical(y_test)\n",
    "print(x_train.shape, x_test.shape, y_train.shape, y_test.shape)"
   ]
  },
  {
   "cell_type": "markdown",
   "metadata": {
    "id": "yDfUxLydiLmr"
   },
   "source": [
    "### 1. Creating a model\n",
    "- Same with regression model - use ```Sequential()```"
   ]
  },
  {
   "cell_type": "code",
   "execution_count": 5,
   "metadata": {
    "executionInfo": {
     "elapsed": 385,
     "status": "ok",
     "timestamp": 1604684708274,
     "user": {
      "displayName": "Buomsoo Kim",
      "photoUrl": "",
      "userId": "18268696804115368229"
     },
     "user_tz": 420
    },
    "id": "otQOT-jKiLmu"
   },
   "outputs": [],
   "source": [
    "model = Sequential()"
   ]
  },
  {
   "cell_type": "markdown",
   "metadata": {
    "id": "z8xmzpbTiLmy"
   },
   "source": [
    "### 1-1. Adding layers\n",
    "- Keras layers can be **added** to the model\n",
    "- Adding layers are like stacking lego blocks one by one\n",
    "- It should be noted that as this is a classification problem, sigmoid layer (softmax for multi-class problems) should be added\n",
    "- Doc: https://keras.io/layers/core/"
   ]
  },
  {
   "cell_type": "code",
   "execution_count": 6,
   "metadata": {
    "executionInfo": {
     "elapsed": 366,
     "status": "ok",
     "timestamp": 1604684709460,
     "user": {
      "displayName": "Buomsoo Kim",
      "photoUrl": "",
      "userId": "18268696804115368229"
     },
     "user_tz": 420
    },
    "id": "_6WRFmz2iLmy"
   },
   "outputs": [],
   "source": [
    "# Keras model with two hidden layer with 10 neurons each \n",
    "model.add(Dense(50, input_shape = (x_train.shape[-1],)))    # Input layer => input_shape should be explicitly designated\n",
    "model.add(Activation('sigmoid'))\n",
    "model.add(Dense(50))                         # Hidden layer => only output dimension should be designated\n",
    "model.add(Activation('sigmoid'))\n",
    "model.add(Dense(50))                         # Hidden layer => only output dimension should be designated\n",
    "model.add(Activation('sigmoid'))\n",
    "model.add(Dense(10))                          # Output layer => output dimension = 1 since it is regression problem\n",
    "model.add(Activation('sigmoid'))"
   ]
  },
  {
   "cell_type": "code",
   "execution_count": null,
   "metadata": {
    "id": "KDYGhWuHiLm0"
   },
   "outputs": [],
   "source": [
    "# This is equivalent to the above code block\n",
    "model.add(Dense(50, input_shape = (x_train.shape[-1],), activation = 'sigmoid'))\n",
    "model.add(Dense(50, activation = 'sigmoid'))\n",
    "model.add(Dense(50, activation = 'sigmoid'))\n",
    "model.add(Dense(10, activation = 'sigmoid'))"
   ]
  },
  {
   "cell_type": "markdown",
   "metadata": {
    "id": "e5a1P3tTiLm2"
   },
   "source": [
    "### 1-2. Model compile\n",
    "- Keras model should be \"compiled\" prior to training\n",
    "- Types of loss (function) and optimizer should be designated\n",
    "    - Doc (optimizers): https://keras.io/optimizers/\n",
    "    - Doc (losses): https://keras.io/losses/"
   ]
  },
  {
   "cell_type": "code",
   "execution_count": 7,
   "metadata": {
    "executionInfo": {
     "elapsed": 428,
     "status": "ok",
     "timestamp": 1604684713367,
     "user": {
      "displayName": "Buomsoo Kim",
      "photoUrl": "",
      "userId": "18268696804115368229"
     },
     "user_tz": 420
    },
    "id": "GXaGu_ebiLm2"
   },
   "outputs": [],
   "source": [
    "from tensorflow.keras import optimizers"
   ]
  },
  {
   "cell_type": "code",
   "execution_count": 8,
   "metadata": {
    "executionInfo": {
     "elapsed": 342,
     "status": "ok",
     "timestamp": 1604684713695,
     "user": {
      "displayName": "Buomsoo Kim",
      "photoUrl": "",
      "userId": "18268696804115368229"
     },
     "user_tz": 420
    },
    "id": "_vdJBNmziLm5"
   },
   "outputs": [],
   "source": [
    "sgd = optimizers.SGD(lr = 0.01)    # stochastic gradient descent optimizer"
   ]
  },
  {
   "cell_type": "markdown",
   "metadata": {},
   "source": [
    "### categorical_crossentropy loss\n",
    "The categorical_crossentropy loss function measures the dissimilarity between the true labels and the predicted probability distribution over all classes. It is calculated as the sum of the negative logarithm of the predicted probability of the true class, averaged over all samples in the training set. Mathematically, the formula for categorical_crossentropy is as follows:\n",
    "\n",
    "$$\\text{categorical_crossentropy}(y_{true}, y_{pred}) = -\\frac{1}{N} \\sum_{i=1}^{N} \\sum_{j=1}^{C} y_{true, i,j} \\log(y_{pred, i,j})$$\n",
    "\n",
    "Here, $N$ is the number of samples in the training set, $C$ is the number of classes, $y_{true}$ is the true label for each sample (represented as a one-hot encoded vector), and $y_{pred}$ is the predicted probability distribution over all classes (represented as a probability vector). The logarithm is taken to ensure that the loss penalizes larger deviations between the true and predicted probability distributions more heavily."
   ]
  },
  {
   "cell_type": "code",
   "execution_count": 9,
   "metadata": {
    "executionInfo": {
     "elapsed": 443,
     "status": "ok",
     "timestamp": 1604684714603,
     "user": {
      "displayName": "Buomsoo Kim",
      "photoUrl": "",
      "userId": "18268696804115368229"
     },
     "user_tz": 420
    },
    "id": "8KxYO7rqiLm7"
   },
   "outputs": [],
   "source": [
    "model.compile(optimizer = sgd, loss = 'categorical_crossentropy', metrics = ['accuracy'])"
   ]
  },
  {
   "cell_type": "markdown",
   "metadata": {
    "id": "jUWLl1gpiLm9"
   },
   "source": [
    "### Summary of the model"
   ]
  },
  {
   "cell_type": "code",
   "execution_count": 10,
   "metadata": {
    "colab": {
     "base_uri": "https://localhost:8080/"
    },
    "executionInfo": {
     "elapsed": 298,
     "status": "ok",
     "timestamp": 1604684719834,
     "user": {
      "displayName": "Buomsoo Kim",
      "photoUrl": "",
      "userId": "18268696804115368229"
     },
     "user_tz": 420
    },
    "id": "wtKl8bY_iLm9",
    "outputId": "4c1ddf27-f333-4510-b36d-b27daf8c801c",
    "scrolled": true
   },
   "outputs": [
    {
     "name": "stdout",
     "output_type": "stream",
     "text": [
      "Model: \"sequential\"\n",
      "_________________________________________________________________\n",
      "Layer (type)                 Output Shape              Param #   \n",
      "=================================================================\n",
      "dense (Dense)                (None, 50)                153650    \n",
      "_________________________________________________________________\n",
      "activation (Activation)      (None, 50)                0         \n",
      "_________________________________________________________________\n",
      "dense_1 (Dense)              (None, 50)                2550      \n",
      "_________________________________________________________________\n",
      "activation_1 (Activation)    (None, 50)                0         \n",
      "_________________________________________________________________\n",
      "dense_2 (Dense)              (None, 50)                2550      \n",
      "_________________________________________________________________\n",
      "activation_2 (Activation)    (None, 50)                0         \n",
      "_________________________________________________________________\n",
      "dense_3 (Dense)              (None, 10)                510       \n",
      "_________________________________________________________________\n",
      "activation_3 (Activation)    (None, 10)                0         \n",
      "=================================================================\n",
      "Total params: 159,260\n",
      "Trainable params: 159,260\n",
      "Non-trainable params: 0\n",
      "_________________________________________________________________\n"
     ]
    }
   ],
   "source": [
    "model.summary()"
   ]
  },
  {
   "cell_type": "markdown",
   "metadata": {
    "id": "9dThMtLWiLm_"
   },
   "source": [
    "### 2. Training\n",
    "- Training the model with training data provided"
   ]
  },
  {
   "cell_type": "code",
   "execution_count": 11,
   "metadata": {
    "colab": {
     "base_uri": "https://localhost:8080/"
    },
    "executionInfo": {
     "elapsed": 111401,
     "status": "ok",
     "timestamp": 1604684834871,
     "user": {
      "displayName": "Buomsoo Kim",
      "photoUrl": "",
      "userId": "18268696804115368229"
     },
     "user_tz": 420
    },
    "id": "B_IHzSh8iLm_",
    "outputId": "0bf23bfb-c12d-462c-deb0-59b8eb22e247"
   },
   "outputs": [
    {
     "name": "stdout",
     "output_type": "stream",
     "text": [
      "Epoch 1/50\n",
      "391/391 [==============================] - 2s 6ms/step - loss: 2.3209 - accuracy: 0.1000\n",
      "Epoch 2/50\n",
      "391/391 [==============================] - 2s 6ms/step - loss: 2.2998 - accuracy: 0.1113\n",
      "Epoch 3/50\n",
      "391/391 [==============================] - 2s 6ms/step - loss: 2.2946 - accuracy: 0.1531\n",
      "Epoch 4/50\n",
      "391/391 [==============================] - 2s 6ms/step - loss: 2.2905 - accuracy: 0.1735\n",
      "Epoch 5/50\n",
      "391/391 [==============================] - 2s 6ms/step - loss: 2.2866 - accuracy: 0.1764\n",
      "Epoch 6/50\n",
      "391/391 [==============================] - 2s 5ms/step - loss: 2.2821 - accuracy: 0.2089\n",
      "Epoch 7/50\n",
      "391/391 [==============================] - 2s 5ms/step - loss: 2.2757 - accuracy: 0.1965\n",
      "Epoch 8/50\n",
      "391/391 [==============================] - 2s 5ms/step - loss: 2.2679 - accuracy: 0.2125\n",
      "Epoch 9/50\n",
      "391/391 [==============================] - 2s 6ms/step - loss: 2.2576 - accuracy: 0.2193\n",
      "Epoch 10/50\n",
      "391/391 [==============================] - 2s 6ms/step - loss: 2.2435 - accuracy: 0.2116\n",
      "Epoch 11/50\n",
      "391/391 [==============================] - 2s 5ms/step - loss: 2.2254 - accuracy: 0.2013\n",
      "Epoch 12/50\n",
      "391/391 [==============================] - 2s 5ms/step - loss: 2.2035 - accuracy: 0.2011\n",
      "Epoch 13/50\n",
      "391/391 [==============================] - 2s 5ms/step - loss: 2.1778 - accuracy: 0.1974\n",
      "Epoch 14/50\n",
      "391/391 [==============================] - 2s 5ms/step - loss: 2.1521 - accuracy: 0.1948\n",
      "Epoch 15/50\n",
      "391/391 [==============================] - 2s 5ms/step - loss: 2.1298 - accuracy: 0.1962\n",
      "Epoch 16/50\n",
      "391/391 [==============================] - 2s 6ms/step - loss: 2.1119 - accuracy: 0.1928\n",
      "Epoch 17/50\n",
      "391/391 [==============================] - 2s 6ms/step - loss: 2.0993 - accuracy: 0.1963\n",
      "Epoch 18/50\n",
      "391/391 [==============================] - 2s 6ms/step - loss: 2.0879 - accuracy: 0.1957\n",
      "Epoch 19/50\n",
      "391/391 [==============================] - 2s 6ms/step - loss: 2.0825 - accuracy: 0.1966\n",
      "Epoch 20/50\n",
      "391/391 [==============================] - 2s 6ms/step - loss: 2.0814 - accuracy: 0.1982\n",
      "Epoch 21/50\n",
      "391/391 [==============================] - 2s 5ms/step - loss: 2.0746 - accuracy: 0.1984\n",
      "Epoch 22/50\n",
      "391/391 [==============================] - 2s 5ms/step - loss: 2.0709 - accuracy: 0.1988\n",
      "Epoch 23/50\n",
      "391/391 [==============================] - 2s 5ms/step - loss: 2.0718 - accuracy: 0.1934\n",
      "Epoch 24/50\n",
      "391/391 [==============================] - 2s 5ms/step - loss: 2.0756 - accuracy: 0.1989\n",
      "Epoch 25/50\n",
      "391/391 [==============================] - 2s 5ms/step - loss: 2.0712 - accuracy: 0.1957\n",
      "Epoch 26/50\n",
      "391/391 [==============================] - 2s 6ms/step - loss: 2.0771 - accuracy: 0.1990\n",
      "Epoch 27/50\n",
      "391/391 [==============================] - 2s 6ms/step - loss: 2.0713 - accuracy: 0.1991\n",
      "Epoch 28/50\n",
      "391/391 [==============================] - 2s 6ms/step - loss: 2.0702 - accuracy: 0.2007\n",
      "Epoch 29/50\n",
      "391/391 [==============================] - 2s 5ms/step - loss: 2.0762 - accuracy: 0.2021\n",
      "Epoch 30/50\n",
      "391/391 [==============================] - 2s 5ms/step - loss: 2.0671 - accuracy: 0.2018\n",
      "Epoch 31/50\n",
      "391/391 [==============================] - 2s 6ms/step - loss: 2.0720 - accuracy: 0.2040\n",
      "Epoch 32/50\n",
      "391/391 [==============================] - 2s 5ms/step - loss: 2.0770 - accuracy: 0.2029\n",
      "Epoch 33/50\n",
      "391/391 [==============================] - 2s 5ms/step - loss: 2.0740 - accuracy: 0.2017\n",
      "Epoch 34/50\n",
      "391/391 [==============================] - 2s 6ms/step - loss: 2.0748 - accuracy: 0.2002\n",
      "Epoch 35/50\n",
      "391/391 [==============================] - 2s 6ms/step - loss: 2.0752 - accuracy: 0.2031\n",
      "Epoch 36/50\n",
      "391/391 [==============================] - 2s 6ms/step - loss: 2.0888 - accuracy: 0.2021\n",
      "Epoch 37/50\n",
      "391/391 [==============================] - 2s 6ms/step - loss: 2.0878 - accuracy: 0.1940\n",
      "Epoch 38/50\n",
      "391/391 [==============================] - 2s 6ms/step - loss: 2.0797 - accuracy: 0.1985\n",
      "Epoch 39/50\n",
      "391/391 [==============================] - 2s 6ms/step - loss: 2.0754 - accuracy: 0.1963\n",
      "Epoch 40/50\n",
      "391/391 [==============================] - 2s 6ms/step - loss: 2.0810 - accuracy: 0.1926\n",
      "Epoch 41/50\n",
      "391/391 [==============================] - 2s 6ms/step - loss: 2.0786 - accuracy: 0.2065\n",
      "Epoch 42/50\n",
      "391/391 [==============================] - 2s 6ms/step - loss: 2.0787 - accuracy: 0.1908\n",
      "Epoch 43/50\n",
      "391/391 [==============================] - 2s 6ms/step - loss: 2.0828 - accuracy: 0.1953\n",
      "Epoch 44/50\n",
      "391/391 [==============================] - 2s 6ms/step - loss: 2.0723 - accuracy: 0.1955\n",
      "Epoch 45/50\n",
      "391/391 [==============================] - 2s 5ms/step - loss: 2.0829 - accuracy: 0.1952\n",
      "Epoch 46/50\n",
      "391/391 [==============================] - 2s 5ms/step - loss: 2.0844 - accuracy: 0.1905\n",
      "Epoch 47/50\n",
      "391/391 [==============================] - 2s 5ms/step - loss: 2.0861 - accuracy: 0.1920\n",
      "Epoch 48/50\n",
      "391/391 [==============================] - 2s 6ms/step - loss: 2.0941 - accuracy: 0.1838\n",
      "Epoch 49/50\n",
      "391/391 [==============================] - 2s 6ms/step - loss: 2.0822 - accuracy: 0.1884\n",
      "Epoch 50/50\n",
      "391/391 [==============================] - 2s 6ms/step - loss: 2.0848 - accuracy: 0.1844\n"
     ]
    },
    {
     "data": {
      "text/plain": [
       "<tensorflow.python.keras.callbacks.History at 0x7f24bae545f8>"
      ]
     },
     "execution_count": 11,
     "metadata": {
      "tags": []
     },
     "output_type": "execute_result"
    }
   ],
   "source": [
    "model.fit(x_train, y_train, batch_size = 128, epochs = 50, verbose = 1)"
   ]
  },
  {
   "cell_type": "markdown",
   "metadata": {
    "id": "ZH8bF3CHiLnC"
   },
   "source": [
    "### 3. Evaluation\n",
    "- Keras model can be evaluated with evaluate() function\n",
    "- Evaluation results are contained in a list\n",
    "    - Doc (metrics): https://keras.io/metrics/"
   ]
  },
  {
   "cell_type": "code",
   "execution_count": 12,
   "metadata": {
    "colab": {
     "base_uri": "https://localhost:8080/"
    },
    "executionInfo": {
     "elapsed": 964,
     "status": "ok",
     "timestamp": 1604684874377,
     "user": {
      "displayName": "Buomsoo Kim",
      "photoUrl": "",
      "userId": "18268696804115368229"
     },
     "user_tz": 420
    },
    "id": "6XygNcssiLnC",
    "outputId": "4b8f83c2-cd92-4b24-f701-eee18c174969"
   },
   "outputs": [
    {
     "name": "stdout",
     "output_type": "stream",
     "text": [
      "313/313 [==============================] - 0s 2ms/step - loss: 2.0704 - accuracy: 0.2025\n"
     ]
    }
   ],
   "source": [
    "results = model.evaluate(x_test, y_test)"
   ]
  },
  {
   "cell_type": "code",
   "execution_count": 13,
   "metadata": {
    "colab": {
     "base_uri": "https://localhost:8080/"
    },
    "executionInfo": {
     "elapsed": 313,
     "status": "ok",
     "timestamp": 1604684876500,
     "user": {
      "displayName": "Buomsoo Kim",
      "photoUrl": "",
      "userId": "18268696804115368229"
     },
     "user_tz": 420
    },
    "id": "qfGWjFVQiLnE",
    "outputId": "ea962a35-74ff-4d5c-f16e-458bdccf705c"
   },
   "outputs": [
    {
     "name": "stdout",
     "output_type": "stream",
     "text": [
      "['loss', 'accuracy']\n",
      "[2.070366382598877, 0.20250000059604645]\n"
     ]
    }
   ],
   "source": [
    "print(model.metrics_names)     # list of metric names the model is employing\n",
    "print(results)                 # actual figure of metrics computed"
   ]
  },
  {
   "cell_type": "code",
   "execution_count": 14,
   "metadata": {
    "colab": {
     "base_uri": "https://localhost:8080/"
    },
    "executionInfo": {
     "elapsed": 328,
     "status": "ok",
     "timestamp": 1604684878946,
     "user": {
      "displayName": "Buomsoo Kim",
      "photoUrl": "",
      "userId": "18268696804115368229"
     },
     "user_tz": 420
    },
    "id": "ViMt9l_7iLnH",
    "outputId": "f86d7092-f071-4173-aa16-d424aa198474"
   },
   "outputs": [
    {
     "name": "stdout",
     "output_type": "stream",
     "text": [
      "loss:  2.070366382598877\n",
      "accuracy:  0.20250000059604645\n"
     ]
    }
   ],
   "source": [
    "# printing out the results separately\n",
    "print('loss: ', results[0])\n",
    "print('accuracy: ', results[1])"
   ]
  }
 ],
 "metadata": {
  "colab": {
   "collapsed_sections": [],
   "name": "1-Basics-of-MLP.ipynb",
   "provenance": []
  },
  "kernelspec": {
   "display_name": "Python 3 (ipykernel)",
   "language": "python",
   "name": "python3"
  },
  "language_info": {
   "codemirror_mode": {
    "name": "ipython",
    "version": 3
   },
   "file_extension": ".py",
   "mimetype": "text/x-python",
   "name": "python",
   "nbconvert_exporter": "python",
   "pygments_lexer": "ipython3",
   "version": "3.7.16"
  }
 },
 "nbformat": 4,
 "nbformat_minor": 1
}
